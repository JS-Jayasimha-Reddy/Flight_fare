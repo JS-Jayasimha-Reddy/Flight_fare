{
 "cells": [
  {
   "cell_type": "markdown",
   "metadata": {},
   "source": [
    "## *Flight fare prediction*\n",
    "------------"
   ]
  },
  {
   "cell_type": "markdown",
   "metadata": {},
   "source": [
    "- Dataset acquired from [kaggle](https://www.kaggle.com/nikhilmittal/flight-fare-prediction-mh/)\n",
    "- The task at hand is to predict the price of the journey for a particular flight "
   ]
  },
  {
   "cell_type": "markdown",
   "metadata": {},
   "source": [
    "#### Importing the required libraries "
   ]
  },
  {
   "cell_type": "code",
   "execution_count": 5,
   "metadata": {
    "ExecuteTime": {
     "end_time": "2020-08-10T09:24:36.868514Z",
     "start_time": "2020-08-10T09:24:36.858504Z"
    }
   },
   "outputs": [],
   "source": [
    "import numpy as np\n",
    "import pandas as pd\n",
    "import matplotlib.pyplot as plt  \n",
    "import seaborn as sns\n",
    "from sklearn import metrics\n",
    "from sklearn.feature_extraction.text import CountVectorizer \n",
    "from sklearn.model_selection import train_test_split\n",
    "import warnings\n",
    "from prettytable import PrettyTable\n",
    "warnings.filterwarnings(\"ignore\")\n",
    "from sklearn.preprocessing import OrdinalEncoder\n",
    "from sklearn.preprocessing import Normalizer\n",
    "from sklearn.ensemble import RandomForestRegressor\n",
    "from sklearn.neighbors import KNeighborsRegressor\n",
    "from sklearn.ensemble import GradientBoostingRegressor\n",
    "from sklearn.model_selection import RandomizedSearchCV"
   ]
  },
  {
   "cell_type": "markdown",
   "metadata": {},
   "source": [
    "#### Loading the dataset "
   ]
  },
  {
   "cell_type": "code",
   "execution_count": 6,
   "metadata": {
    "ExecuteTime": {
     "end_time": "2020-08-10T09:24:40.814331Z",
     "start_time": "2020-08-10T09:24:38.530221Z"
    }
   },
   "outputs": [],
   "source": [
    "data=pd.read_excel(\"Data_Train.xlsx\")"
   ]
  },
  {
   "cell_type": "markdown",
   "metadata": {},
   "source": [
    "#### Understanding the data at hand"
   ]
  },
  {
   "cell_type": "code",
   "execution_count": 7,
   "metadata": {
    "ExecuteTime": {
     "end_time": "2020-08-10T09:24:40.821334Z",
     "start_time": "2020-08-10T09:24:40.816331Z"
    }
   },
   "outputs": [
    {
     "data": {
      "text/plain": [
       "(10683, 11)"
      ]
     },
     "execution_count": 7,
     "metadata": {},
     "output_type": "execute_result"
    }
   ],
   "source": [
    "data.shape"
   ]
  },
  {
   "cell_type": "code",
   "execution_count": 8,
   "metadata": {
    "ExecuteTime": {
     "end_time": "2020-08-10T09:24:40.971935Z",
     "start_time": "2020-08-10T09:24:40.824336Z"
    }
   },
   "outputs": [
    {
     "data": {
      "text/html": [
       "<div>\n",
       "<style scoped>\n",
       "    .dataframe tbody tr th:only-of-type {\n",
       "        vertical-align: middle;\n",
       "    }\n",
       "\n",
       "    .dataframe tbody tr th {\n",
       "        vertical-align: top;\n",
       "    }\n",
       "\n",
       "    .dataframe thead th {\n",
       "        text-align: right;\n",
       "    }\n",
       "</style>\n",
       "<table border=\"1\" class=\"dataframe\">\n",
       "  <thead>\n",
       "    <tr style=\"text-align: right;\">\n",
       "      <th></th>\n",
       "      <th>Airline</th>\n",
       "      <th>Date_of_Journey</th>\n",
       "      <th>Source</th>\n",
       "      <th>Destination</th>\n",
       "      <th>Route</th>\n",
       "      <th>Dep_Time</th>\n",
       "      <th>Arrival_Time</th>\n",
       "      <th>Duration</th>\n",
       "      <th>Total_Stops</th>\n",
       "      <th>Additional_Info</th>\n",
       "      <th>Price</th>\n",
       "    </tr>\n",
       "  </thead>\n",
       "  <tbody>\n",
       "    <tr>\n",
       "      <th>0</th>\n",
       "      <td>IndiGo</td>\n",
       "      <td>24/03/2019</td>\n",
       "      <td>Banglore</td>\n",
       "      <td>New Delhi</td>\n",
       "      <td>BLR → DEL</td>\n",
       "      <td>22:20</td>\n",
       "      <td>01:10 22 Mar</td>\n",
       "      <td>2h 50m</td>\n",
       "      <td>non-stop</td>\n",
       "      <td>No info</td>\n",
       "      <td>3897</td>\n",
       "    </tr>\n",
       "    <tr>\n",
       "      <th>1</th>\n",
       "      <td>Air India</td>\n",
       "      <td>1/05/2019</td>\n",
       "      <td>Kolkata</td>\n",
       "      <td>Banglore</td>\n",
       "      <td>CCU → IXR → BBI → BLR</td>\n",
       "      <td>05:50</td>\n",
       "      <td>13:15</td>\n",
       "      <td>7h 25m</td>\n",
       "      <td>2 stops</td>\n",
       "      <td>No info</td>\n",
       "      <td>7662</td>\n",
       "    </tr>\n",
       "    <tr>\n",
       "      <th>2</th>\n",
       "      <td>Jet Airways</td>\n",
       "      <td>9/06/2019</td>\n",
       "      <td>Delhi</td>\n",
       "      <td>Cochin</td>\n",
       "      <td>DEL → LKO → BOM → COK</td>\n",
       "      <td>09:25</td>\n",
       "      <td>04:25 10 Jun</td>\n",
       "      <td>19h</td>\n",
       "      <td>2 stops</td>\n",
       "      <td>No info</td>\n",
       "      <td>13882</td>\n",
       "    </tr>\n",
       "    <tr>\n",
       "      <th>3</th>\n",
       "      <td>IndiGo</td>\n",
       "      <td>12/05/2019</td>\n",
       "      <td>Kolkata</td>\n",
       "      <td>Banglore</td>\n",
       "      <td>CCU → NAG → BLR</td>\n",
       "      <td>18:05</td>\n",
       "      <td>23:30</td>\n",
       "      <td>5h 25m</td>\n",
       "      <td>1 stop</td>\n",
       "      <td>No info</td>\n",
       "      <td>6218</td>\n",
       "    </tr>\n",
       "    <tr>\n",
       "      <th>4</th>\n",
       "      <td>IndiGo</td>\n",
       "      <td>01/03/2019</td>\n",
       "      <td>Banglore</td>\n",
       "      <td>New Delhi</td>\n",
       "      <td>BLR → NAG → DEL</td>\n",
       "      <td>16:50</td>\n",
       "      <td>21:35</td>\n",
       "      <td>4h 45m</td>\n",
       "      <td>1 stop</td>\n",
       "      <td>No info</td>\n",
       "      <td>13302</td>\n",
       "    </tr>\n",
       "  </tbody>\n",
       "</table>\n",
       "</div>"
      ],
      "text/plain": [
       "       Airline Date_of_Journey    Source Destination                  Route  \\\n",
       "0       IndiGo      24/03/2019  Banglore   New Delhi              BLR → DEL   \n",
       "1    Air India       1/05/2019   Kolkata    Banglore  CCU → IXR → BBI → BLR   \n",
       "2  Jet Airways       9/06/2019     Delhi      Cochin  DEL → LKO → BOM → COK   \n",
       "3       IndiGo      12/05/2019   Kolkata    Banglore        CCU → NAG → BLR   \n",
       "4       IndiGo      01/03/2019  Banglore   New Delhi        BLR → NAG → DEL   \n",
       "\n",
       "  Dep_Time  Arrival_Time Duration Total_Stops Additional_Info  Price  \n",
       "0    22:20  01:10 22 Mar   2h 50m    non-stop         No info   3897  \n",
       "1    05:50         13:15   7h 25m     2 stops         No info   7662  \n",
       "2    09:25  04:25 10 Jun      19h     2 stops         No info  13882  \n",
       "3    18:05         23:30   5h 25m      1 stop         No info   6218  \n",
       "4    16:50         21:35   4h 45m      1 stop         No info  13302  "
      ]
     },
     "execution_count": 8,
     "metadata": {},
     "output_type": "execute_result"
    }
   ],
   "source": [
    "data.head()"
   ]
  },
  {
   "cell_type": "markdown",
   "metadata": {},
   "source": [
    "- We have 11 columns with 10 independent features and 1 dependent feature\n",
    "- There are a total of 10683 data points\n",
    "---------------"
   ]
  },
  {
   "cell_type": "code",
   "execution_count": 9,
   "metadata": {
    "ExecuteTime": {
     "end_time": "2020-08-10T09:24:41.394526Z",
     "start_time": "2020-08-10T09:24:41.384517Z"
    }
   },
   "outputs": [
    {
     "data": {
      "text/plain": [
       "Delhi       4537\n",
       "Kolkata     2871\n",
       "Banglore    2197\n",
       "Mumbai       697\n",
       "Chennai      381\n",
       "Name: Source, dtype: int64"
      ]
     },
     "execution_count": 9,
     "metadata": {},
     "output_type": "execute_result"
    }
   ],
   "source": [
    "data[\"Source\"].value_counts()"
   ]
  },
  {
   "cell_type": "code",
   "execution_count": 10,
   "metadata": {
    "ExecuteTime": {
     "end_time": "2020-08-10T09:24:41.870268Z",
     "start_time": "2020-08-10T09:24:41.859262Z"
    }
   },
   "outputs": [
    {
     "data": {
      "text/plain": [
       "Cochin       4537\n",
       "Banglore     2871\n",
       "Delhi        1265\n",
       "New Delhi     932\n",
       "Hyderabad     697\n",
       "Kolkata       381\n",
       "Name: Destination, dtype: int64"
      ]
     },
     "execution_count": 10,
     "metadata": {},
     "output_type": "execute_result"
    }
   ],
   "source": [
    "data[\"Destination\"].value_counts()"
   ]
  },
  {
   "cell_type": "markdown",
   "metadata": {},
   "source": [
    "- We have 5 unique values in source and 6 in destination\n",
    "- There is Delhi and New Delhi in the destination column\n",
    "- Different airlines use both the names interchangeably,usually referring to the same airport\n",
    "- Hence it's safe to rename either one as the other \n",
    "------------"
   ]
  },
  {
   "cell_type": "code",
   "execution_count": 11,
   "metadata": {
    "ExecuteTime": {
     "end_time": "2020-08-10T09:24:42.897656Z",
     "start_time": "2020-08-10T09:24:42.891653Z"
    }
   },
   "outputs": [],
   "source": [
    "data[\"Destination\"]= data[\"Destination\"].replace(\"New Delhi\", \"Delhi\") "
   ]
  },
  {
   "cell_type": "code",
   "execution_count": 12,
   "metadata": {
    "ExecuteTime": {
     "end_time": "2020-08-10T09:24:43.701520Z",
     "start_time": "2020-08-10T09:24:43.689510Z"
    }
   },
   "outputs": [
    {
     "data": {
      "text/plain": [
       "Cochin       4537\n",
       "Banglore     2871\n",
       "Delhi        2197\n",
       "Hyderabad     697\n",
       "Kolkata       381\n",
       "Name: Destination, dtype: int64"
      ]
     },
     "execution_count": 12,
     "metadata": {},
     "output_type": "execute_result"
    }
   ],
   "source": [
    "data[\"Destination\"].value_counts()"
   ]
  },
  {
   "cell_type": "code",
   "execution_count": 13,
   "metadata": {
    "ExecuteTime": {
     "end_time": "2020-08-10T09:24:44.378430Z",
     "start_time": "2020-08-10T09:24:44.369422Z"
    }
   },
   "outputs": [
    {
     "data": {
      "text/plain": [
       "Jet Airways                          3849\n",
       "IndiGo                               2053\n",
       "Air India                            1752\n",
       "Multiple carriers                    1196\n",
       "SpiceJet                              818\n",
       "Vistara                               479\n",
       "Air Asia                              319\n",
       "GoAir                                 194\n",
       "Multiple carriers Premium economy      13\n",
       "Jet Airways Business                    6\n",
       "Vistara Premium economy                 3\n",
       "Trujet                                  1\n",
       "Name: Airline, dtype: int64"
      ]
     },
     "execution_count": 13,
     "metadata": {},
     "output_type": "execute_result"
    }
   ],
   "source": [
    "data[\"Airline\"].value_counts()"
   ]
  },
  {
   "cell_type": "markdown",
   "metadata": {},
   "source": [
    "- There are 12 airlines that are considered in the dataset, some having only a few points "
   ]
  },
  {
   "cell_type": "code",
   "execution_count": 14,
   "metadata": {
    "ExecuteTime": {
     "end_time": "2020-08-10T09:24:45.497339Z",
     "start_time": "2020-08-10T09:24:45.488334Z"
    }
   },
   "outputs": [
    {
     "data": {
      "text/plain": [
       "No info                         8345\n",
       "In-flight meal not included     1982\n",
       "No check-in baggage included     320\n",
       "1 Long layover                    19\n",
       "Change airports                    7\n",
       "Business class                     4\n",
       "No Info                            3\n",
       "1 Short layover                    1\n",
       "Red-eye flight                     1\n",
       "2 Long layover                     1\n",
       "Name: Additional_Info, dtype: int64"
      ]
     },
     "execution_count": 14,
     "metadata": {},
     "output_type": "execute_result"
    }
   ],
   "source": [
    "data[\"Additional_Info\"].value_counts()"
   ]
  },
  {
   "cell_type": "markdown",
   "metadata": {},
   "source": [
    "- Most of the points are \"No Info\" \n",
    "- Its is probably a good idea to drop this column as we are bound to not get much value"
   ]
  },
  {
   "cell_type": "markdown",
   "metadata": {},
   "source": [
    "-----"
   ]
  },
  {
   "cell_type": "markdown",
   "metadata": {},
   "source": [
    "#### Checking for null values"
   ]
  },
  {
   "cell_type": "code",
   "execution_count": 15,
   "metadata": {
    "ExecuteTime": {
     "end_time": "2020-08-10T09:24:47.218735Z",
     "start_time": "2020-08-10T09:24:47.200726Z"
    }
   },
   "outputs": [
    {
     "data": {
      "text/plain": [
       "Airline            0\n",
       "Date_of_Journey    0\n",
       "Source             0\n",
       "Destination        0\n",
       "Route              1\n",
       "Dep_Time           0\n",
       "Arrival_Time       0\n",
       "Duration           0\n",
       "Total_Stops        1\n",
       "Additional_Info    0\n",
       "Price              0\n",
       "dtype: int64"
      ]
     },
     "execution_count": 15,
     "metadata": {},
     "output_type": "execute_result"
    }
   ],
   "source": [
    "data.isnull().sum()"
   ]
  },
  {
   "cell_type": "code",
   "execution_count": 16,
   "metadata": {
    "ExecuteTime": {
     "end_time": "2020-08-10T09:24:48.288399Z",
     "start_time": "2020-08-10T09:24:48.281396Z"
    }
   },
   "outputs": [
    {
     "data": {
      "text/plain": [
       "True"
      ]
     },
     "execution_count": 16,
     "metadata": {},
     "output_type": "execute_result"
    }
   ],
   "source": [
    "data[\"Route\"].isnull().values.any()"
   ]
  },
  {
   "cell_type": "code",
   "execution_count": 17,
   "metadata": {
    "ExecuteTime": {
     "end_time": "2020-08-10T09:24:48.728970Z",
     "start_time": "2020-08-10T09:24:48.721966Z"
    }
   },
   "outputs": [
    {
     "data": {
      "text/plain": [
       "True"
      ]
     },
     "execution_count": 17,
     "metadata": {},
     "output_type": "execute_result"
    }
   ],
   "source": [
    "data[\"Total_Stops\"].isnull().values.any()"
   ]
  },
  {
   "cell_type": "code",
   "execution_count": 18,
   "metadata": {
    "ExecuteTime": {
     "end_time": "2020-08-10T09:24:49.160082Z",
     "start_time": "2020-08-10T09:24:49.138061Z"
    }
   },
   "outputs": [],
   "source": [
    "data.dropna(inplace=True)"
   ]
  },
  {
   "cell_type": "code",
   "execution_count": 19,
   "metadata": {
    "ExecuteTime": {
     "end_time": "2020-08-10T09:24:49.562460Z",
     "start_time": "2020-08-10T09:24:49.545452Z"
    }
   },
   "outputs": [
    {
     "data": {
      "text/plain": [
       "Airline            0\n",
       "Date_of_Journey    0\n",
       "Source             0\n",
       "Destination        0\n",
       "Route              0\n",
       "Dep_Time           0\n",
       "Arrival_Time       0\n",
       "Duration           0\n",
       "Total_Stops        0\n",
       "Additional_Info    0\n",
       "Price              0\n",
       "dtype: int64"
      ]
     },
     "execution_count": 19,
     "metadata": {},
     "output_type": "execute_result"
    }
   ],
   "source": [
    "data.isnull().sum()"
   ]
  },
  {
   "cell_type": "code",
   "execution_count": 20,
   "metadata": {
    "ExecuteTime": {
     "end_time": "2020-08-10T09:24:50.126157Z",
     "start_time": "2020-08-10T09:24:50.121152Z"
    }
   },
   "outputs": [
    {
     "data": {
      "text/plain": [
       "(10682, 11)"
      ]
     },
     "execution_count": 20,
     "metadata": {},
     "output_type": "execute_result"
    }
   ],
   "source": [
    "data.shape"
   ]
  },
  {
   "cell_type": "markdown",
   "metadata": {},
   "source": [
    "- There are only 2 null values and both in the same row\n",
    "- Hence, we can confidently drop the row\n",
    "---------"
   ]
  },
  {
   "cell_type": "markdown",
   "metadata": {},
   "source": [
    "### EDA-Exploratory data analysis"
   ]
  },
  {
   "cell_type": "markdown",
   "metadata": {},
   "source": [
    "#### Checking if Airline affects the price"
   ]
  },
  {
   "cell_type": "code",
   "execution_count": 21,
   "metadata": {
    "ExecuteTime": {
     "end_time": "2020-08-10T09:24:52.616242Z",
     "start_time": "2020-08-10T09:24:52.037251Z"
    }
   },
   "outputs": [
    {
     "data": {
      "text/plain": [
       "<function matplotlib.pyplot.plot(*args, scalex=True, scaley=True, data=None, **kwargs)>"
      ]
     },
     "execution_count": 21,
     "metadata": {},
     "output_type": "execute_result"
    },
    {
     "data": {
      "image/png": "[encoded data removed]",
      "text/plain": [
       "<Figure size 1080x576 with 1 Axes>"
      ]
     },
     "metadata": {
      "needs_background": "light"
     },
     "output_type": "display_data"
    }
   ],
   "source": [
    "fig_dims = (15, 8)\n",
    "fig, ax = plt.subplots(figsize=fig_dims)\n",
    "sns.set(style=\"whitegrid\")\n",
    "violin = sns.violinplot(x=\"Airline\", y=\"Price\", data=data)\n",
    "plt.xticks(rotation=45)\n",
    "plt.title(\"Violinplot for prices\")\n",
    "plt.plot"
   ]
  },
  {
   "cell_type": "markdown",
   "metadata": {},
   "source": [
    "- With the violin plot,we can observe different airline affect the price. \n",
    "- Jet Airways Business is being priced higher than normal\n",
    "- That might be an outlier or as seen at the beginning Jet Airways Business has very few points which might make it biased "
   ]
  },
  {
   "cell_type": "code",
   "execution_count": 22,
   "metadata": {
    "ExecuteTime": {
     "end_time": "2020-08-10T09:24:54.456452Z",
     "start_time": "2020-08-10T09:24:54.448451Z"
    }
   },
   "outputs": [],
   "source": [
    "z=data.groupby(['Airline'])['Price'].mean()  #looking at the average of the prices for airlines\n",
    "xx=list(z)"
   ]
  },
  {
   "cell_type": "code",
   "execution_count": 23,
   "metadata": {
    "ExecuteTime": {
     "end_time": "2020-08-10T09:24:54.832285Z",
     "start_time": "2020-08-10T09:24:54.826283Z"
    }
   },
   "outputs": [],
   "source": [
    "g=list(data.Airline.unique())"
   ]
  },
  {
   "cell_type": "code",
   "execution_count": 24,
   "metadata": {
    "ExecuteTime": {
     "end_time": "2020-08-10T09:24:55.267753Z",
     "start_time": "2020-08-10T09:24:55.259746Z"
    }
   },
   "outputs": [
    {
     "name": "stdout",
     "output_type": "stream",
     "text": [
      "['Air Asia', 'Air India', 'GoAir', 'IndiGo', 'Jet Airways', 'Jet Airways Business', 'Multiple carriers', 'Multiple carriers Premium economy', 'SpiceJet', 'Trujet', 'Vistara', 'Vistara Premium economy']\n"
     ]
    }
   ],
   "source": [
    "g.sort()\n",
    "print(g)"
   ]
  },
  {
   "cell_type": "code",
   "execution_count": 25,
   "metadata": {
    "ExecuteTime": {
     "end_time": "2020-08-10T09:24:56.260194Z",
     "start_time": "2020-08-10T09:24:55.691903Z"
    }
   },
   "outputs": [
    {
     "data": {
      "text/plain": [
       "<function matplotlib.pyplot.plot(*args, scalex=True, scaley=True, data=None, **kwargs)>"
      ]
     },
     "execution_count": 25,
     "metadata": {},
     "output_type": "execute_result"
    },
    {
     "data": {
      "image/png": "[encoded data removed]",
      "text/plain": [
       "<Figure size 1080x576 with 1 Axes>"
      ]
     },
     "metadata": {},
     "output_type": "display_data"
    }
   ],
   "source": [
    "fig_dims = (15, 8)\n",
    "fig, ax = plt.subplots(figsize=fig_dims)\n",
    "sns.set(style=\"whitegrid\")\n",
    "ax = sns.barplot(x=g, y=xx,ax=ax)\n",
    "plt.xticks(rotation=45)\n",
    "plt.xlabel(\"Airlines\")\n",
    "plt.ylabel(\"Average of price\")\n",
    "plt.title(\"Barplot for Airlines\")\n",
    "plt.plot"
   ]
  },
  {
   "cell_type": "markdown",
   "metadata": {},
   "source": [
    "- There is a good chance that Jet Airways Business has an outlier \n",
    "- Since there are only 3 data points for the same , we will drop Jet Airways Business"
   ]
  },
  {
   "cell_type": "code",
   "execution_count": 26,
   "metadata": {
    "ExecuteTime": {
     "end_time": "2020-08-10T09:24:58.300770Z",
     "start_time": "2020-08-10T09:24:58.288760Z"
    }
   },
   "outputs": [],
   "source": [
    "indexNames1 = data[data['Airline'] == \"Jet Airways Business\" ].index\n",
    "\n",
    "data.drop(indexNames1 , inplace=True)"
   ]
  },
  {
   "cell_type": "markdown",
   "metadata": {},
   "source": [
    "----------"
   ]
  },
  {
   "cell_type": "markdown",
   "metadata": {},
   "source": [
    "#### Checking if Source and Destination affects the price"
   ]
  },
  {
   "cell_type": "code",
   "execution_count": 27,
   "metadata": {
    "ExecuteTime": {
     "end_time": "2020-08-10T09:24:59.899083Z",
     "start_time": "2020-08-10T09:24:59.441745Z"
    }
   },
   "outputs": [
    {
     "data": {
      "text/plain": [
       "<function matplotlib.pyplot.plot(*args, scalex=True, scaley=True, data=None, **kwargs)>"
      ]
     },
     "execution_count": 27,
     "metadata": {},
     "output_type": "execute_result"
    },
    {
     "data": {
      "image/png": "[encoded data removed]",
      "text/plain": [
       "<Figure size 1080x576 with 1 Axes>"
      ]
     },
     "metadata": {},
     "output_type": "display_data"
    }
   ],
   "source": [
    "ig_dims = (15, 8)\n",
    "fig, ax = plt.subplots(figsize=fig_dims)\n",
    "sns.set(style=\"whitegrid\")\n",
    "violin = sns.boxplot(x=\"Source\", y=\"Price\", data=data)\n",
    "plt.xticks(rotation=45)\n",
    "plt.title(\"boxplot for source\")\n",
    "plt.plot"
   ]
  },
  {
   "cell_type": "code",
   "execution_count": 28,
   "metadata": {
    "ExecuteTime": {
     "end_time": "2020-08-10T09:25:01.305090Z",
     "start_time": "2020-08-10T09:25:00.897644Z"
    }
   },
   "outputs": [
    {
     "data": {
      "text/plain": [
       "<function matplotlib.pyplot.plot(*args, scalex=True, scaley=True, data=None, **kwargs)>"
      ]
     },
     "execution_count": 28,
     "metadata": {},
     "output_type": "execute_result"
    },
    {
     "data": {
      "image/png": "[encoded data removed]",
      "text/plain": [
       "<Figure size 1080x576 with 1 Axes>"
      ]
     },
     "metadata": {},
     "output_type": "display_data"
    }
   ],
   "source": [
    "ig_dims = (15, 8)\n",
    "fig, ax = plt.subplots(figsize=fig_dims)\n",
    "sns.set(style=\"whitegrid\")\n",
    "violin = sns.boxplot(x=\"Destination\", y=\"Price\", data=data)\n",
    "plt.xticks(rotation=45)\n",
    "plt.title(\"boxplot for destination\")\n",
    "plt.plot"
   ]
  },
  {
   "cell_type": "markdown",
   "metadata": {},
   "source": [
    "- Using the box plot , the difference in price for each source is notecible \n",
    "- The 50th percentile for each source is considerably different \n",
    "- The same observation can be made with destination"
   ]
  },
  {
   "cell_type": "markdown",
   "metadata": {},
   "source": [
    "#### Checking if total stops affect the price"
   ]
  },
  {
   "cell_type": "code",
   "execution_count": 29,
   "metadata": {
    "ExecuteTime": {
     "end_time": "2020-08-10T09:25:03.018028Z",
     "start_time": "2020-08-10T09:25:02.625491Z"
    }
   },
   "outputs": [
    {
     "data": {
      "text/plain": [
       "<function matplotlib.pyplot.plot(*args, scalex=True, scaley=True, data=None, **kwargs)>"
      ]
     },
     "execution_count": 29,
     "metadata": {},
     "output_type": "execute_result"
    },
    {
     "data": {
      "image/png": "[encoded data removed]",
      "text/plain": [
       "<Figure size 1080x576 with 1 Axes>"
      ]
     },
     "metadata": {},
     "output_type": "display_data"
    }
   ],
   "source": [
    "ig_dims = (15, 8)\n",
    "fig, ax = plt.subplots(figsize=fig_dims)\n",
    "sns.set(style=\"whitegrid\")\n",
    "violin = sns.boxplot(x=\"Total_Stops\", y=\"Price\", data=data)\n",
    "plt.xticks(rotation=45)\n",
    "plt.title(\"Boxplot for total stops\")\n",
    "plt.plot"
   ]
  },
  {
   "cell_type": "markdown",
   "metadata": {},
   "source": [
    "- As observed above, total stops also affect the price "
   ]
  },
  {
   "cell_type": "markdown",
   "metadata": {},
   "source": [
    "### Featurization (Numerical Data)"
   ]
  },
  {
   "cell_type": "markdown",
   "metadata": {},
   "source": [
    "#### Extracting the day and the month from Date_of_Journey column"
   ]
  },
  {
   "cell_type": "code",
   "execution_count": 30,
   "metadata": {
    "ExecuteTime": {
     "end_time": "2020-08-10T09:25:05.714069Z",
     "start_time": "2020-08-10T09:25:05.689050Z"
    }
   },
   "outputs": [],
   "source": [
    "data[\"day_of_journey\"]=pd.to_datetime(data[\"Date_of_Journey\"],format=\"%d/%m/%Y\").dt.day\n",
    "data[\"month_of_journey\"]=pd.to_datetime(data[\"Date_of_Journey\"],format=\"%d/%m/%Y\").dt.month"
   ]
  },
  {
   "cell_type": "markdown",
   "metadata": {},
   "source": [
    "- Here we are getting the exact month and the day using the datetime library"
   ]
  },
  {
   "cell_type": "code",
   "execution_count": 31,
   "metadata": {
    "ExecuteTime": {
     "end_time": "2020-08-10T09:25:06.861523Z",
     "start_time": "2020-08-10T09:25:06.850522Z"
    }
   },
   "outputs": [],
   "source": [
    "data.drop([\"Date_of_Journey\"],axis=1,inplace=True) #dropping the column sice we have derived the necessary information"
   ]
  },
  {
   "cell_type": "markdown",
   "metadata": {},
   "source": [
    "----------"
   ]
  },
  {
   "cell_type": "markdown",
   "metadata": {},
   "source": [
    "#### Extracting the hour and minute from departure time "
   ]
  },
  {
   "cell_type": "code",
   "execution_count": 32,
   "metadata": {
    "ExecuteTime": {
     "end_time": "2020-08-10T09:25:08.215956Z",
     "start_time": "2020-08-10T09:25:08.160915Z"
    }
   },
   "outputs": [],
   "source": [
    "data[\"dep_hour\"]=pd.to_datetime(data[\"Dep_Time\"]).dt.hour\n",
    "data[\"dep_min\"]=pd.to_datetime(data[\"Dep_Time\"]).dt.minute"
   ]
  },
  {
   "cell_type": "code",
   "execution_count": 33,
   "metadata": {
    "ExecuteTime": {
     "end_time": "2020-08-10T09:25:09.002422Z",
     "start_time": "2020-08-10T09:25:08.993226Z"
    }
   },
   "outputs": [],
   "source": [
    "data.drop([\"Dep_Time\"],axis=1,inplace=True) #dropping the column"
   ]
  },
  {
   "cell_type": "code",
   "execution_count": 34,
   "metadata": {
    "ExecuteTime": {
     "end_time": "2020-08-10T09:25:09.858169Z",
     "start_time": "2020-08-10T09:25:09.849164Z"
    }
   },
   "outputs": [],
   "source": [
    "data.drop([\"Duration\"],axis=1,inplace=True)\n",
    "data.drop([\"Arrival_Time\"],axis=1,inplace=True) "
   ]
  },
  {
   "cell_type": "markdown",
   "metadata": {},
   "source": [
    "- Dropping duration and arrival time as they don't really add any value to the app that we are going to deploy "
   ]
  },
  {
   "cell_type": "markdown",
   "metadata": {},
   "source": [
    "---------"
   ]
  },
  {
   "cell_type": "markdown",
   "metadata": {},
   "source": [
    "#### Getting total time travelled"
   ]
  },
  {
   "cell_type": "markdown",
   "metadata": {},
   "source": [
    "#### Dropping additional info and route"
   ]
  },
  {
   "cell_type": "code",
   "execution_count": 36,
   "metadata": {
    "ExecuteTime": {
     "end_time": "2020-08-10T09:25:59.271712Z",
     "start_time": "2020-08-10T09:25:59.264706Z"
    }
   },
   "outputs": [],
   "source": [
    "data.drop([\"Route\", \"Additional_Info\"], axis = 1, inplace = True)"
   ]
  },
  {
   "cell_type": "markdown",
   "metadata": {},
   "source": [
    "- As seen above Additional info has \"no info\" for mist of the points \n",
    "- The route column gives the same information as the total stops\n",
    "- Hence , we are dropping both these columns"
   ]
  },
  {
   "cell_type": "markdown",
   "metadata": {},
   "source": [
    "### Categorical data"
   ]
  },
  {
   "cell_type": "markdown",
   "metadata": {},
   "source": [
    "#### Featurising total stops"
   ]
  },
  {
   "cell_type": "code",
   "execution_count": 37,
   "metadata": {
    "ExecuteTime": {
     "end_time": "2020-08-10T09:26:03.557886Z",
     "start_time": "2020-08-10T09:26:03.522864Z"
    }
   },
   "outputs": [],
   "source": [
    "data.replace({\"non-stop\": 0, \"1 stop\": 1, \"2 stops\": 2, \"3 stops\": 3, \"4 stops\": 4}, inplace = True)"
   ]
  },
  {
   "cell_type": "markdown",
   "metadata": {},
   "source": [
    "- Since total stops is a **Categorical Ordinal data**, we are going assign the stops their respective numbers\n",
    "- This is an easier way to featurize this as there are only 5 types of stops"
   ]
  },
  {
   "cell_type": "markdown",
   "metadata": {},
   "source": [
    "#### Featurising Airline"
   ]
  },
  {
   "cell_type": "code",
   "execution_count": 38,
   "metadata": {
    "ExecuteTime": {
     "end_time": "2020-08-10T09:26:05.700903Z",
     "start_time": "2020-08-10T09:26:05.685894Z"
    }
   },
   "outputs": [],
   "source": [
    "air_train = data[[\"Airline\"]]\n",
    "air_train = pd.get_dummies(air_train, drop_first = True) #featurising Airline by creating dummy variable\n",
    "data.drop([\"Airline\"],axis=1,inplace=True)"
   ]
  },
  {
   "cell_type": "markdown",
   "metadata": {},
   "source": [
    "#### Featurising source"
   ]
  },
  {
   "cell_type": "code",
   "execution_count": 39,
   "metadata": {
    "ExecuteTime": {
     "end_time": "2020-08-10T09:26:06.598988Z",
     "start_time": "2020-08-10T09:26:06.582979Z"
    }
   },
   "outputs": [],
   "source": [
    "source_train = data[[\"Source\"]]\n",
    "source_train = pd.get_dummies(source_train, drop_first = True)\n",
    "data.drop([\"Source\"],axis=1,inplace=True)           "
   ]
  },
  {
   "cell_type": "markdown",
   "metadata": {},
   "source": [
    "#### Featurusing destination"
   ]
  },
  {
   "cell_type": "code",
   "execution_count": 40,
   "metadata": {
    "ExecuteTime": {
     "end_time": "2020-08-10T09:26:07.590016Z",
     "start_time": "2020-08-10T09:26:07.575827Z"
    }
   },
   "outputs": [],
   "source": [
    "dest_train = data[[\"Destination\"]]\n",
    "dest_train = pd.get_dummies(dest_train,drop_first = True)\n",
    "data.drop([\"Destination\"],axis=1,inplace=True)"
   ]
  },
  {
   "cell_type": "markdown",
   "metadata": {},
   "source": [
    "- Airline,source and destination are **Categorical Nominal data**,Hence using the dummy variable feature from pandas\n",
    "- Care is taken to avoid the dummy variable trap by dropping the first variable"
   ]
  },
  {
   "cell_type": "markdown",
   "metadata": {},
   "source": [
    "-------"
   ]
  },
  {
   "cell_type": "markdown",
   "metadata": {},
   "source": [
    "## Modelling"
   ]
  },
  {
   "cell_type": "markdown",
   "metadata": {},
   "source": [
    "#### Merging"
   ]
  },
  {
   "cell_type": "code",
   "execution_count": 41,
   "metadata": {
    "ExecuteTime": {
     "end_time": "2020-08-10T09:26:09.821873Z",
     "start_time": "2020-08-10T09:26:09.815868Z"
    }
   },
   "outputs": [],
   "source": [
    "x_tr=pd.concat([data, air_train, source_train, dest_train], axis = 1) #merging all the features "
   ]
  },
  {
   "cell_type": "code",
   "execution_count": 42,
   "metadata": {
    "ExecuteTime": {
     "end_time": "2020-08-10T09:26:10.575321Z",
     "start_time": "2020-08-10T09:26:10.568317Z"
    }
   },
   "outputs": [],
   "source": [
    "y = x_tr['Price'].values #seperating the dependent feature \n",
    "X = x_tr.drop(['Price'], axis=1)"
   ]
  },
  {
   "cell_type": "code",
   "execution_count": 43,
   "metadata": {
    "ExecuteTime": {
     "end_time": "2020-08-10T09:26:11.609744Z",
     "start_time": "2020-08-10T09:26:11.600737Z"
    }
   },
   "outputs": [],
   "source": [
    "X_train, X_test, y_train, y_test = train_test_split(X, y, test_size=0.25,random_state=42) #data is split in to train and test"
   ]
  },
  {
   "cell_type": "code",
   "execution_count": 44,
   "metadata": {
    "ExecuteTime": {
     "end_time": "2020-08-10T09:26:12.098012Z",
     "start_time": "2020-08-10T09:26:12.094010Z"
    }
   },
   "outputs": [
    {
     "name": "stdout",
     "output_type": "stream",
     "text": [
      "(8007, 23)\n",
      "(2669, 23)\n"
     ]
    }
   ],
   "source": [
    "print(X_train.shape)\n",
    "print(X_test.shape)"
   ]
  },
  {
   "cell_type": "markdown",
   "metadata": {},
   "source": [
    "- The train data now contains 8007 points with 26 features \n",
    "- Test data contains 2669 points with same 26 features "
   ]
  },
  {
   "cell_type": "markdown",
   "metadata": {},
   "source": [
    "#### Model 1--KNN"
   ]
  },
  {
   "cell_type": "markdown",
   "metadata": {},
   "source": [
    "##### Hyperparameter tuning"
   ]
  },
  {
   "cell_type": "code",
   "execution_count": 45,
   "metadata": {
    "ExecuteTime": {
     "end_time": "2020-08-10T09:26:14.804688Z",
     "start_time": "2020-08-10T09:26:14.799681Z"
    }
   },
   "outputs": [],
   "source": [
    "knnparams = {'n_neighbors':[7,10,12,15,20,20],\n",
    "          'leaf_size':[1,2,3,5],\n",
    "          'weights':['uniform', 'distance'],                  #Setting up the parameters for randomsearch model\n",
    "          'algorithm':['auto', 'ball_tree','kd_tree','brute'],\n",
    "          'n_jobs':[-1]}"
   ]
  },
  {
   "cell_type": "code",
   "execution_count": 46,
   "metadata": {
    "ExecuteTime": {
     "end_time": "2020-08-10T09:26:15.643222Z",
     "start_time": "2020-08-10T09:26:15.640222Z"
    }
   },
   "outputs": [],
   "source": [
    "model1=KNeighborsRegressor()  #initiating the base model for hyperparameter tuning"
   ]
  },
  {
   "cell_type": "code",
   "execution_count": 47,
   "metadata": {
    "ExecuteTime": {
     "end_time": "2020-08-10T09:26:16.052434Z",
     "start_time": "2020-08-10T09:26:16.048433Z"
    }
   },
   "outputs": [],
   "source": [
    "#Hyperparameter tuning using Ramdomsearch\n",
    "knnrand = RandomizedSearchCV(estimator=model1, param_distributions=knnparams,scoring='neg_mean_squared_error', n_iter = 10, cv = 5, verbose=2, random_state=42, n_jobs = 1)"
   ]
  },
  {
   "cell_type": "code",
   "execution_count": 48,
   "metadata": {
    "ExecuteTime": {
     "end_time": "2020-08-10T09:26:28.646763Z",
     "start_time": "2020-08-10T09:26:16.670517Z"
    }
   },
   "outputs": [
    {
     "name": "stdout",
     "output_type": "stream",
     "text": [
      "Fitting 5 folds for each of 10 candidates, totalling 50 fits\n",
      "[CV] weights=distance, n_neighbors=20, n_jobs=-1, leaf_size=5, algorithm=auto \n"
     ]
    },
    {
     "name": "stderr",
     "output_type": "stream",
     "text": [
      "[Parallel(n_jobs=1)]: Using backend SequentialBackend with 1 concurrent workers.\n"
     ]
    },
    {
     "name": "stdout",
     "output_type": "stream",
     "text": [
      "[CV]  weights=distance, n_neighbors=20, n_jobs=-1, leaf_size=5, algorithm=auto, total=   1.8s\n",
      "[CV] weights=distance, n_neighbors=20, n_jobs=-1, leaf_size=5, algorithm=auto \n",
      "[CV]  weights=distance, n_neighbors=20, n_jobs=-1, leaf_size=5, algorithm=auto, total=   0.2s\n",
      "[CV] weights=distance, n_neighbors=20, n_jobs=-1, leaf_size=5, algorithm=auto \n"
     ]
    },
    {
     "name": "stderr",
     "output_type": "stream",
     "text": [
      "[Parallel(n_jobs=1)]: Done   1 out of   1 | elapsed:    1.7s remaining:    0.0s\n"
     ]
    },
    {
     "name": "stdout",
     "output_type": "stream",
     "text": [
      "[CV]  weights=distance, n_neighbors=20, n_jobs=-1, leaf_size=5, algorithm=auto, total=   0.2s\n",
      "[CV] weights=distance, n_neighbors=20, n_jobs=-1, leaf_size=5, algorithm=auto \n",
      "[CV]  weights=distance, n_neighbors=20, n_jobs=-1, leaf_size=5, algorithm=auto, total=   0.2s\n",
      "[CV] weights=distance, n_neighbors=20, n_jobs=-1, leaf_size=5, algorithm=auto \n",
      "[CV]  weights=distance, n_neighbors=20, n_jobs=-1, leaf_size=5, algorithm=auto, total=   0.2s\n",
      "[CV] weights=uniform, n_neighbors=12, n_jobs=-1, leaf_size=5, algorithm=kd_tree \n",
      "[CV]  weights=uniform, n_neighbors=12, n_jobs=-1, leaf_size=5, algorithm=kd_tree, total=   0.1s\n",
      "[CV] weights=uniform, n_neighbors=12, n_jobs=-1, leaf_size=5, algorithm=kd_tree \n",
      "[CV]  weights=uniform, n_neighbors=12, n_jobs=-1, leaf_size=5, algorithm=kd_tree, total=   0.1s\n",
      "[CV] weights=uniform, n_neighbors=12, n_jobs=-1, leaf_size=5, algorithm=kd_tree \n",
      "[CV]  weights=uniform, n_neighbors=12, n_jobs=-1, leaf_size=5, algorithm=kd_tree, total=   0.1s\n",
      "[CV] weights=uniform, n_neighbors=12, n_jobs=-1, leaf_size=5, algorithm=kd_tree \n",
      "[CV]  weights=uniform, n_neighbors=12, n_jobs=-1, leaf_size=5, algorithm=kd_tree, total=   0.2s\n",
      "[CV] weights=uniform, n_neighbors=12, n_jobs=-1, leaf_size=5, algorithm=kd_tree \n",
      "[CV]  weights=uniform, n_neighbors=12, n_jobs=-1, leaf_size=5, algorithm=kd_tree, total=   0.2s\n",
      "[CV] weights=uniform, n_neighbors=12, n_jobs=-1, leaf_size=3, algorithm=ball_tree \n",
      "[CV]  weights=uniform, n_neighbors=12, n_jobs=-1, leaf_size=3, algorithm=ball_tree, total=   0.1s\n",
      "[CV] weights=uniform, n_neighbors=12, n_jobs=-1, leaf_size=3, algorithm=ball_tree \n",
      "[CV]  weights=uniform, n_neighbors=12, n_jobs=-1, leaf_size=3, algorithm=ball_tree, total=   0.1s\n",
      "[CV] weights=uniform, n_neighbors=12, n_jobs=-1, leaf_size=3, algorithm=ball_tree \n",
      "[CV]  weights=uniform, n_neighbors=12, n_jobs=-1, leaf_size=3, algorithm=ball_tree, total=   0.1s\n",
      "[CV] weights=uniform, n_neighbors=12, n_jobs=-1, leaf_size=3, algorithm=ball_tree \n",
      "[CV]  weights=uniform, n_neighbors=12, n_jobs=-1, leaf_size=3, algorithm=ball_tree, total=   0.1s\n",
      "[CV] weights=uniform, n_neighbors=12, n_jobs=-1, leaf_size=3, algorithm=ball_tree \n",
      "[CV]  weights=uniform, n_neighbors=12, n_jobs=-1, leaf_size=3, algorithm=ball_tree, total=   0.2s\n",
      "[CV] weights=distance, n_neighbors=20, n_jobs=-1, leaf_size=5, algorithm=kd_tree \n",
      "[CV]  weights=distance, n_neighbors=20, n_jobs=-1, leaf_size=5, algorithm=kd_tree, total=   0.2s\n",
      "[CV] weights=distance, n_neighbors=20, n_jobs=-1, leaf_size=5, algorithm=kd_tree \n",
      "[CV]  weights=distance, n_neighbors=20, n_jobs=-1, leaf_size=5, algorithm=kd_tree, total=   0.2s\n",
      "[CV] weights=distance, n_neighbors=20, n_jobs=-1, leaf_size=5, algorithm=kd_tree \n",
      "[CV]  weights=distance, n_neighbors=20, n_jobs=-1, leaf_size=5, algorithm=kd_tree, total=   0.1s\n",
      "[CV] weights=distance, n_neighbors=20, n_jobs=-1, leaf_size=5, algorithm=kd_tree \n",
      "[CV]  weights=distance, n_neighbors=20, n_jobs=-1, leaf_size=5, algorithm=kd_tree, total=   0.2s\n",
      "[CV] weights=distance, n_neighbors=20, n_jobs=-1, leaf_size=5, algorithm=kd_tree \n",
      "[CV]  weights=distance, n_neighbors=20, n_jobs=-1, leaf_size=5, algorithm=kd_tree, total=   0.1s\n",
      "[CV] weights=distance, n_neighbors=12, n_jobs=-1, leaf_size=2, algorithm=kd_tree \n",
      "[CV]  weights=distance, n_neighbors=12, n_jobs=-1, leaf_size=2, algorithm=kd_tree, total=   0.2s\n",
      "[CV] weights=distance, n_neighbors=12, n_jobs=-1, leaf_size=2, algorithm=kd_tree \n",
      "[CV]  weights=distance, n_neighbors=12, n_jobs=-1, leaf_size=2, algorithm=kd_tree, total=   0.1s\n",
      "[CV] weights=distance, n_neighbors=12, n_jobs=-1, leaf_size=2, algorithm=kd_tree \n",
      "[CV]  weights=distance, n_neighbors=12, n_jobs=-1, leaf_size=2, algorithm=kd_tree, total=   0.2s\n",
      "[CV] weights=distance, n_neighbors=12, n_jobs=-1, leaf_size=2, algorithm=kd_tree \n",
      "[CV]  weights=distance, n_neighbors=12, n_jobs=-1, leaf_size=2, algorithm=kd_tree, total=   0.2s\n",
      "[CV] weights=distance, n_neighbors=12, n_jobs=-1, leaf_size=2, algorithm=kd_tree \n",
      "[CV]  weights=distance, n_neighbors=12, n_jobs=-1, leaf_size=2, algorithm=kd_tree, total=   0.2s\n",
      "[CV] weights=distance, n_neighbors=20, n_jobs=-1, leaf_size=3, algorithm=brute \n",
      "[CV]  weights=distance, n_neighbors=20, n_jobs=-1, leaf_size=3, algorithm=brute, total=   0.5s\n",
      "[CV] weights=distance, n_neighbors=20, n_jobs=-1, leaf_size=3, algorithm=brute \n",
      "[CV]  weights=distance, n_neighbors=20, n_jobs=-1, leaf_size=3, algorithm=brute, total=   0.5s\n",
      "[CV] weights=distance, n_neighbors=20, n_jobs=-1, leaf_size=3, algorithm=brute \n",
      "[CV]  weights=distance, n_neighbors=20, n_jobs=-1, leaf_size=3, algorithm=brute, total=   0.5s\n",
      "[CV] weights=distance, n_neighbors=20, n_jobs=-1, leaf_size=3, algorithm=brute \n",
      "[CV]  weights=distance, n_neighbors=20, n_jobs=-1, leaf_size=3, algorithm=brute, total=   0.6s\n",
      "[CV] weights=distance, n_neighbors=20, n_jobs=-1, leaf_size=3, algorithm=brute \n",
      "[CV]  weights=distance, n_neighbors=20, n_jobs=-1, leaf_size=3, algorithm=brute, total=   0.5s\n",
      "[CV] weights=distance, n_neighbors=10, n_jobs=-1, leaf_size=2, algorithm=auto \n",
      "[CV]  weights=distance, n_neighbors=10, n_jobs=-1, leaf_size=2, algorithm=auto, total=   0.2s\n",
      "[CV] weights=distance, n_neighbors=10, n_jobs=-1, leaf_size=2, algorithm=auto \n",
      "[CV]  weights=distance, n_neighbors=10, n_jobs=-1, leaf_size=2, algorithm=auto, total=   0.2s\n",
      "[CV] weights=distance, n_neighbors=10, n_jobs=-1, leaf_size=2, algorithm=auto \n",
      "[CV]  weights=distance, n_neighbors=10, n_jobs=-1, leaf_size=2, algorithm=auto, total=   0.2s\n",
      "[CV] weights=distance, n_neighbors=10, n_jobs=-1, leaf_size=2, algorithm=auto \n",
      "[CV]  weights=distance, n_neighbors=10, n_jobs=-1, leaf_size=2, algorithm=auto, total=   0.2s\n",
      "[CV] weights=distance, n_neighbors=10, n_jobs=-1, leaf_size=2, algorithm=auto \n",
      "[CV]  weights=distance, n_neighbors=10, n_jobs=-1, leaf_size=2, algorithm=auto, total=   0.2s\n",
      "[CV] weights=uniform, n_neighbors=15, n_jobs=-1, leaf_size=2, algorithm=auto \n",
      "[CV]  weights=uniform, n_neighbors=15, n_jobs=-1, leaf_size=2, algorithm=auto, total=   0.2s\n",
      "[CV] weights=uniform, n_neighbors=15, n_jobs=-1, leaf_size=2, algorithm=auto \n",
      "[CV]  weights=uniform, n_neighbors=15, n_jobs=-1, leaf_size=2, algorithm=auto, total=   0.1s\n",
      "[CV] weights=uniform, n_neighbors=15, n_jobs=-1, leaf_size=2, algorithm=auto \n",
      "[CV]  weights=uniform, n_neighbors=15, n_jobs=-1, leaf_size=2, algorithm=auto, total=   0.2s\n",
      "[CV] weights=uniform, n_neighbors=15, n_jobs=-1, leaf_size=2, algorithm=auto \n",
      "[CV]  weights=uniform, n_neighbors=15, n_jobs=-1, leaf_size=2, algorithm=auto, total=   0.2s\n",
      "[CV] weights=uniform, n_neighbors=15, n_jobs=-1, leaf_size=2, algorithm=auto \n",
      "[CV]  weights=uniform, n_neighbors=15, n_jobs=-1, leaf_size=2, algorithm=auto, total=   0.2s\n",
      "[CV] weights=uniform, n_neighbors=12, n_jobs=-1, leaf_size=2, algorithm=auto \n",
      "[CV]  weights=uniform, n_neighbors=12, n_jobs=-1, leaf_size=2, algorithm=auto, total=   0.1s\n",
      "[CV] weights=uniform, n_neighbors=12, n_jobs=-1, leaf_size=2, algorithm=auto \n",
      "[CV]  weights=uniform, n_neighbors=12, n_jobs=-1, leaf_size=2, algorithm=auto, total=   0.2s\n",
      "[CV] weights=uniform, n_neighbors=12, n_jobs=-1, leaf_size=2, algorithm=auto \n",
      "[CV]  weights=uniform, n_neighbors=12, n_jobs=-1, leaf_size=2, algorithm=auto, total=   0.1s\n",
      "[CV] weights=uniform, n_neighbors=12, n_jobs=-1, leaf_size=2, algorithm=auto \n",
      "[CV]  weights=uniform, n_neighbors=12, n_jobs=-1, leaf_size=2, algorithm=auto, total=   0.2s\n",
      "[CV] weights=uniform, n_neighbors=12, n_jobs=-1, leaf_size=2, algorithm=auto \n",
      "[CV]  weights=uniform, n_neighbors=12, n_jobs=-1, leaf_size=2, algorithm=auto, total=   0.1s\n",
      "[CV] weights=distance, n_neighbors=20, n_jobs=-1, leaf_size=1, algorithm=auto \n",
      "[CV]  weights=distance, n_neighbors=20, n_jobs=-1, leaf_size=1, algorithm=auto, total=   0.2s\n",
      "[CV] weights=distance, n_neighbors=20, n_jobs=-1, leaf_size=1, algorithm=auto \n",
      "[CV]  weights=distance, n_neighbors=20, n_jobs=-1, leaf_size=1, algorithm=auto, total=   0.2s\n",
      "[CV] weights=distance, n_neighbors=20, n_jobs=-1, leaf_size=1, algorithm=auto \n",
      "[CV]  weights=distance, n_neighbors=20, n_jobs=-1, leaf_size=1, algorithm=auto, total=   0.3s\n",
      "[CV] weights=distance, n_neighbors=20, n_jobs=-1, leaf_size=1, algorithm=auto \n",
      "[CV]  weights=distance, n_neighbors=20, n_jobs=-1, leaf_size=1, algorithm=auto, total=   0.2s\n",
      "[CV] weights=distance, n_neighbors=20, n_jobs=-1, leaf_size=1, algorithm=auto \n"
     ]
    },
    {
     "name": "stdout",
     "output_type": "stream",
     "text": [
      "[CV]  weights=distance, n_neighbors=20, n_jobs=-1, leaf_size=1, algorithm=auto, total=   0.3s\n"
     ]
    },
    {
     "name": "stderr",
     "output_type": "stream",
     "text": [
      "[Parallel(n_jobs=1)]: Done  50 out of  50 | elapsed:   11.7s finished\n"
     ]
    },
    {
     "data": {
      "text/plain": [
       "RandomizedSearchCV(cv=5, error_score=nan,\n",
       "                   estimator=KNeighborsRegressor(algorithm='auto', leaf_size=30,\n",
       "                                                 metric='minkowski',\n",
       "                                                 metric_params=None,\n",
       "                                                 n_jobs=None, n_neighbors=5,\n",
       "                                                 p=2, weights='uniform'),\n",
       "                   iid='deprecated', n_iter=10, n_jobs=1,\n",
       "                   param_distributions={'algorithm': ['auto', 'ball_tree',\n",
       "                                                      'kd_tree', 'brute'],\n",
       "                                        'leaf_size': [1, 2, 3, 5],\n",
       "                                        'n_jobs': [-1],\n",
       "                                        'n_neighbors': [7, 10, 12, 15, 20, 20],\n",
       "                                        'weights': ['uniform', 'distance']},\n",
       "                   pre_dispatch='2*n_jobs', random_state=42, refit=True,\n",
       "                   return_train_score=False, scoring='neg_mean_squared_error',\n",
       "                   verbose=2)"
      ]
     },
     "execution_count": 48,
     "metadata": {},
     "output_type": "execute_result"
    }
   ],
   "source": [
    "knnrand.fit(X_train,y_train)    #Fitting the model"
   ]
  },
  {
   "cell_type": "code",
   "execution_count": 49,
   "metadata": {
    "ExecuteTime": {
     "end_time": "2020-08-10T09:26:38.818554Z",
     "start_time": "2020-08-10T09:26:38.810550Z"
    }
   },
   "outputs": [
    {
     "data": {
      "text/plain": [
       "{'weights': 'distance',\n",
       " 'n_neighbors': 10,\n",
       " 'n_jobs': -1,\n",
       " 'leaf_size': 2,\n",
       " 'algorithm': 'auto'}"
      ]
     },
     "execution_count": 49,
     "metadata": {},
     "output_type": "execute_result"
    }
   ],
   "source": [
    "knnrand.best_params_   #getting the best parameters from the hyperparameter tuning"
   ]
  },
  {
   "cell_type": "code",
   "execution_count": 50,
   "metadata": {
    "ExecuteTime": {
     "end_time": "2020-08-10T09:26:40.050983Z",
     "start_time": "2020-08-10T09:26:39.895883Z"
    }
   },
   "outputs": [
    {
     "data": {
      "text/plain": [
       "KNeighborsRegressor(algorithm='auto', leaf_size=2, metric='minkowski',\n",
       "                    metric_params=None, n_jobs=-1, n_neighbors=10, p=2,\n",
       "                    weights='distance')"
      ]
     },
     "execution_count": 50,
     "metadata": {},
     "output_type": "execute_result"
    }
   ],
   "source": [
    "knnclf=KNeighborsRegressor(n_neighbors=10,weights='distance',n_jobs= -1,leaf_size=2,algorithm='auto')\n",
    "knnclf.fit(X_train,y_train)   #applying the parameters and fitting our actual model"
   ]
  },
  {
   "cell_type": "code",
   "execution_count": 51,
   "metadata": {
    "ExecuteTime": {
     "end_time": "2020-08-10T09:26:53.597927Z",
     "start_time": "2020-08-10T09:26:53.487856Z"
    }
   },
   "outputs": [],
   "source": [
    "knnpred=knnclf.predict(X_test)  #predicting the for the points in test"
   ]
  },
  {
   "cell_type": "code",
   "execution_count": 52,
   "metadata": {
    "ExecuteTime": {
     "end_time": "2020-08-10T09:26:54.743686Z",
     "start_time": "2020-08-10T09:26:54.735685Z"
    }
   },
   "outputs": [
    {
     "name": "stdout",
     "output_type": "stream",
     "text": [
      "MAE: 2051.718941998198\n",
      "RMSE: 2878.234588915952\n"
     ]
    }
   ],
   "source": [
    "print('MAE:', metrics.mean_absolute_error(y_test, knnpred))\n",
    "print('RMSE:', np.sqrt(metrics.mean_squared_error(y_test, knnpred)))"
   ]
  },
  {
   "cell_type": "markdown",
   "metadata": {},
   "source": [
    "- The Mean Absolute Error and Root Mean Square Error are calculated \n",
    "- These two metrics give a good understanding of how the model performed \n",
    "- From MAE we can see that the predicted sroce from the actual score can differ up to 2051 \n",
    "- Lets build another model and see if that can produce better results"
   ]
  },
  {
   "cell_type": "markdown",
   "metadata": {},
   "source": [
    "#### Model 2--Random forest"
   ]
  },
  {
   "cell_type": "markdown",
   "metadata": {},
   "source": [
    "##### Hyperparameter tuning"
   ]
  },
  {
   "cell_type": "code",
   "execution_count": 53,
   "metadata": {
    "ExecuteTime": {
     "end_time": "2020-08-10T09:27:31.758392Z",
     "start_time": "2020-08-10T09:27:31.751384Z"
    }
   },
   "outputs": [],
   "source": [
    "n_estimators = [int(x) for x in np.linspace(start = 100, stop = 1200, num = 12)]\n",
    "max_features = ['auto', 'sqrt']\n",
    "max_depth = [int(x) for x in np.linspace(5, 30, num = 6)]    #Setting up the parameters\n",
    "min_samples_split = [2, 5, 10, 15, 100]\n",
    "min_samples_leaf = [1, 2, 5, 10]\n",
    "\n",
    "rfmodel= RandomForestRegressor()  #initiating the base model for the tuning"
   ]
  },
  {
   "cell_type": "code",
   "execution_count": 54,
   "metadata": {
    "ExecuteTime": {
     "end_time": "2020-08-10T09:27:32.644515Z",
     "start_time": "2020-08-10T09:27:32.639512Z"
    }
   },
   "outputs": [],
   "source": [
    "rfparam = {'n_estimators': n_estimators,\n",
    "               'max_features': max_features,\n",
    "               'max_depth': max_depth,\n",
    "               'min_samples_split': min_samples_split,\n",
    "               'min_samples_leaf': min_samples_leaf}"
   ]
  },
  {
   "cell_type": "code",
   "execution_count": 55,
   "metadata": {
    "ExecuteTime": {
     "end_time": "2020-08-10T09:27:33.836195Z",
     "start_time": "2020-08-10T09:27:33.831193Z"
    }
   },
   "outputs": [],
   "source": [
    "rfrand = RandomizedSearchCV(estimator = rfmodel, param_distributions=rfparam,scoring='neg_mean_squared_error', n_iter = 10, cv = 5, verbose=2, random_state=42, n_jobs = 1)"
   ]
  },
  {
   "cell_type": "code",
   "execution_count": 56,
   "metadata": {
    "ExecuteTime": {
     "end_time": "2020-08-10T09:34:25.953328Z",
     "start_time": "2020-08-10T09:27:34.839369Z"
    }
   },
   "outputs": [
    {
     "name": "stdout",
     "output_type": "stream",
     "text": [
      "Fitting 5 folds for each of 10 candidates, totalling 50 fits\n",
      "[CV] n_estimators=900, min_samples_split=5, min_samples_leaf=5, max_features=sqrt, max_depth=10 \n"
     ]
    },
    {
     "name": "stderr",
     "output_type": "stream",
     "text": [
      "[Parallel(n_jobs=1)]: Using backend SequentialBackend with 1 concurrent workers.\n"
     ]
    },
    {
     "name": "stdout",
     "output_type": "stream",
     "text": [
      "[CV]  n_estimators=900, min_samples_split=5, min_samples_leaf=5, max_features=sqrt, max_depth=10, total=   3.6s\n",
      "[CV] n_estimators=900, min_samples_split=5, min_samples_leaf=5, max_features=sqrt, max_depth=10 \n"
     ]
    },
    {
     "name": "stderr",
     "output_type": "stream",
     "text": [
      "[Parallel(n_jobs=1)]: Done   1 out of   1 | elapsed:    3.5s remaining:    0.0s\n"
     ]
    },
    {
     "name": "stdout",
     "output_type": "stream",
     "text": [
      "[CV]  n_estimators=900, min_samples_split=5, min_samples_leaf=5, max_features=sqrt, max_depth=10, total=   3.6s\n",
      "[CV] n_estimators=900, min_samples_split=5, min_samples_leaf=5, max_features=sqrt, max_depth=10 \n",
      "[CV]  n_estimators=900, min_samples_split=5, min_samples_leaf=5, max_features=sqrt, max_depth=10, total=   6.1s\n",
      "[CV] n_estimators=900, min_samples_split=5, min_samples_leaf=5, max_features=sqrt, max_depth=10 \n",
      "[CV]  n_estimators=900, min_samples_split=5, min_samples_leaf=5, max_features=sqrt, max_depth=10, total=   6.5s\n",
      "[CV] n_estimators=900, min_samples_split=5, min_samples_leaf=5, max_features=sqrt, max_depth=10 \n",
      "[CV]  n_estimators=900, min_samples_split=5, min_samples_leaf=5, max_features=sqrt, max_depth=10, total=   6.2s\n",
      "[CV] n_estimators=1100, min_samples_split=10, min_samples_leaf=2, max_features=sqrt, max_depth=15 \n",
      "[CV]  n_estimators=1100, min_samples_split=10, min_samples_leaf=2, max_features=sqrt, max_depth=15, total=   9.1s\n",
      "[CV] n_estimators=1100, min_samples_split=10, min_samples_leaf=2, max_features=sqrt, max_depth=15 \n",
      "[CV]  n_estimators=1100, min_samples_split=10, min_samples_leaf=2, max_features=sqrt, max_depth=15, total=   9.4s\n",
      "[CV] n_estimators=1100, min_samples_split=10, min_samples_leaf=2, max_features=sqrt, max_depth=15 \n",
      "[CV]  n_estimators=1100, min_samples_split=10, min_samples_leaf=2, max_features=sqrt, max_depth=15, total=   9.3s\n",
      "[CV] n_estimators=1100, min_samples_split=10, min_samples_leaf=2, max_features=sqrt, max_depth=15 \n",
      "[CV]  n_estimators=1100, min_samples_split=10, min_samples_leaf=2, max_features=sqrt, max_depth=15, total=   9.6s\n",
      "[CV] n_estimators=1100, min_samples_split=10, min_samples_leaf=2, max_features=sqrt, max_depth=15 \n",
      "[CV]  n_estimators=1100, min_samples_split=10, min_samples_leaf=2, max_features=sqrt, max_depth=15, total=   9.8s\n",
      "[CV] n_estimators=300, min_samples_split=100, min_samples_leaf=5, max_features=auto, max_depth=15 \n",
      "[CV]  n_estimators=300, min_samples_split=100, min_samples_leaf=5, max_features=auto, max_depth=15, total=   4.0s\n",
      "[CV] n_estimators=300, min_samples_split=100, min_samples_leaf=5, max_features=auto, max_depth=15 \n",
      "[CV]  n_estimators=300, min_samples_split=100, min_samples_leaf=5, max_features=auto, max_depth=15, total=   4.0s\n",
      "[CV] n_estimators=300, min_samples_split=100, min_samples_leaf=5, max_features=auto, max_depth=15 \n",
      "[CV]  n_estimators=300, min_samples_split=100, min_samples_leaf=5, max_features=auto, max_depth=15, total=   3.9s\n",
      "[CV] n_estimators=300, min_samples_split=100, min_samples_leaf=5, max_features=auto, max_depth=15 \n",
      "[CV]  n_estimators=300, min_samples_split=100, min_samples_leaf=5, max_features=auto, max_depth=15, total=   4.0s\n",
      "[CV] n_estimators=300, min_samples_split=100, min_samples_leaf=5, max_features=auto, max_depth=15 \n",
      "[CV]  n_estimators=300, min_samples_split=100, min_samples_leaf=5, max_features=auto, max_depth=15, total=   4.1s\n",
      "[CV] n_estimators=400, min_samples_split=5, min_samples_leaf=5, max_features=auto, max_depth=15 \n",
      "[CV]  n_estimators=400, min_samples_split=5, min_samples_leaf=5, max_features=auto, max_depth=15, total=   7.1s\n",
      "[CV] n_estimators=400, min_samples_split=5, min_samples_leaf=5, max_features=auto, max_depth=15 \n",
      "[CV]  n_estimators=400, min_samples_split=5, min_samples_leaf=5, max_features=auto, max_depth=15, total=   7.1s\n",
      "[CV] n_estimators=400, min_samples_split=5, min_samples_leaf=5, max_features=auto, max_depth=15 \n",
      "[CV]  n_estimators=400, min_samples_split=5, min_samples_leaf=5, max_features=auto, max_depth=15, total=   7.2s\n",
      "[CV] n_estimators=400, min_samples_split=5, min_samples_leaf=5, max_features=auto, max_depth=15 \n",
      "[CV]  n_estimators=400, min_samples_split=5, min_samples_leaf=5, max_features=auto, max_depth=15, total=   7.1s\n",
      "[CV] n_estimators=400, min_samples_split=5, min_samples_leaf=5, max_features=auto, max_depth=15 \n",
      "[CV]  n_estimators=400, min_samples_split=5, min_samples_leaf=5, max_features=auto, max_depth=15, total=   7.1s\n",
      "[CV] n_estimators=700, min_samples_split=5, min_samples_leaf=10, max_features=auto, max_depth=20 \n",
      "[CV]  n_estimators=700, min_samples_split=5, min_samples_leaf=10, max_features=auto, max_depth=20, total=  13.3s\n",
      "[CV] n_estimators=700, min_samples_split=5, min_samples_leaf=10, max_features=auto, max_depth=20 \n",
      "[CV]  n_estimators=700, min_samples_split=5, min_samples_leaf=10, max_features=auto, max_depth=20, total=  11.7s\n",
      "[CV] n_estimators=700, min_samples_split=5, min_samples_leaf=10, max_features=auto, max_depth=20 \n",
      "[CV]  n_estimators=700, min_samples_split=5, min_samples_leaf=10, max_features=auto, max_depth=20, total=  16.9s\n",
      "[CV] n_estimators=700, min_samples_split=5, min_samples_leaf=10, max_features=auto, max_depth=20 \n",
      "[CV]  n_estimators=700, min_samples_split=5, min_samples_leaf=10, max_features=auto, max_depth=20, total=  13.3s\n",
      "[CV] n_estimators=700, min_samples_split=5, min_samples_leaf=10, max_features=auto, max_depth=20 \n",
      "[CV]  n_estimators=700, min_samples_split=5, min_samples_leaf=10, max_features=auto, max_depth=20, total=  10.9s\n",
      "[CV] n_estimators=1000, min_samples_split=2, min_samples_leaf=1, max_features=sqrt, max_depth=25 \n",
      "[CV]  n_estimators=1000, min_samples_split=2, min_samples_leaf=1, max_features=sqrt, max_depth=25, total=  14.9s\n",
      "[CV] n_estimators=1000, min_samples_split=2, min_samples_leaf=1, max_features=sqrt, max_depth=25 \n",
      "[CV]  n_estimators=1000, min_samples_split=2, min_samples_leaf=1, max_features=sqrt, max_depth=25, total=  14.6s\n",
      "[CV] n_estimators=1000, min_samples_split=2, min_samples_leaf=1, max_features=sqrt, max_depth=25 \n",
      "[CV]  n_estimators=1000, min_samples_split=2, min_samples_leaf=1, max_features=sqrt, max_depth=25, total=  15.0s\n",
      "[CV] n_estimators=1000, min_samples_split=2, min_samples_leaf=1, max_features=sqrt, max_depth=25 \n",
      "[CV]  n_estimators=1000, min_samples_split=2, min_samples_leaf=1, max_features=sqrt, max_depth=25, total=  14.7s\n",
      "[CV] n_estimators=1000, min_samples_split=2, min_samples_leaf=1, max_features=sqrt, max_depth=25 \n",
      "[CV]  n_estimators=1000, min_samples_split=2, min_samples_leaf=1, max_features=sqrt, max_depth=25, total=  14.8s\n",
      "[CV] n_estimators=1100, min_samples_split=15, min_samples_leaf=10, max_features=sqrt, max_depth=5 \n",
      "[CV]  n_estimators=1100, min_samples_split=15, min_samples_leaf=10, max_features=sqrt, max_depth=5, total=   5.5s\n",
      "[CV] n_estimators=1100, min_samples_split=15, min_samples_leaf=10, max_features=sqrt, max_depth=5 \n",
      "[CV]  n_estimators=1100, min_samples_split=15, min_samples_leaf=10, max_features=sqrt, max_depth=5, total=   6.1s\n",
      "[CV] n_estimators=1100, min_samples_split=15, min_samples_leaf=10, max_features=sqrt, max_depth=5 \n",
      "[CV]  n_estimators=1100, min_samples_split=15, min_samples_leaf=10, max_features=sqrt, max_depth=5, total=   8.2s\n",
      "[CV] n_estimators=1100, min_samples_split=15, min_samples_leaf=10, max_features=sqrt, max_depth=5 \n",
      "[CV]  n_estimators=1100, min_samples_split=15, min_samples_leaf=10, max_features=sqrt, max_depth=5, total=   5.8s\n",
      "[CV] n_estimators=1100, min_samples_split=15, min_samples_leaf=10, max_features=sqrt, max_depth=5 \n",
      "[CV]  n_estimators=1100, min_samples_split=15, min_samples_leaf=10, max_features=sqrt, max_depth=5, total=   5.6s\n",
      "[CV] n_estimators=300, min_samples_split=15, min_samples_leaf=1, max_features=sqrt, max_depth=15 \n",
      "[CV]  n_estimators=300, min_samples_split=15, min_samples_leaf=1, max_features=sqrt, max_depth=15, total=   2.6s\n",
      "[CV] n_estimators=300, min_samples_split=15, min_samples_leaf=1, max_features=sqrt, max_depth=15 \n",
      "[CV]  n_estimators=300, min_samples_split=15, min_samples_leaf=1, max_features=sqrt, max_depth=15, total=   2.3s\n",
      "[CV] n_estimators=300, min_samples_split=15, min_samples_leaf=1, max_features=sqrt, max_depth=15 \n",
      "[CV]  n_estimators=300, min_samples_split=15, min_samples_leaf=1, max_features=sqrt, max_depth=15, total=   2.5s\n",
      "[CV] n_estimators=300, min_samples_split=15, min_samples_leaf=1, max_features=sqrt, max_depth=15 \n",
      "[CV]  n_estimators=300, min_samples_split=15, min_samples_leaf=1, max_features=sqrt, max_depth=15, total=   2.4s\n",
      "[CV] n_estimators=300, min_samples_split=15, min_samples_leaf=1, max_features=sqrt, max_depth=15 \n",
      "[CV]  n_estimators=300, min_samples_split=15, min_samples_leaf=1, max_features=sqrt, max_depth=15, total=   2.8s\n",
      "[CV] n_estimators=700, min_samples_split=10, min_samples_leaf=2, max_features=sqrt, max_depth=5 \n"
     ]
    },
    {
     "name": "stdout",
     "output_type": "stream",
     "text": [
      "[CV]  n_estimators=700, min_samples_split=10, min_samples_leaf=2, max_features=sqrt, max_depth=5, total=   3.7s\n",
      "[CV] n_estimators=700, min_samples_split=10, min_samples_leaf=2, max_features=sqrt, max_depth=5 \n",
      "[CV]  n_estimators=700, min_samples_split=10, min_samples_leaf=2, max_features=sqrt, max_depth=5, total=   3.7s\n",
      "[CV] n_estimators=700, min_samples_split=10, min_samples_leaf=2, max_features=sqrt, max_depth=5 \n",
      "[CV]  n_estimators=700, min_samples_split=10, min_samples_leaf=2, max_features=sqrt, max_depth=5, total=   3.7s\n",
      "[CV] n_estimators=700, min_samples_split=10, min_samples_leaf=2, max_features=sqrt, max_depth=5 \n",
      "[CV]  n_estimators=700, min_samples_split=10, min_samples_leaf=2, max_features=sqrt, max_depth=5, total=   3.5s\n",
      "[CV] n_estimators=700, min_samples_split=10, min_samples_leaf=2, max_features=sqrt, max_depth=5 \n",
      "[CV]  n_estimators=700, min_samples_split=10, min_samples_leaf=2, max_features=sqrt, max_depth=5, total=   3.3s\n",
      "[CV] n_estimators=700, min_samples_split=15, min_samples_leaf=1, max_features=auto, max_depth=20 \n",
      "[CV]  n_estimators=700, min_samples_split=15, min_samples_leaf=1, max_features=auto, max_depth=20, total=  12.4s\n",
      "[CV] n_estimators=700, min_samples_split=15, min_samples_leaf=1, max_features=auto, max_depth=20 \n",
      "[CV]  n_estimators=700, min_samples_split=15, min_samples_leaf=1, max_features=auto, max_depth=20, total=  12.5s\n",
      "[CV] n_estimators=700, min_samples_split=15, min_samples_leaf=1, max_features=auto, max_depth=20 \n",
      "[CV]  n_estimators=700, min_samples_split=15, min_samples_leaf=1, max_features=auto, max_depth=20, total=  14.4s\n",
      "[CV] n_estimators=700, min_samples_split=15, min_samples_leaf=1, max_features=auto, max_depth=20 \n",
      "[CV]  n_estimators=700, min_samples_split=15, min_samples_leaf=1, max_features=auto, max_depth=20, total=  13.0s\n",
      "[CV] n_estimators=700, min_samples_split=15, min_samples_leaf=1, max_features=auto, max_depth=20 \n",
      "[CV]  n_estimators=700, min_samples_split=15, min_samples_leaf=1, max_features=auto, max_depth=20, total=  12.4s\n"
     ]
    },
    {
     "name": "stderr",
     "output_type": "stream",
     "text": [
      "[Parallel(n_jobs=1)]: Done  50 out of  50 | elapsed:  6.6min finished\n"
     ]
    },
    {
     "data": {
      "text/plain": [
       "RandomizedSearchCV(cv=5, error_score=nan,\n",
       "                   estimator=RandomForestRegressor(bootstrap=True,\n",
       "                                                   ccp_alpha=0.0,\n",
       "                                                   criterion='mse',\n",
       "                                                   max_depth=None,\n",
       "                                                   max_features='auto',\n",
       "                                                   max_leaf_nodes=None,\n",
       "                                                   max_samples=None,\n",
       "                                                   min_impurity_decrease=0.0,\n",
       "                                                   min_impurity_split=None,\n",
       "                                                   min_samples_leaf=1,\n",
       "                                                   min_samples_split=2,\n",
       "                                                   min_weight_fraction_leaf=0.0,\n",
       "                                                   n_estimators=100,\n",
       "                                                   n_jobs=None, oob_score=Fals...\n",
       "                   iid='deprecated', n_iter=10, n_jobs=1,\n",
       "                   param_distributions={'max_depth': [5, 10, 15, 20, 25, 30],\n",
       "                                        'max_features': ['auto', 'sqrt'],\n",
       "                                        'min_samples_leaf': [1, 2, 5, 10],\n",
       "                                        'min_samples_split': [2, 5, 10, 15,\n",
       "                                                              100],\n",
       "                                        'n_estimators': [100, 200, 300, 400,\n",
       "                                                         500, 600, 700, 800,\n",
       "                                                         900, 1000, 1100,\n",
       "                                                         1200]},\n",
       "                   pre_dispatch='2*n_jobs', random_state=42, refit=True,\n",
       "                   return_train_score=False, scoring='neg_mean_squared_error',\n",
       "                   verbose=2)"
      ]
     },
     "execution_count": 56,
     "metadata": {},
     "output_type": "execute_result"
    }
   ],
   "source": [
    "rfrand.fit(X_train,y_train)"
   ]
  },
  {
   "cell_type": "code",
   "execution_count": 57,
   "metadata": {
    "ExecuteTime": {
     "end_time": "2020-08-10T09:35:32.475355Z",
     "start_time": "2020-08-10T09:35:32.467348Z"
    }
   },
   "outputs": [
    {
     "data": {
      "text/plain": [
       "{'n_estimators': 700,\n",
       " 'min_samples_split': 15,\n",
       " 'min_samples_leaf': 1,\n",
       " 'max_features': 'auto',\n",
       " 'max_depth': 20}"
      ]
     },
     "execution_count": 57,
     "metadata": {},
     "output_type": "execute_result"
    }
   ],
   "source": [
    "rfrand.best_params_   #getting the best parameters from the hyperparameter tuning"
   ]
  },
  {
   "cell_type": "code",
   "execution_count": 58,
   "metadata": {
    "ExecuteTime": {
     "end_time": "2020-08-10T09:35:47.605772Z",
     "start_time": "2020-08-10T09:35:38.209558Z"
    }
   },
   "outputs": [
    {
     "data": {
      "text/plain": [
       "RandomForestRegressor(bootstrap=True, ccp_alpha=0.0, criterion='mse',\n",
       "                      max_depth=20, max_features='auto', max_leaf_nodes=None,\n",
       "                      max_samples=None, min_impurity_decrease=0.0,\n",
       "                      min_impurity_split=None, min_samples_leaf=1,\n",
       "                      min_samples_split=15, min_weight_fraction_leaf=0.0,\n",
       "                      n_estimators=700, n_jobs=None, oob_score=False,\n",
       "                      random_state=None, verbose=0, warm_start=False)"
      ]
     },
     "execution_count": 58,
     "metadata": {},
     "output_type": "execute_result"
    }
   ],
   "source": [
    "rfclf=RandomForestRegressor(n_estimators=700,max_depth=20,min_samples_split=15,min_samples_leaf=1,max_features=\"auto\")\n",
    "rfclf.fit(X_train,y_train)"
   ]
  },
  {
   "cell_type": "code",
   "execution_count": 59,
   "metadata": {
    "ExecuteTime": {
     "end_time": "2020-08-10T09:35:49.711778Z",
     "start_time": "2020-08-10T09:35:49.338529Z"
    }
   },
   "outputs": [],
   "source": [
    "rfpred=rfclf.predict(X_test)"
   ]
  },
  {
   "cell_type": "code",
   "execution_count": 60,
   "metadata": {
    "ExecuteTime": {
     "end_time": "2020-08-10T09:35:52.072254Z",
     "start_time": "2020-08-10T09:35:52.065251Z"
    }
   },
   "outputs": [
    {
     "name": "stdout",
     "output_type": "stream",
     "text": [
      "MAE: 1212.631191944565\n",
      "RMSE: 1909.9727836145719\n"
     ]
    }
   ],
   "source": [
    "print('MAE:', metrics.mean_absolute_error(y_test, rfpred))\n",
    "print('RMSE:', np.sqrt(metrics.mean_squared_error(y_test, rfpred)))"
   ]
  },
  {
   "cell_type": "markdown",
   "metadata": {},
   "source": [
    "- The Randomforest model gives a significantly better result\n",
    "- The Error being 1212 which is much less than 2051 from the previous model\n",
    "- Lets build one last , slightly complicated model and see if we get better results"
   ]
  },
  {
   "cell_type": "markdown",
   "metadata": {},
   "source": [
    "#### Model 3-GBDT"
   ]
  },
  {
   "cell_type": "code",
   "execution_count": 61,
   "metadata": {
    "ExecuteTime": {
     "end_time": "2020-08-10T09:36:21.460969Z",
     "start_time": "2020-08-10T09:36:21.455966Z"
    }
   },
   "outputs": [],
   "source": [
    "gbmodel=GradientBoostingRegressor()"
   ]
  },
  {
   "cell_type": "code",
   "execution_count": 62,
   "metadata": {
    "ExecuteTime": {
     "end_time": "2020-08-10T09:36:22.529431Z",
     "start_time": "2020-08-10T09:36:22.521422Z"
    }
   },
   "outputs": [],
   "source": [
    "max_features = list(range(1,x_tr.shape[1]))\n",
    "min_samples_leafs = np.linspace(0.1, 0.5, 5, endpoint=True)\n",
    "min_samples_splits = np.linspace(0.1, 1.0, 10, endpoint=True)  #initiating the parameters for tuning\n",
    "max_depths = np.linspace(1, 32, 32, endpoint=True)\n",
    "n_estimators = [1, 2, 4, 8, 16, 32, 64, 100, 200]\n",
    "learning_rates = [1, 0.5, 0.25, 0.1, 0.05, 0.01]"
   ]
  },
  {
   "cell_type": "code",
   "execution_count": 63,
   "metadata": {
    "ExecuteTime": {
     "end_time": "2020-08-10T09:36:23.252562Z",
     "start_time": "2020-08-10T09:36:23.248557Z"
    }
   },
   "outputs": [],
   "source": [
    "gbparam={'learning_rate':learning_rates,\n",
    "        'n_estimators':n_estimators ,\n",
    "        'max_depth':max_depths,\n",
    "        'min_samples_split':min_samples_splits,\n",
    "       'min_samples_leaf':min_samples_leafs,\n",
    "        'max_features':max_features}"
   ]
  },
  {
   "cell_type": "code",
   "execution_count": 64,
   "metadata": {
    "ExecuteTime": {
     "end_time": "2020-08-10T09:36:24.221756Z",
     "start_time": "2020-08-10T09:36:24.216756Z"
    }
   },
   "outputs": [],
   "source": [
    "gbrand = RandomizedSearchCV(estimator = gbmodel, param_distributions=gbparam,scoring='neg_mean_squared_error', n_iter = 10, cv = 5, verbose=2, random_state=42, n_jobs = 1)"
   ]
  },
  {
   "cell_type": "code",
   "execution_count": 65,
   "metadata": {
    "ExecuteTime": {
     "end_time": "2020-08-10T09:36:36.702011Z",
     "start_time": "2020-08-10T09:36:25.368512Z"
    }
   },
   "outputs": [
    {
     "name": "stdout",
     "output_type": "stream",
     "text": [
      "Fitting 5 folds for each of 10 candidates, totalling 50 fits\n",
      "[CV] n_estimators=200, min_samples_split=0.1, min_samples_leaf=0.1, max_features=19, max_depth=12.0, learning_rate=1 \n"
     ]
    },
    {
     "name": "stderr",
     "output_type": "stream",
     "text": [
      "[Parallel(n_jobs=1)]: Using backend SequentialBackend with 1 concurrent workers.\n"
     ]
    },
    {
     "name": "stdout",
     "output_type": "stream",
     "text": [
      "[CV]  n_estimators=200, min_samples_split=0.1, min_samples_leaf=0.1, max_features=19, max_depth=12.0, learning_rate=1, total=   1.1s\n",
      "[CV] n_estimators=200, min_samples_split=0.1, min_samples_leaf=0.1, max_features=19, max_depth=12.0, learning_rate=1 \n"
     ]
    },
    {
     "name": "stderr",
     "output_type": "stream",
     "text": [
      "[Parallel(n_jobs=1)]: Done   1 out of   1 | elapsed:    1.0s remaining:    0.0s\n"
     ]
    },
    {
     "name": "stdout",
     "output_type": "stream",
     "text": [
      "[CV]  n_estimators=200, min_samples_split=0.1, min_samples_leaf=0.1, max_features=19, max_depth=12.0, learning_rate=1, total=   1.1s\n",
      "[CV] n_estimators=200, min_samples_split=0.1, min_samples_leaf=0.1, max_features=19, max_depth=12.0, learning_rate=1 \n",
      "[CV]  n_estimators=200, min_samples_split=0.1, min_samples_leaf=0.1, max_features=19, max_depth=12.0, learning_rate=1, total=   1.0s\n",
      "[CV] n_estimators=200, min_samples_split=0.1, min_samples_leaf=0.1, max_features=19, max_depth=12.0, learning_rate=1 \n",
      "[CV]  n_estimators=200, min_samples_split=0.1, min_samples_leaf=0.1, max_features=19, max_depth=12.0, learning_rate=1, total=   1.1s\n",
      "[CV] n_estimators=200, min_samples_split=0.1, min_samples_leaf=0.1, max_features=19, max_depth=12.0, learning_rate=1 \n",
      "[CV]  n_estimators=200, min_samples_split=0.1, min_samples_leaf=0.1, max_features=19, max_depth=12.0, learning_rate=1, total=   1.0s\n",
      "[CV] n_estimators=100, min_samples_split=0.30000000000000004, min_samples_leaf=0.30000000000000004, max_features=20, max_depth=1.0, learning_rate=0.25 \n",
      "[CV]  n_estimators=100, min_samples_split=0.30000000000000004, min_samples_leaf=0.30000000000000004, max_features=20, max_depth=1.0, learning_rate=0.25, total=   0.2s\n",
      "[CV] n_estimators=100, min_samples_split=0.30000000000000004, min_samples_leaf=0.30000000000000004, max_features=20, max_depth=1.0, learning_rate=0.25 \n",
      "[CV]  n_estimators=100, min_samples_split=0.30000000000000004, min_samples_leaf=0.30000000000000004, max_features=20, max_depth=1.0, learning_rate=0.25, total=   0.2s\n",
      "[CV] n_estimators=100, min_samples_split=0.30000000000000004, min_samples_leaf=0.30000000000000004, max_features=20, max_depth=1.0, learning_rate=0.25 \n",
      "[CV]  n_estimators=100, min_samples_split=0.30000000000000004, min_samples_leaf=0.30000000000000004, max_features=20, max_depth=1.0, learning_rate=0.25, total=   0.3s\n",
      "[CV] n_estimators=100, min_samples_split=0.30000000000000004, min_samples_leaf=0.30000000000000004, max_features=20, max_depth=1.0, learning_rate=0.25 \n",
      "[CV]  n_estimators=100, min_samples_split=0.30000000000000004, min_samples_leaf=0.30000000000000004, max_features=20, max_depth=1.0, learning_rate=0.25, total=   0.3s\n",
      "[CV] n_estimators=100, min_samples_split=0.30000000000000004, min_samples_leaf=0.30000000000000004, max_features=20, max_depth=1.0, learning_rate=0.25 \n",
      "[CV]  n_estimators=100, min_samples_split=0.30000000000000004, min_samples_leaf=0.30000000000000004, max_features=20, max_depth=1.0, learning_rate=0.25, total=   0.2s\n",
      "[CV] n_estimators=2, min_samples_split=1.0, min_samples_leaf=0.1, max_features=18, max_depth=13.0, learning_rate=1 \n",
      "[CV]  n_estimators=2, min_samples_split=1.0, min_samples_leaf=0.1, max_features=18, max_depth=13.0, learning_rate=1, total=   0.0s\n",
      "[CV] n_estimators=2, min_samples_split=1.0, min_samples_leaf=0.1, max_features=18, max_depth=13.0, learning_rate=1 \n",
      "[CV]  n_estimators=2, min_samples_split=1.0, min_samples_leaf=0.1, max_features=18, max_depth=13.0, learning_rate=1, total=   0.0s\n",
      "[CV] n_estimators=2, min_samples_split=1.0, min_samples_leaf=0.1, max_features=18, max_depth=13.0, learning_rate=1 \n",
      "[CV]  n_estimators=2, min_samples_split=1.0, min_samples_leaf=0.1, max_features=18, max_depth=13.0, learning_rate=1, total=   0.0s\n",
      "[CV] n_estimators=2, min_samples_split=1.0, min_samples_leaf=0.1, max_features=18, max_depth=13.0, learning_rate=1 \n",
      "[CV]  n_estimators=2, min_samples_split=1.0, min_samples_leaf=0.1, max_features=18, max_depth=13.0, learning_rate=1, total=   0.0s\n",
      "[CV] n_estimators=2, min_samples_split=1.0, min_samples_leaf=0.1, max_features=18, max_depth=13.0, learning_rate=1 \n",
      "[CV]  n_estimators=2, min_samples_split=1.0, min_samples_leaf=0.1, max_features=18, max_depth=13.0, learning_rate=1, total=   0.0s\n",
      "[CV] n_estimators=2, min_samples_split=0.8, min_samples_leaf=0.1, max_features=16, max_depth=9.0, learning_rate=0.05 \n",
      "[CV]  n_estimators=2, min_samples_split=0.8, min_samples_leaf=0.1, max_features=16, max_depth=9.0, learning_rate=0.05, total=   0.0s\n",
      "[CV] n_estimators=2, min_samples_split=0.8, min_samples_leaf=0.1, max_features=16, max_depth=9.0, learning_rate=0.05 \n",
      "[CV]  n_estimators=2, min_samples_split=0.8, min_samples_leaf=0.1, max_features=16, max_depth=9.0, learning_rate=0.05, total=   0.0s\n",
      "[CV] n_estimators=2, min_samples_split=0.8, min_samples_leaf=0.1, max_features=16, max_depth=9.0, learning_rate=0.05 \n",
      "[CV]  n_estimators=2, min_samples_split=0.8, min_samples_leaf=0.1, max_features=16, max_depth=9.0, learning_rate=0.05, total=   0.0s\n",
      "[CV] n_estimators=2, min_samples_split=0.8, min_samples_leaf=0.1, max_features=16, max_depth=9.0, learning_rate=0.05 \n",
      "[CV]  n_estimators=2, min_samples_split=0.8, min_samples_leaf=0.1, max_features=16, max_depth=9.0, learning_rate=0.05, total=   0.0s\n",
      "[CV] n_estimators=2, min_samples_split=0.8, min_samples_leaf=0.1, max_features=16, max_depth=9.0, learning_rate=0.05 \n",
      "[CV]  n_estimators=2, min_samples_split=0.8, min_samples_leaf=0.1, max_features=16, max_depth=9.0, learning_rate=0.05, total=   0.0s\n",
      "[CV] n_estimators=32, min_samples_split=0.8, min_samples_leaf=0.5, max_features=1, max_depth=26.0, learning_rate=1 \n",
      "[CV]  n_estimators=32, min_samples_split=0.8, min_samples_leaf=0.5, max_features=1, max_depth=26.0, learning_rate=1, total=   0.0s\n",
      "[CV] n_estimators=32, min_samples_split=0.8, min_samples_leaf=0.5, max_features=1, max_depth=26.0, learning_rate=1 \n",
      "[CV]  n_estimators=32, min_samples_split=0.8, min_samples_leaf=0.5, max_features=1, max_depth=26.0, learning_rate=1, total=   0.0s\n",
      "[CV] n_estimators=32, min_samples_split=0.8, min_samples_leaf=0.5, max_features=1, max_depth=26.0, learning_rate=1 \n",
      "[CV]  n_estimators=32, min_samples_split=0.8, min_samples_leaf=0.5, max_features=1, max_depth=26.0, learning_rate=1, total=   0.0s\n",
      "[CV] n_estimators=32, min_samples_split=0.8, min_samples_leaf=0.5, max_features=1, max_depth=26.0, learning_rate=1 \n",
      "[CV]  n_estimators=32, min_samples_split=0.8, min_samples_leaf=0.5, max_features=1, max_depth=26.0, learning_rate=1, total=   0.0s\n",
      "[CV] n_estimators=32, min_samples_split=0.8, min_samples_leaf=0.5, max_features=1, max_depth=26.0, learning_rate=1 \n",
      "[CV]  n_estimators=32, min_samples_split=0.8, min_samples_leaf=0.5, max_features=1, max_depth=26.0, learning_rate=1, total=   0.0s\n",
      "[CV] n_estimators=32, min_samples_split=0.30000000000000004, min_samples_leaf=0.4, max_features=13, max_depth=4.0, learning_rate=0.01 \n",
      "[CV]  n_estimators=32, min_samples_split=0.30000000000000004, min_samples_leaf=0.4, max_features=13, max_depth=4.0, learning_rate=0.01, total=   0.1s\n",
      "[CV] n_estimators=32, min_samples_split=0.30000000000000004, min_samples_leaf=0.4, max_features=13, max_depth=4.0, learning_rate=0.01 \n",
      "[CV]  n_estimators=32, min_samples_split=0.30000000000000004, min_samples_leaf=0.4, max_features=13, max_depth=4.0, learning_rate=0.01, total=   0.1s\n",
      "[CV] n_estimators=32, min_samples_split=0.30000000000000004, min_samples_leaf=0.4, max_features=13, max_depth=4.0, learning_rate=0.01 \n",
      "[CV]  n_estimators=32, min_samples_split=0.30000000000000004, min_samples_leaf=0.4, max_features=13, max_depth=4.0, learning_rate=0.01, total=   0.1s\n",
      "[CV] n_estimators=32, min_samples_split=0.30000000000000004, min_samples_leaf=0.4, max_features=13, max_depth=4.0, learning_rate=0.01 \n",
      "[CV]  n_estimators=32, min_samples_split=0.30000000000000004, min_samples_leaf=0.4, max_features=13, max_depth=4.0, learning_rate=0.01, total=   0.1s\n",
      "[CV] n_estimators=32, min_samples_split=0.30000000000000004, min_samples_leaf=0.4, max_features=13, max_depth=4.0, learning_rate=0.01 \n",
      "[CV]  n_estimators=32, min_samples_split=0.30000000000000004, min_samples_leaf=0.4, max_features=13, max_depth=4.0, learning_rate=0.01, total=   0.1s\n",
      "[CV] n_estimators=1, min_samples_split=0.30000000000000004, min_samples_leaf=0.1, max_features=16, max_depth=11.0, learning_rate=1 \n",
      "[CV]  n_estimators=1, min_samples_split=0.30000000000000004, min_samples_leaf=0.1, max_features=16, max_depth=11.0, learning_rate=1, total=   0.0s\n",
      "[CV] n_estimators=1, min_samples_split=0.30000000000000004, min_samples_leaf=0.1, max_features=16, max_depth=11.0, learning_rate=1 \n",
      "[CV]  n_estimators=1, min_samples_split=0.30000000000000004, min_samples_leaf=0.1, max_features=16, max_depth=11.0, learning_rate=1, total=   0.0s\n",
      "[CV] n_estimators=1, min_samples_split=0.30000000000000004, min_samples_leaf=0.1, max_features=16, max_depth=11.0, learning_rate=1 \n",
      "[CV]  n_estimators=1, min_samples_split=0.30000000000000004, min_samples_leaf=0.1, max_features=16, max_depth=11.0, learning_rate=1, total=   0.0s\n",
      "[CV] n_estimators=1, min_samples_split=0.30000000000000004, min_samples_leaf=0.1, max_features=16, max_depth=11.0, learning_rate=1 \n",
      "[CV]  n_estimators=1, min_samples_split=0.30000000000000004, min_samples_leaf=0.1, max_features=16, max_depth=11.0, learning_rate=1, total=   0.0s\n",
      "[CV] n_estimators=1, min_samples_split=0.30000000000000004, min_samples_leaf=0.1, max_features=16, max_depth=11.0, learning_rate=1 \n",
      "[CV]  n_estimators=1, min_samples_split=0.30000000000000004, min_samples_leaf=0.1, max_features=16, max_depth=11.0, learning_rate=1, total=   0.0s\n",
      "[CV] n_estimators=8, min_samples_split=0.4, min_samples_leaf=0.1, max_features=18, max_depth=7.0, learning_rate=0.25 \n"
     ]
    },
    {
     "name": "stdout",
     "output_type": "stream",
     "text": [
      "[CV]  n_estimators=8, min_samples_split=0.4, min_samples_leaf=0.1, max_features=18, max_depth=7.0, learning_rate=0.25, total=   0.0s\n",
      "[CV] n_estimators=8, min_samples_split=0.4, min_samples_leaf=0.1, max_features=18, max_depth=7.0, learning_rate=0.25 \n",
      "[CV]  n_estimators=8, min_samples_split=0.4, min_samples_leaf=0.1, max_features=18, max_depth=7.0, learning_rate=0.25, total=   0.1s\n",
      "[CV] n_estimators=8, min_samples_split=0.4, min_samples_leaf=0.1, max_features=18, max_depth=7.0, learning_rate=0.25 \n",
      "[CV]  n_estimators=8, min_samples_split=0.4, min_samples_leaf=0.1, max_features=18, max_depth=7.0, learning_rate=0.25, total=   0.0s\n",
      "[CV] n_estimators=8, min_samples_split=0.4, min_samples_leaf=0.1, max_features=18, max_depth=7.0, learning_rate=0.25 \n",
      "[CV]  n_estimators=8, min_samples_split=0.4, min_samples_leaf=0.1, max_features=18, max_depth=7.0, learning_rate=0.25, total=   0.0s\n",
      "[CV] n_estimators=8, min_samples_split=0.4, min_samples_leaf=0.1, max_features=18, max_depth=7.0, learning_rate=0.25 \n",
      "[CV]  n_estimators=8, min_samples_split=0.4, min_samples_leaf=0.1, max_features=18, max_depth=7.0, learning_rate=0.25, total=   0.0s\n",
      "[CV] n_estimators=200, min_samples_split=0.7000000000000001, min_samples_leaf=0.1, max_features=15, max_depth=11.0, learning_rate=0.1 \n",
      "[CV]  n_estimators=200, min_samples_split=0.7000000000000001, min_samples_leaf=0.1, max_features=15, max_depth=11.0, learning_rate=0.1, total=   0.4s\n",
      "[CV] n_estimators=200, min_samples_split=0.7000000000000001, min_samples_leaf=0.1, max_features=15, max_depth=11.0, learning_rate=0.1 \n",
      "[CV]  n_estimators=200, min_samples_split=0.7000000000000001, min_samples_leaf=0.1, max_features=15, max_depth=11.0, learning_rate=0.1, total=   0.4s\n",
      "[CV] n_estimators=200, min_samples_split=0.7000000000000001, min_samples_leaf=0.1, max_features=15, max_depth=11.0, learning_rate=0.1 \n",
      "[CV]  n_estimators=200, min_samples_split=0.7000000000000001, min_samples_leaf=0.1, max_features=15, max_depth=11.0, learning_rate=0.1, total=   0.5s\n",
      "[CV] n_estimators=200, min_samples_split=0.7000000000000001, min_samples_leaf=0.1, max_features=15, max_depth=11.0, learning_rate=0.1 \n",
      "[CV]  n_estimators=200, min_samples_split=0.7000000000000001, min_samples_leaf=0.1, max_features=15, max_depth=11.0, learning_rate=0.1, total=   0.4s\n",
      "[CV] n_estimators=200, min_samples_split=0.7000000000000001, min_samples_leaf=0.1, max_features=15, max_depth=11.0, learning_rate=0.1 \n",
      "[CV]  n_estimators=200, min_samples_split=0.7000000000000001, min_samples_leaf=0.1, max_features=15, max_depth=11.0, learning_rate=0.1, total=   0.4s\n",
      "[CV] n_estimators=64, min_samples_split=1.0, min_samples_leaf=0.1, max_features=7, max_depth=14.0, learning_rate=1 \n",
      "[CV]  n_estimators=64, min_samples_split=1.0, min_samples_leaf=0.1, max_features=7, max_depth=14.0, learning_rate=1, total=   0.1s\n",
      "[CV] n_estimators=64, min_samples_split=1.0, min_samples_leaf=0.1, max_features=7, max_depth=14.0, learning_rate=1 \n",
      "[CV]  n_estimators=64, min_samples_split=1.0, min_samples_leaf=0.1, max_features=7, max_depth=14.0, learning_rate=1, total=   0.1s\n",
      "[CV] n_estimators=64, min_samples_split=1.0, min_samples_leaf=0.1, max_features=7, max_depth=14.0, learning_rate=1 \n",
      "[CV]  n_estimators=64, min_samples_split=1.0, min_samples_leaf=0.1, max_features=7, max_depth=14.0, learning_rate=1, total=   0.1s\n",
      "[CV] n_estimators=64, min_samples_split=1.0, min_samples_leaf=0.1, max_features=7, max_depth=14.0, learning_rate=1 \n",
      "[CV]  n_estimators=64, min_samples_split=1.0, min_samples_leaf=0.1, max_features=7, max_depth=14.0, learning_rate=1, total=   0.1s\n",
      "[CV] n_estimators=64, min_samples_split=1.0, min_samples_leaf=0.1, max_features=7, max_depth=14.0, learning_rate=1 \n",
      "[CV]  n_estimators=64, min_samples_split=1.0, min_samples_leaf=0.1, max_features=7, max_depth=14.0, learning_rate=1, total=   0.1s\n"
     ]
    },
    {
     "name": "stderr",
     "output_type": "stream",
     "text": [
      "[Parallel(n_jobs=1)]: Done  50 out of  50 | elapsed:    9.7s finished\n"
     ]
    },
    {
     "data": {
      "text/plain": [
       "RandomizedSearchCV(cv=5, error_score=nan,\n",
       "                   estimator=GradientBoostingRegressor(alpha=0.9, ccp_alpha=0.0,\n",
       "                                                       criterion='friedman_mse',\n",
       "                                                       init=None,\n",
       "                                                       learning_rate=0.1,\n",
       "                                                       loss='ls', max_depth=3,\n",
       "                                                       max_features=None,\n",
       "                                                       max_leaf_nodes=None,\n",
       "                                                       min_impurity_decrease=0.0,\n",
       "                                                       min_impurity_split=None,\n",
       "                                                       min_samples_leaf=1,\n",
       "                                                       min_samples_split=2,\n",
       "                                                       min_weight_fraction_leaf=0.0,\n",
       "                                                       n_estimators=100,\n",
       "                                                       n_...\n",
       "                                        'max_features': [1, 2, 3, 4, 5, 6, 7, 8,\n",
       "                                                         9, 10, 11, 12, 13, 14,\n",
       "                                                         15, 16, 17, 18, 19, 20,\n",
       "                                                         21, 22, 23],\n",
       "                                        'min_samples_leaf': array([0.1, 0.2, 0.3, 0.4, 0.5]),\n",
       "                                        'min_samples_split': array([0.1, 0.2, 0.3, 0.4, 0.5, 0.6, 0.7, 0.8, 0.9, 1. ]),\n",
       "                                        'n_estimators': [1, 2, 4, 8, 16, 32, 64,\n",
       "                                                         100, 200]},\n",
       "                   pre_dispatch='2*n_jobs', random_state=42, refit=True,\n",
       "                   return_train_score=False, scoring='neg_mean_squared_error',\n",
       "                   verbose=2)"
      ]
     },
     "execution_count": 65,
     "metadata": {},
     "output_type": "execute_result"
    }
   ],
   "source": [
    "gbrand.fit(X_train,y_train)"
   ]
  },
  {
   "cell_type": "code",
   "execution_count": 66,
   "metadata": {
    "ExecuteTime": {
     "end_time": "2020-08-10T09:36:38.903574Z",
     "start_time": "2020-08-10T09:36:38.896565Z"
    }
   },
   "outputs": [
    {
     "data": {
      "text/plain": [
       "{'n_estimators': 200,\n",
       " 'min_samples_split': 0.1,\n",
       " 'min_samples_leaf': 0.1,\n",
       " 'max_features': 19,\n",
       " 'max_depth': 12.0,\n",
       " 'learning_rate': 1}"
      ]
     },
     "execution_count": 66,
     "metadata": {},
     "output_type": "execute_result"
    }
   ],
   "source": [
    "gbrand.best_params_"
   ]
  },
  {
   "cell_type": "code",
   "execution_count": 67,
   "metadata": {
    "ExecuteTime": {
     "end_time": "2020-08-10T09:37:12.813090Z",
     "start_time": "2020-08-10T09:37:12.809088Z"
    }
   },
   "outputs": [],
   "source": [
    "gbclf=gbmodel=GradientBoostingRegressor(n_estimators= 200,min_samples_split=0.1,min_samples_leaf= 0.1,max_features=19,max_depth=12,learning_rate=1)"
   ]
  },
  {
   "cell_type": "code",
   "execution_count": 68,
   "metadata": {
    "ExecuteTime": {
     "end_time": "2020-08-10T09:37:15.251283Z",
     "start_time": "2020-08-10T09:37:13.840351Z"
    }
   },
   "outputs": [
    {
     "data": {
      "text/plain": [
       "GradientBoostingRegressor(alpha=0.9, ccp_alpha=0.0, criterion='friedman_mse',\n",
       "                          init=None, learning_rate=1, loss='ls', max_depth=12,\n",
       "                          max_features=19, max_leaf_nodes=None,\n",
       "                          min_impurity_decrease=0.0, min_impurity_split=None,\n",
       "                          min_samples_leaf=0.1, min_samples_split=0.1,\n",
       "                          min_weight_fraction_leaf=0.0, n_estimators=200,\n",
       "                          n_iter_no_change=None, presort='deprecated',\n",
       "                          random_state=None, subsample=1.0, tol=0.0001,\n",
       "                          validation_fraction=0.1, verbose=0, warm_start=False)"
      ]
     },
     "execution_count": 68,
     "metadata": {},
     "output_type": "execute_result"
    }
   ],
   "source": [
    "gbclf.fit(X_train,y_train)"
   ]
  },
  {
   "cell_type": "code",
   "execution_count": 69,
   "metadata": {
    "ExecuteTime": {
     "end_time": "2020-08-10T09:37:17.173360Z",
     "start_time": "2020-08-10T09:37:17.150352Z"
    }
   },
   "outputs": [],
   "source": [
    "gbpred=gbclf.predict(X_test)"
   ]
  },
  {
   "cell_type": "code",
   "execution_count": 70,
   "metadata": {
    "ExecuteTime": {
     "end_time": "2020-08-10T09:37:18.904769Z",
     "start_time": "2020-08-10T09:37:18.895764Z"
    }
   },
   "outputs": [
    {
     "name": "stdout",
     "output_type": "stream",
     "text": [
      "MAE: 1512.6627177935163\n",
      "RMSE: 2150.5713144464708\n"
     ]
    }
   ],
   "source": [
    "print('MAE:', metrics.mean_absolute_error(y_test, gbpred))\n",
    "print('RMSE:', np.sqrt(metrics.mean_squared_error(y_test, gbpred)))"
   ]
  },
  {
   "cell_type": "markdown",
   "metadata": {},
   "source": [
    "- The GradientBoostingRegressor model is better than the KNN model but does not perform better than the Random forest model\n",
    "- The Random forest model is the better model of the three for this data\n",
    "- Hence,using this model for the deployment"
   ]
  },
  {
   "cell_type": "markdown",
   "metadata": {},
   "source": [
    "#### Summary"
   ]
  },
  {
   "cell_type": "code",
   "execution_count": 71,
   "metadata": {
    "ExecuteTime": {
     "end_time": "2020-08-10T09:37:32.759485Z",
     "start_time": "2020-08-10T09:37:32.743474Z"
    }
   },
   "outputs": [
    {
     "name": "stdout",
     "output_type": "stream",
     "text": [
      "+--------------+---------+---------+\n",
      "|    Model     |   MAE   |   RMSE  |\n",
      "+--------------+---------+---------+\n",
      "|     KNN      | 2051.72 | 2878.23 |\n",
      "| RandomForest | 1212.63 | 1909.97 |\n",
      "|     GBDT     | 1512.66 | 2150.57 |\n",
      "+--------------+---------+---------+\n"
     ]
    }
   ],
   "source": [
    "tb = PrettyTable()\n",
    "tb.field_names = [ \"Model\", 'MAE','RMSE' ]\n",
    "tb.add_row([\"KNN\",round(metrics.mean_absolute_error(y_test, knnpred),2),round(np.sqrt(metrics.mean_squared_error(y_test, knnpred)),2)])\n",
    "tb.add_row([\"RandomForest\",round(metrics.mean_absolute_error(y_test, rfpred),2),round(np.sqrt(metrics.mean_squared_error(y_test, rfpred)),2)])\n",
    "tb.add_row([\"GBDT\",round(metrics.mean_absolute_error(y_test, gbpred),2),round(np.sqrt(metrics.mean_squared_error(y_test, gbpred)),2)])\n",
    "\n",
    "print(tb)"
   ]
  },
  {
   "cell_type": "markdown",
   "metadata": {},
   "source": [
    "#### dumping the model in to a pickle file to be used in deployment "
   ]
  },
  {
   "cell_type": "code",
   "execution_count": 72,
   "metadata": {
    "ExecuteTime": {
     "end_time": "2020-08-10T09:38:38.182230Z",
     "start_time": "2020-08-10T09:38:38.175225Z"
    }
   },
   "outputs": [
    {
     "data": {
      "text/plain": [
       "\"\\nimport pickle\\nfile = open('flightact.pkl', 'wb')    \\npickle.dump(rfclf, file)\\n\""
      ]
     },
     "execution_count": 72,
     "metadata": {},
     "output_type": "execute_result"
    }
   ],
   "source": [
    "'''\n",
    "import pickle\n",
    "file = open('flightact.pkl', 'wb')    \n",
    "pickle.dump(rfclf, file)\n",
    "'''"
   ]
  },
  {
   "cell_type": "code",
   "execution_count": null,
   "metadata": {},
   "outputs": [],
   "source": []
  }
 ],
 "metadata": {
  "kernelspec": {
   "display_name": "Python 3",
   "language": "python",
   "name": "python3"
  },
  "language_info": {
   "codemirror_mode": {
    "name": "ipython",
    "version": 3
   },
   "file_extension": ".py",
   "mimetype": "text/x-python",
   "name": "python",
   "nbconvert_exporter": "python",
   "pygments_lexer": "ipython3",
   "version": "3.7.6"
  },
  "toc": {
   "base_numbering": 1,
   "nav_menu": {},
   "number_sections": true,
   "sideBar": true,
   "skip_h1_title": false,
   "title_cell": "Table of Contents",
   "title_sidebar": "Contents",
   "toc_cell": false,
   "toc_position": {},
   "toc_section_display": true,
   "toc_window_display": false
  }
 },
 "nbformat": 4,
 "nbformat_minor": 4
}

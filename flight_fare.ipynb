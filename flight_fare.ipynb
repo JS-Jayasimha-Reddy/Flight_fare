{
 "cells": [
  {
   "cell_type": "markdown",
   "metadata": {},
   "source": [
    "## Flight fare prediction"
   ]
  },
  {
   "cell_type": "code",
   "execution_count": 1,
   "metadata": {},
   "outputs": [],
   "source": [
    "import numpy as np\n",
    "import pandas as pd\n",
    "import matplotlib.pyplot as plt\n",
    "import seaborn as sns\n",
    "from sklearn import metrics\n",
    "from sklearn.feature_extraction.text import CountVectorizer\n",
    "from sklearn.model_selection import train_test_split\n",
    "import warnings\n",
    "from prettytable import PrettyTable\n",
    "warnings.filterwarnings(\"ignore\")\n",
    "from sklearn.preprocessing import OrdinalEncoder\n",
    "from sklearn.preprocessing import Normalizer\n",
    "from sklearn.ensemble import RandomForestRegressor\n",
    "from sklearn.neighbors import KNeighborsRegressor\n",
    "from sklearn.ensemble import GradientBoostingRegressor\n",
    "from sklearn.model_selection import RandomizedSearchCV"
   ]
  },
  {
   "cell_type": "code",
   "execution_count": 539,
   "metadata": {},
   "outputs": [],
   "source": [
    "data=pd.read_excel(\"Data_Train.xlsx\")"
   ]
  },
  {
   "cell_type": "code",
   "execution_count": 540,
   "metadata": {},
   "outputs": [
    {
     "data": {
      "text/html": [
       "<div>\n",
       "<style scoped>\n",
       "    .dataframe tbody tr th:only-of-type {\n",
       "        vertical-align: middle;\n",
       "    }\n",
       "\n",
       "    .dataframe tbody tr th {\n",
       "        vertical-align: top;\n",
       "    }\n",
       "\n",
       "    .dataframe thead th {\n",
       "        text-align: right;\n",
       "    }\n",
       "</style>\n",
       "<table border=\"1\" class=\"dataframe\">\n",
       "  <thead>\n",
       "    <tr style=\"text-align: right;\">\n",
       "      <th></th>\n",
       "      <th>Airline</th>\n",
       "      <th>Date_of_Journey</th>\n",
       "      <th>Source</th>\n",
       "      <th>Destination</th>\n",
       "      <th>Route</th>\n",
       "      <th>Dep_Time</th>\n",
       "      <th>Arrival_Time</th>\n",
       "      <th>Duration</th>\n",
       "      <th>Total_Stops</th>\n",
       "      <th>Additional_Info</th>\n",
       "      <th>Price</th>\n",
       "    </tr>\n",
       "  </thead>\n",
       "  <tbody>\n",
       "    <tr>\n",
       "      <th>0</th>\n",
       "      <td>IndiGo</td>\n",
       "      <td>24/03/2019</td>\n",
       "      <td>Banglore</td>\n",
       "      <td>New Delhi</td>\n",
       "      <td>BLR → DEL</td>\n",
       "      <td>22:20</td>\n",
       "      <td>01:10 22 Mar</td>\n",
       "      <td>2h 50m</td>\n",
       "      <td>non-stop</td>\n",
       "      <td>No info</td>\n",
       "      <td>3897</td>\n",
       "    </tr>\n",
       "    <tr>\n",
       "      <th>1</th>\n",
       "      <td>Air India</td>\n",
       "      <td>1/05/2019</td>\n",
       "      <td>Kolkata</td>\n",
       "      <td>Banglore</td>\n",
       "      <td>CCU → IXR → BBI → BLR</td>\n",
       "      <td>05:50</td>\n",
       "      <td>13:15</td>\n",
       "      <td>7h 25m</td>\n",
       "      <td>2 stops</td>\n",
       "      <td>No info</td>\n",
       "      <td>7662</td>\n",
       "    </tr>\n",
       "    <tr>\n",
       "      <th>2</th>\n",
       "      <td>Jet Airways</td>\n",
       "      <td>9/06/2019</td>\n",
       "      <td>Delhi</td>\n",
       "      <td>Cochin</td>\n",
       "      <td>DEL → LKO → BOM → COK</td>\n",
       "      <td>09:25</td>\n",
       "      <td>04:25 10 Jun</td>\n",
       "      <td>19h</td>\n",
       "      <td>2 stops</td>\n",
       "      <td>No info</td>\n",
       "      <td>13882</td>\n",
       "    </tr>\n",
       "    <tr>\n",
       "      <th>3</th>\n",
       "      <td>IndiGo</td>\n",
       "      <td>12/05/2019</td>\n",
       "      <td>Kolkata</td>\n",
       "      <td>Banglore</td>\n",
       "      <td>CCU → NAG → BLR</td>\n",
       "      <td>18:05</td>\n",
       "      <td>23:30</td>\n",
       "      <td>5h 25m</td>\n",
       "      <td>1 stop</td>\n",
       "      <td>No info</td>\n",
       "      <td>6218</td>\n",
       "    </tr>\n",
       "    <tr>\n",
       "      <th>4</th>\n",
       "      <td>IndiGo</td>\n",
       "      <td>01/03/2019</td>\n",
       "      <td>Banglore</td>\n",
       "      <td>New Delhi</td>\n",
       "      <td>BLR → NAG → DEL</td>\n",
       "      <td>16:50</td>\n",
       "      <td>21:35</td>\n",
       "      <td>4h 45m</td>\n",
       "      <td>1 stop</td>\n",
       "      <td>No info</td>\n",
       "      <td>13302</td>\n",
       "    </tr>\n",
       "  </tbody>\n",
       "</table>\n",
       "</div>"
      ],
      "text/plain": [
       "       Airline Date_of_Journey    Source Destination                  Route  \\\n",
       "0       IndiGo      24/03/2019  Banglore   New Delhi              BLR → DEL   \n",
       "1    Air India       1/05/2019   Kolkata    Banglore  CCU → IXR → BBI → BLR   \n",
       "2  Jet Airways       9/06/2019     Delhi      Cochin  DEL → LKO → BOM → COK   \n",
       "3       IndiGo      12/05/2019   Kolkata    Banglore        CCU → NAG → BLR   \n",
       "4       IndiGo      01/03/2019  Banglore   New Delhi        BLR → NAG → DEL   \n",
       "\n",
       "  Dep_Time  Arrival_Time Duration Total_Stops Additional_Info  Price  \n",
       "0    22:20  01:10 22 Mar   2h 50m    non-stop         No info   3897  \n",
       "1    05:50         13:15   7h 25m     2 stops         No info   7662  \n",
       "2    09:25  04:25 10 Jun      19h     2 stops         No info  13882  \n",
       "3    18:05         23:30   5h 25m      1 stop         No info   6218  \n",
       "4    16:50         21:35   4h 45m      1 stop         No info  13302  "
      ]
     },
     "execution_count": 540,
     "metadata": {},
     "output_type": "execute_result"
    }
   ],
   "source": [
    "data.head()"
   ]
  },
  {
   "cell_type": "code",
   "execution_count": 541,
   "metadata": {},
   "outputs": [
    {
     "data": {
      "text/plain": [
       "Delhi       4537\n",
       "Kolkata     2871\n",
       "Banglore    2197\n",
       "Mumbai       697\n",
       "Chennai      381\n",
       "Name: Source, dtype: int64"
      ]
     },
     "execution_count": 541,
     "metadata": {},
     "output_type": "execute_result"
    }
   ],
   "source": [
    "data[\"Source\"].value_counts()"
   ]
  },
  {
   "cell_type": "code",
   "execution_count": 542,
   "metadata": {},
   "outputs": [
    {
     "data": {
      "text/plain": [
       "Cochin       4537\n",
       "Banglore     2871\n",
       "Delhi        1265\n",
       "New Delhi     932\n",
       "Hyderabad     697\n",
       "Kolkata       381\n",
       "Name: Destination, dtype: int64"
      ]
     },
     "execution_count": 542,
     "metadata": {},
     "output_type": "execute_result"
    }
   ],
   "source": [
    "data[\"Destination\"].value_counts()"
   ]
  },
  {
   "cell_type": "code",
   "execution_count": 543,
   "metadata": {},
   "outputs": [],
   "source": [
    "indexNames = data[data['Destination'] == \"New Delhi\" ].index\n",
    "\n",
    "data.drop(indexNames , inplace=True)"
   ]
  },
  {
   "cell_type": "code",
   "execution_count": 544,
   "metadata": {},
   "outputs": [
    {
     "data": {
      "text/plain": [
       "Jet Airways                          3431\n",
       "IndiGo                               1896\n",
       "Air India                            1540\n",
       "Multiple carriers                    1196\n",
       "SpiceJet                              774\n",
       "Vistara                               425\n",
       "Air Asia                              301\n",
       "GoAir                                 170\n",
       "Multiple carriers Premium economy      13\n",
       "Jet Airways Business                    2\n",
       "Vistara Premium economy                 2\n",
       "Trujet                                  1\n",
       "Name: Airline, dtype: int64"
      ]
     },
     "execution_count": 544,
     "metadata": {},
     "output_type": "execute_result"
    }
   ],
   "source": [
    "data[\"Airline\"].value_counts()"
   ]
  },
  {
   "cell_type": "code",
   "execution_count": 545,
   "metadata": {},
   "outputs": [
    {
     "data": {
      "text/plain": [
       "(9751, 11)"
      ]
     },
     "execution_count": 545,
     "metadata": {},
     "output_type": "execute_result"
    }
   ],
   "source": [
    "data.shape"
   ]
  },
  {
   "cell_type": "code",
   "execution_count": 546,
   "metadata": {},
   "outputs": [
    {
     "data": {
      "text/plain": [
       "Airline            0\n",
       "Date_of_Journey    0\n",
       "Source             0\n",
       "Destination        0\n",
       "Route              1\n",
       "Dep_Time           0\n",
       "Arrival_Time       0\n",
       "Duration           0\n",
       "Total_Stops        1\n",
       "Additional_Info    0\n",
       "Price              0\n",
       "dtype: int64"
      ]
     },
     "execution_count": 546,
     "metadata": {},
     "output_type": "execute_result"
    }
   ],
   "source": [
    "data.isnull().sum()"
   ]
  },
  {
   "cell_type": "code",
   "execution_count": 547,
   "metadata": {},
   "outputs": [
    {
     "data": {
      "text/plain": [
       "True"
      ]
     },
     "execution_count": 547,
     "metadata": {},
     "output_type": "execute_result"
    }
   ],
   "source": [
    "data[\"Route\"].isnull().values.any()"
   ]
  },
  {
   "cell_type": "code",
   "execution_count": 548,
   "metadata": {},
   "outputs": [
    {
     "data": {
      "text/plain": [
       "True"
      ]
     },
     "execution_count": 548,
     "metadata": {},
     "output_type": "execute_result"
    }
   ],
   "source": [
    "data[\"Total_Stops\"].isnull().values.any()"
   ]
  },
  {
   "cell_type": "code",
   "execution_count": 549,
   "metadata": {},
   "outputs": [],
   "source": [
    "data.dropna(inplace=True)"
   ]
  },
  {
   "cell_type": "code",
   "execution_count": 550,
   "metadata": {},
   "outputs": [
    {
     "data": {
      "text/plain": [
       "Airline            0\n",
       "Date_of_Journey    0\n",
       "Source             0\n",
       "Destination        0\n",
       "Route              0\n",
       "Dep_Time           0\n",
       "Arrival_Time       0\n",
       "Duration           0\n",
       "Total_Stops        0\n",
       "Additional_Info    0\n",
       "Price              0\n",
       "dtype: int64"
      ]
     },
     "execution_count": 550,
     "metadata": {},
     "output_type": "execute_result"
    }
   ],
   "source": [
    "data.isnull().sum()"
   ]
  },
  {
   "cell_type": "code",
   "execution_count": 551,
   "metadata": {},
   "outputs": [
    {
     "data": {
      "text/plain": [
       "(9750, 11)"
      ]
     },
     "execution_count": 551,
     "metadata": {},
     "output_type": "execute_result"
    }
   ],
   "source": [
    "data.shape"
   ]
  },
  {
   "cell_type": "code",
   "execution_count": 552,
   "metadata": {},
   "outputs": [
    {
     "data": {
      "text/plain": [
       "<function matplotlib.pyplot.plot(*args, scalex=True, scaley=True, data=None, **kwargs)>"
      ]
     },
     "execution_count": 552,
     "metadata": {},
     "output_type": "execute_result"
    },
    {
     "data": {
      "image/png": "[encoded data removed]",
      "text/plain": [
       "<Figure size 1080x576 with 1 Axes>"
      ]
     },
     "metadata": {},
     "output_type": "display_data"
    }
   ],
   "source": [
    "fig_dims = (15, 8)\n",
    "fig, ax = plt.subplots(figsize=fig_dims)\n",
    "sns.set(style=\"whitegrid\")\n",
    "violin = sns.violinplot(x=\"Airline\", y=\"Price\", data=data)\n",
    "plt.xticks(rotation=45)\n",
    "plt.title(\"Violinplot for prices\")\n",
    "plt.plot"
   ]
  },
  {
   "cell_type": "markdown",
   "metadata": {},
   "source": [
    "#### Checking if Airline affects the price"
   ]
  },
  {
   "cell_type": "code",
   "execution_count": 553,
   "metadata": {},
   "outputs": [],
   "source": [
    "z=data.groupby(['Airline'])['Price'].mean()\n",
    "xx=list(z)"
   ]
  },
  {
   "cell_type": "code",
   "execution_count": 554,
   "metadata": {},
   "outputs": [],
   "source": [
    "g=list(data.Airline.unique())"
   ]
  },
  {
   "cell_type": "code",
   "execution_count": 555,
   "metadata": {},
   "outputs": [
    {
     "name": "stdout",
     "output_type": "stream",
     "text": [
      "['Air Asia', 'Air India', 'GoAir', 'IndiGo', 'Jet Airways', 'Jet Airways Business', 'Multiple carriers', 'Multiple carriers Premium economy', 'SpiceJet', 'Trujet', 'Vistara', 'Vistara Premium economy']\n"
     ]
    }
   ],
   "source": [
    "g.sort()\n",
    "print(g)"
   ]
  },
  {
   "cell_type": "code",
   "execution_count": 556,
   "metadata": {},
   "outputs": [
    {
     "data": {
      "text/plain": [
       "<function matplotlib.pyplot.plot(*args, scalex=True, scaley=True, data=None, **kwargs)>"
      ]
     },
     "execution_count": 556,
     "metadata": {},
     "output_type": "execute_result"
    },
    {
     "data": {
      "image/png": "[encoded data removed]",
      "text/plain": [
       "<Figure size 1080x576 with 1 Axes>"
      ]
     },
     "metadata": {},
     "output_type": "display_data"
    }
   ],
   "source": [
    "fig_dims = (15, 8)\n",
    "fig, ax = plt.subplots(figsize=fig_dims)\n",
    "sns.set(style=\"whitegrid\")\n",
    "ax = sns.barplot(x=g, y=xx,ax=ax)\n",
    "plt.xticks(rotation=45)\n",
    "plt.plot"
   ]
  },
  {
   "cell_type": "markdown",
   "metadata": {},
   "source": [
    "#### Removing Jet Airways Business"
   ]
  },
  {
   "cell_type": "code",
   "execution_count": 557,
   "metadata": {},
   "outputs": [],
   "source": [
    "indexNames1 = data[data['Airline'] == \"Jet Airways Business\" ].index\n",
    "\n",
    "data.drop(indexNames1 , inplace=True)"
   ]
  },
  {
   "cell_type": "markdown",
   "metadata": {},
   "source": [
    "#### Checking if Source affects the price"
   ]
  },
  {
   "cell_type": "code",
   "execution_count": 558,
   "metadata": {},
   "outputs": [
    {
     "data": {
      "text/plain": [
       "<function matplotlib.pyplot.plot(*args, scalex=True, scaley=True, data=None, **kwargs)>"
      ]
     },
     "execution_count": 558,
     "metadata": {},
     "output_type": "execute_result"
    },
    {
     "data": {
      "image/png": "[encoded data removed]",
      "text/plain": [
       "<Figure size 1080x576 with 1 Axes>"
      ]
     },
     "metadata": {},
     "output_type": "display_data"
    }
   ],
   "source": [
    "ig_dims = (15, 8)\n",
    "fig, ax = plt.subplots(figsize=fig_dims)\n",
    "sns.set(style=\"whitegrid\")\n",
    "violin = sns.boxplot(x=\"Source\", y=\"Price\", data=data)\n",
    "plt.xticks(rotation=45)\n",
    "plt.title(\"Violinplot for prices\")\n",
    "plt.plot"
   ]
  },
  {
   "cell_type": "markdown",
   "metadata": {},
   "source": [
    "#### Checking if total stops affect the price"
   ]
  },
  {
   "cell_type": "code",
   "execution_count": 559,
   "metadata": {},
   "outputs": [
    {
     "data": {
      "text/plain": [
       "<function matplotlib.pyplot.plot(*args, scalex=True, scaley=True, data=None, **kwargs)>"
      ]
     },
     "execution_count": 559,
     "metadata": {},
     "output_type": "execute_result"
    },
    {
     "data": {
      "image/png": "[encoded data removed]",
      "text/plain": [
       "<Figure size 1080x576 with 1 Axes>"
      ]
     },
     "metadata": {},
     "output_type": "display_data"
    }
   ],
   "source": [
    "ig_dims = (15, 8)\n",
    "fig, ax = plt.subplots(figsize=fig_dims)\n",
    "sns.set(style=\"whitegrid\")\n",
    "violin = sns.boxplot(x=\"Total_Stops\", y=\"Price\", data=data)\n",
    "plt.xticks(rotation=45)\n",
    "plt.title(\"Violinplot for prices\")\n",
    "plt.plot"
   ]
  },
  {
   "cell_type": "markdown",
   "metadata": {},
   "source": [
    "#### converting"
   ]
  },
  {
   "cell_type": "code",
   "execution_count": 560,
   "metadata": {},
   "outputs": [],
   "source": [
    "data[\"day_of_journey\"]=pd.to_datetime(data[\"Date_of_Journey\"],format=\"%d/%m/%Y\").dt.day\n",
    "data[\"month_of_journey\"]=pd.to_datetime(data[\"Date_of_Journey\"],format=\"%d/%m/%Y\").dt.month"
   ]
  },
  {
   "cell_type": "code",
   "execution_count": 561,
   "metadata": {},
   "outputs": [],
   "source": [
    "data.drop([\"Date_of_Journey\"],axis=1,inplace=True)"
   ]
  },
  {
   "cell_type": "code",
   "execution_count": 562,
   "metadata": {},
   "outputs": [],
   "source": [
    "data[\"dep_hour\"]=pd.to_datetime(data[\"Dep_Time\"]).dt.hour\n",
    "data[\"dep_min\"]=pd.to_datetime(data[\"Dep_Time\"]).dt.minute"
   ]
  },
  {
   "cell_type": "code",
   "execution_count": 563,
   "metadata": {},
   "outputs": [],
   "source": [
    "data.drop([\"Dep_Time\"],axis=1,inplace=True)"
   ]
  },
  {
   "cell_type": "code",
   "execution_count": 564,
   "metadata": {},
   "outputs": [],
   "source": [
    "data[\"arr_hour\"]=pd.to_datetime(data[\"Arrival_Time\"]).dt.hour\n",
    "data[\"arr_min\"]=pd.to_datetime(data[\"Arrival_Time\"]).dt.minute\n",
    "data.drop([\"Arrival_Time\"],axis=1,inplace=True)"
   ]
  },
  {
   "cell_type": "code",
   "execution_count": 565,
   "metadata": {},
   "outputs": [],
   "source": [
    "duration = list(data[\"Duration\"])\n",
    "def total(a):\n",
    "    for i in range(len(a)):\n",
    "        if len(a[i].split()) != 2:   \n",
    "            if \"h\" in a[i]:\n",
    "                a[i] = a[i].strip() + \" 0m\"   \n",
    "            else:\n",
    "                a[i] = \"0h \" + a[i]           \n",
    "\n",
    "    duration_hours = []\n",
    "    duration_mins = []\n",
    "    for i in range(len(a)):\n",
    "        duration_hours.append(int(a[i].split(sep = \"h\")[0]))    \n",
    "        duration_mins.append(int(a[i].split(sep = \"m\")[0].split()[-1]))   \n",
    "    total_time=[]\n",
    "    for i in range(len(duration_hours)):\n",
    "        total_time.append(((duration_hours[i])*60)+duration_mins[i])   \n",
    "    return total_time "
   ]
  },
  {
   "cell_type": "code",
   "execution_count": 566,
   "metadata": {},
   "outputs": [],
   "source": [
    "total_time=total(duration)\n",
    "data[\"total_time\"]=total_time\n",
    "data.drop([\"Duration\"],axis=1,inplace=True)"
   ]
  },
  {
   "cell_type": "code",
   "execution_count": 567,
   "metadata": {},
   "outputs": [
    {
     "data": {
      "text/html": [
       "<div>\n",
       "<style scoped>\n",
       "    .dataframe tbody tr th:only-of-type {\n",
       "        vertical-align: middle;\n",
       "    }\n",
       "\n",
       "    .dataframe tbody tr th {\n",
       "        vertical-align: top;\n",
       "    }\n",
       "\n",
       "    .dataframe thead th {\n",
       "        text-align: right;\n",
       "    }\n",
       "</style>\n",
       "<table border=\"1\" class=\"dataframe\">\n",
       "  <thead>\n",
       "    <tr style=\"text-align: right;\">\n",
       "      <th></th>\n",
       "      <th>Airline</th>\n",
       "      <th>Source</th>\n",
       "      <th>Destination</th>\n",
       "      <th>Route</th>\n",
       "      <th>Total_Stops</th>\n",
       "      <th>Additional_Info</th>\n",
       "      <th>Price</th>\n",
       "      <th>day_of_journey</th>\n",
       "      <th>month_of_journey</th>\n",
       "      <th>dep_hour</th>\n",
       "      <th>dep_min</th>\n",
       "      <th>arr_hour</th>\n",
       "      <th>arr_min</th>\n",
       "      <th>total_time</th>\n",
       "    </tr>\n",
       "  </thead>\n",
       "  <tbody>\n",
       "    <tr>\n",
       "      <th>1</th>\n",
       "      <td>Air India</td>\n",
       "      <td>Kolkata</td>\n",
       "      <td>Banglore</td>\n",
       "      <td>CCU → IXR → BBI → BLR</td>\n",
       "      <td>2 stops</td>\n",
       "      <td>No info</td>\n",
       "      <td>7662</td>\n",
       "      <td>1</td>\n",
       "      <td>5</td>\n",
       "      <td>5</td>\n",
       "      <td>50</td>\n",
       "      <td>13</td>\n",
       "      <td>15</td>\n",
       "      <td>445</td>\n",
       "    </tr>\n",
       "    <tr>\n",
       "      <th>2</th>\n",
       "      <td>Jet Airways</td>\n",
       "      <td>Delhi</td>\n",
       "      <td>Cochin</td>\n",
       "      <td>DEL → LKO → BOM → COK</td>\n",
       "      <td>2 stops</td>\n",
       "      <td>No info</td>\n",
       "      <td>13882</td>\n",
       "      <td>9</td>\n",
       "      <td>6</td>\n",
       "      <td>9</td>\n",
       "      <td>25</td>\n",
       "      <td>4</td>\n",
       "      <td>25</td>\n",
       "      <td>1140</td>\n",
       "    </tr>\n",
       "    <tr>\n",
       "      <th>3</th>\n",
       "      <td>IndiGo</td>\n",
       "      <td>Kolkata</td>\n",
       "      <td>Banglore</td>\n",
       "      <td>CCU → NAG → BLR</td>\n",
       "      <td>1 stop</td>\n",
       "      <td>No info</td>\n",
       "      <td>6218</td>\n",
       "      <td>12</td>\n",
       "      <td>5</td>\n",
       "      <td>18</td>\n",
       "      <td>5</td>\n",
       "      <td>23</td>\n",
       "      <td>30</td>\n",
       "      <td>325</td>\n",
       "    </tr>\n",
       "    <tr>\n",
       "      <th>5</th>\n",
       "      <td>SpiceJet</td>\n",
       "      <td>Kolkata</td>\n",
       "      <td>Banglore</td>\n",
       "      <td>CCU → BLR</td>\n",
       "      <td>non-stop</td>\n",
       "      <td>No info</td>\n",
       "      <td>3873</td>\n",
       "      <td>24</td>\n",
       "      <td>6</td>\n",
       "      <td>9</td>\n",
       "      <td>0</td>\n",
       "      <td>11</td>\n",
       "      <td>25</td>\n",
       "      <td>145</td>\n",
       "    </tr>\n",
       "    <tr>\n",
       "      <th>9</th>\n",
       "      <td>Multiple carriers</td>\n",
       "      <td>Delhi</td>\n",
       "      <td>Cochin</td>\n",
       "      <td>DEL → BOM → COK</td>\n",
       "      <td>1 stop</td>\n",
       "      <td>No info</td>\n",
       "      <td>8625</td>\n",
       "      <td>27</td>\n",
       "      <td>5</td>\n",
       "      <td>11</td>\n",
       "      <td>25</td>\n",
       "      <td>19</td>\n",
       "      <td>15</td>\n",
       "      <td>470</td>\n",
       "    </tr>\n",
       "  </tbody>\n",
       "</table>\n",
       "</div>"
      ],
      "text/plain": [
       "             Airline   Source Destination                  Route Total_Stops  \\\n",
       "1          Air India  Kolkata    Banglore  CCU → IXR → BBI → BLR     2 stops   \n",
       "2        Jet Airways    Delhi      Cochin  DEL → LKO → BOM → COK     2 stops   \n",
       "3             IndiGo  Kolkata    Banglore        CCU → NAG → BLR      1 stop   \n",
       "5           SpiceJet  Kolkata    Banglore              CCU → BLR    non-stop   \n",
       "9  Multiple carriers    Delhi      Cochin        DEL → BOM → COK      1 stop   \n",
       "\n",
       "  Additional_Info  Price  day_of_journey  month_of_journey  dep_hour  dep_min  \\\n",
       "1         No info   7662               1                 5         5       50   \n",
       "2         No info  13882               9                 6         9       25   \n",
       "3         No info   6218              12                 5        18        5   \n",
       "5         No info   3873              24                 6         9        0   \n",
       "9         No info   8625              27                 5        11       25   \n",
       "\n",
       "   arr_hour  arr_min  total_time  \n",
       "1        13       15         445  \n",
       "2         4       25        1140  \n",
       "3        23       30         325  \n",
       "5        11       25         145  \n",
       "9        19       15         470  "
      ]
     },
     "execution_count": 567,
     "metadata": {},
     "output_type": "execute_result"
    }
   ],
   "source": [
    "data.head()"
   ]
  },
  {
   "cell_type": "markdown",
   "metadata": {},
   "source": [
    "#### dropping additional info and route"
   ]
  },
  {
   "cell_type": "code",
   "execution_count": 568,
   "metadata": {},
   "outputs": [],
   "source": [
    "data.drop([\"Route\", \"Additional_Info\"], axis = 1, inplace = True)"
   ]
  },
  {
   "cell_type": "markdown",
   "metadata": {},
   "source": [
    "#### featurising total stops"
   ]
  },
  {
   "cell_type": "code",
   "execution_count": 569,
   "metadata": {},
   "outputs": [],
   "source": [
    "data.replace({\"non-stop\": 0, \"1 stop\": 1, \"2 stops\": 2, \"3 stops\": 3, \"4 stops\": 4}, inplace = True)"
   ]
  },
  {
   "cell_type": "markdown",
   "metadata": {},
   "source": [
    "#### featurising Airline"
   ]
  },
  {
   "cell_type": "code",
   "execution_count": 570,
   "metadata": {},
   "outputs": [],
   "source": [
    "air_train = data[[\"Airline\"]]\n",
    "air_train = pd.get_dummies(air_train, drop_first = True)\n",
    "data.drop([\"Airline\"],axis=1,inplace=True)"
   ]
  },
  {
   "cell_type": "code",
   "execution_count": 571,
   "metadata": {},
   "outputs": [
    {
     "data": {
      "text/plain": [
       "(9748, 10)"
      ]
     },
     "execution_count": 571,
     "metadata": {},
     "output_type": "execute_result"
    }
   ],
   "source": [
    "air_train.shape"
   ]
  },
  {
   "cell_type": "markdown",
   "metadata": {},
   "source": [
    "#### featurising source"
   ]
  },
  {
   "cell_type": "code",
   "execution_count": 572,
   "metadata": {},
   "outputs": [],
   "source": [
    "source_train = data[[\"Source\"]]\n",
    "source_train = pd.get_dummies(source_train, drop_first = True)\n",
    "data.drop([\"Source\"],axis=1,inplace=True)           "
   ]
  },
  {
   "cell_type": "code",
   "execution_count": 573,
   "metadata": {},
   "outputs": [
    {
     "data": {
      "text/plain": [
       "(9748, 10)"
      ]
     },
     "execution_count": 573,
     "metadata": {},
     "output_type": "execute_result"
    }
   ],
   "source": [
    "data.shape"
   ]
  },
  {
   "cell_type": "markdown",
   "metadata": {},
   "source": [
    "#### featurusing destination"
   ]
  },
  {
   "cell_type": "code",
   "execution_count": 574,
   "metadata": {},
   "outputs": [],
   "source": [
    "dest_train = data[[\"Destination\"]]\n",
    "dest_train = pd.get_dummies(dest_train,drop_first = True)\n",
    "data.drop([\"Destination\"],axis=1,inplace=True)"
   ]
  },
  {
   "cell_type": "code",
   "execution_count": 575,
   "metadata": {},
   "outputs": [
    {
     "data": {
      "text/plain": [
       "(9748, 4)"
      ]
     },
     "execution_count": 575,
     "metadata": {},
     "output_type": "execute_result"
    }
   ],
   "source": [
    "dest_train.shape"
   ]
  },
  {
   "cell_type": "markdown",
   "metadata": {},
   "source": [
    "#### Merging"
   ]
  },
  {
   "cell_type": "code",
   "execution_count": 576,
   "metadata": {},
   "outputs": [],
   "source": [
    "x_tr=pd.concat([data, air_train, source_train, dest_train], axis = 1)"
   ]
  },
  {
   "cell_type": "code",
   "execution_count": 577,
   "metadata": {},
   "outputs": [],
   "source": [
    "y = x_tr['Price'].values #seperating the features\n",
    "X = x_tr.drop(['Price'], axis=1)"
   ]
  },
  {
   "cell_type": "code",
   "execution_count": 578,
   "metadata": {},
   "outputs": [],
   "source": [
    "X_train, X_cv, y_train, y_cv = train_test_split(X, y, test_size=0.1,random_state=42) "
   ]
  },
  {
   "cell_type": "code",
   "execution_count": 579,
   "metadata": {},
   "outputs": [
    {
     "data": {
      "text/plain": [
       "(975, 26)"
      ]
     },
     "execution_count": 579,
     "metadata": {},
     "output_type": "execute_result"
    }
   ],
   "source": [
    "X_cv.shape"
   ]
  },
  {
   "cell_type": "markdown",
   "metadata": {},
   "source": [
    "#### Model 1--KNN"
   ]
  },
  {
   "cell_type": "markdown",
   "metadata": {},
   "source": [
    "##### Hyperparameter tuning"
   ]
  },
  {
   "cell_type": "code",
   "execution_count": 580,
   "metadata": {},
   "outputs": [],
   "source": [
    "knnparams = {'n_neighbors':[7,10,12,15,20,20],\n",
    "          'leaf_size':[1,2,3,5],\n",
    "          'weights':['uniform', 'distance'],\n",
    "          'algorithm':['auto', 'ball_tree','kd_tree','brute'],\n",
    "          'n_jobs':[-1]}"
   ]
  },
  {
   "cell_type": "code",
   "execution_count": 581,
   "metadata": {},
   "outputs": [],
   "source": [
    "model1=KNeighborsRegressor()"
   ]
  },
  {
   "cell_type": "code",
   "execution_count": 582,
   "metadata": {},
   "outputs": [],
   "source": [
    "knnrand = RandomizedSearchCV(estimator=model1, param_distributions=knnparams,scoring='neg_mean_squared_error', n_iter = 10, cv = 5, verbose=2, random_state=42, n_jobs = 1)"
   ]
  },
  {
   "cell_type": "code",
   "execution_count": 583,
   "metadata": {},
   "outputs": [
    {
     "name": "stdout",
     "output_type": "stream",
     "text": [
      "Fitting 5 folds for each of 10 candidates, totalling 50 fits\n",
      "[CV] weights=distance, n_neighbors=20, n_jobs=-1, leaf_size=5, algorithm=auto \n"
     ]
    },
    {
     "name": "stderr",
     "output_type": "stream",
     "text": [
      "[Parallel(n_jobs=1)]: Using backend SequentialBackend with 1 concurrent workers.\n"
     ]
    },
    {
     "name": "stdout",
     "output_type": "stream",
     "text": [
      "[CV]  weights=distance, n_neighbors=20, n_jobs=-1, leaf_size=5, algorithm=auto, total=  12.6s\n",
      "[CV] weights=distance, n_neighbors=20, n_jobs=-1, leaf_size=5, algorithm=auto \n"
     ]
    },
    {
     "name": "stderr",
     "output_type": "stream",
     "text": [
      "[Parallel(n_jobs=1)]: Done   1 out of   1 | elapsed:   12.5s remaining:    0.0s\n"
     ]
    },
    {
     "name": "stdout",
     "output_type": "stream",
     "text": [
      "[CV]  weights=distance, n_neighbors=20, n_jobs=-1, leaf_size=5, algorithm=auto, total=   0.2s\n",
      "[CV] weights=distance, n_neighbors=20, n_jobs=-1, leaf_size=5, algorithm=auto \n",
      "[CV]  weights=distance, n_neighbors=20, n_jobs=-1, leaf_size=5, algorithm=auto, total=   0.2s\n",
      "[CV] weights=distance, n_neighbors=20, n_jobs=-1, leaf_size=5, algorithm=auto \n",
      "[CV]  weights=distance, n_neighbors=20, n_jobs=-1, leaf_size=5, algorithm=auto, total=   0.2s\n",
      "[CV] weights=distance, n_neighbors=20, n_jobs=-1, leaf_size=5, algorithm=auto \n",
      "[CV]  weights=distance, n_neighbors=20, n_jobs=-1, leaf_size=5, algorithm=auto, total=   0.2s\n",
      "[CV] weights=uniform, n_neighbors=12, n_jobs=-1, leaf_size=5, algorithm=kd_tree \n",
      "[CV]  weights=uniform, n_neighbors=12, n_jobs=-1, leaf_size=5, algorithm=kd_tree, total=   0.2s\n",
      "[CV] weights=uniform, n_neighbors=12, n_jobs=-1, leaf_size=5, algorithm=kd_tree \n",
      "[CV]  weights=uniform, n_neighbors=12, n_jobs=-1, leaf_size=5, algorithm=kd_tree, total=   0.2s\n",
      "[CV] weights=uniform, n_neighbors=12, n_jobs=-1, leaf_size=5, algorithm=kd_tree \n",
      "[CV]  weights=uniform, n_neighbors=12, n_jobs=-1, leaf_size=5, algorithm=kd_tree, total=   0.2s\n",
      "[CV] weights=uniform, n_neighbors=12, n_jobs=-1, leaf_size=5, algorithm=kd_tree \n",
      "[CV]  weights=uniform, n_neighbors=12, n_jobs=-1, leaf_size=5, algorithm=kd_tree, total=   0.2s\n",
      "[CV] weights=uniform, n_neighbors=12, n_jobs=-1, leaf_size=5, algorithm=kd_tree \n",
      "[CV]  weights=uniform, n_neighbors=12, n_jobs=-1, leaf_size=5, algorithm=kd_tree, total=   0.2s\n",
      "[CV] weights=uniform, n_neighbors=12, n_jobs=-1, leaf_size=3, algorithm=ball_tree \n",
      "[CV]  weights=uniform, n_neighbors=12, n_jobs=-1, leaf_size=3, algorithm=ball_tree, total=   0.2s\n",
      "[CV] weights=uniform, n_neighbors=12, n_jobs=-1, leaf_size=3, algorithm=ball_tree \n",
      "[CV]  weights=uniform, n_neighbors=12, n_jobs=-1, leaf_size=3, algorithm=ball_tree, total=   0.1s\n",
      "[CV] weights=uniform, n_neighbors=12, n_jobs=-1, leaf_size=3, algorithm=ball_tree \n",
      "[CV]  weights=uniform, n_neighbors=12, n_jobs=-1, leaf_size=3, algorithm=ball_tree, total=   0.2s\n",
      "[CV] weights=uniform, n_neighbors=12, n_jobs=-1, leaf_size=3, algorithm=ball_tree \n",
      "[CV]  weights=uniform, n_neighbors=12, n_jobs=-1, leaf_size=3, algorithm=ball_tree, total=   0.1s\n",
      "[CV] weights=uniform, n_neighbors=12, n_jobs=-1, leaf_size=3, algorithm=ball_tree \n",
      "[CV]  weights=uniform, n_neighbors=12, n_jobs=-1, leaf_size=3, algorithm=ball_tree, total=   0.1s\n",
      "[CV] weights=distance, n_neighbors=20, n_jobs=-1, leaf_size=5, algorithm=kd_tree \n",
      "[CV]  weights=distance, n_neighbors=20, n_jobs=-1, leaf_size=5, algorithm=kd_tree, total=   0.2s\n",
      "[CV] weights=distance, n_neighbors=20, n_jobs=-1, leaf_size=5, algorithm=kd_tree \n",
      "[CV]  weights=distance, n_neighbors=20, n_jobs=-1, leaf_size=5, algorithm=kd_tree, total=   0.2s\n",
      "[CV] weights=distance, n_neighbors=20, n_jobs=-1, leaf_size=5, algorithm=kd_tree \n",
      "[CV]  weights=distance, n_neighbors=20, n_jobs=-1, leaf_size=5, algorithm=kd_tree, total=   0.2s\n",
      "[CV] weights=distance, n_neighbors=20, n_jobs=-1, leaf_size=5, algorithm=kd_tree \n",
      "[CV]  weights=distance, n_neighbors=20, n_jobs=-1, leaf_size=5, algorithm=kd_tree, total=   0.2s\n",
      "[CV] weights=distance, n_neighbors=20, n_jobs=-1, leaf_size=5, algorithm=kd_tree \n",
      "[CV]  weights=distance, n_neighbors=20, n_jobs=-1, leaf_size=5, algorithm=kd_tree, total=   0.2s\n",
      "[CV] weights=distance, n_neighbors=12, n_jobs=-1, leaf_size=2, algorithm=kd_tree \n",
      "[CV]  weights=distance, n_neighbors=12, n_jobs=-1, leaf_size=2, algorithm=kd_tree, total=   0.2s\n",
      "[CV] weights=distance, n_neighbors=12, n_jobs=-1, leaf_size=2, algorithm=kd_tree \n",
      "[CV]  weights=distance, n_neighbors=12, n_jobs=-1, leaf_size=2, algorithm=kd_tree, total=   0.2s\n",
      "[CV] weights=distance, n_neighbors=12, n_jobs=-1, leaf_size=2, algorithm=kd_tree \n",
      "[CV]  weights=distance, n_neighbors=12, n_jobs=-1, leaf_size=2, algorithm=kd_tree, total=   0.2s\n",
      "[CV] weights=distance, n_neighbors=12, n_jobs=-1, leaf_size=2, algorithm=kd_tree \n",
      "[CV]  weights=distance, n_neighbors=12, n_jobs=-1, leaf_size=2, algorithm=kd_tree, total=   0.2s\n",
      "[CV] weights=distance, n_neighbors=12, n_jobs=-1, leaf_size=2, algorithm=kd_tree \n",
      "[CV]  weights=distance, n_neighbors=12, n_jobs=-1, leaf_size=2, algorithm=kd_tree, total=   0.2s\n",
      "[CV] weights=distance, n_neighbors=20, n_jobs=-1, leaf_size=3, algorithm=brute \n",
      "[CV]  weights=distance, n_neighbors=20, n_jobs=-1, leaf_size=3, algorithm=brute, total=   1.8s\n",
      "[CV] weights=distance, n_neighbors=20, n_jobs=-1, leaf_size=3, algorithm=brute \n",
      "[CV]  weights=distance, n_neighbors=20, n_jobs=-1, leaf_size=3, algorithm=brute, total=   0.8s\n",
      "[CV] weights=distance, n_neighbors=20, n_jobs=-1, leaf_size=3, algorithm=brute \n",
      "[CV]  weights=distance, n_neighbors=20, n_jobs=-1, leaf_size=3, algorithm=brute, total=   0.8s\n",
      "[CV] weights=distance, n_neighbors=20, n_jobs=-1, leaf_size=3, algorithm=brute \n",
      "[CV]  weights=distance, n_neighbors=20, n_jobs=-1, leaf_size=3, algorithm=brute, total=   0.9s\n",
      "[CV] weights=distance, n_neighbors=20, n_jobs=-1, leaf_size=3, algorithm=brute \n",
      "[CV]  weights=distance, n_neighbors=20, n_jobs=-1, leaf_size=3, algorithm=brute, total=   1.1s\n",
      "[CV] weights=distance, n_neighbors=10, n_jobs=-1, leaf_size=2, algorithm=auto \n",
      "[CV]  weights=distance, n_neighbors=10, n_jobs=-1, leaf_size=2, algorithm=auto, total=   0.4s\n",
      "[CV] weights=distance, n_neighbors=10, n_jobs=-1, leaf_size=2, algorithm=auto \n",
      "[CV]  weights=distance, n_neighbors=10, n_jobs=-1, leaf_size=2, algorithm=auto, total=   0.2s\n",
      "[CV] weights=distance, n_neighbors=10, n_jobs=-1, leaf_size=2, algorithm=auto \n",
      "[CV]  weights=distance, n_neighbors=10, n_jobs=-1, leaf_size=2, algorithm=auto, total=   0.2s\n",
      "[CV] weights=distance, n_neighbors=10, n_jobs=-1, leaf_size=2, algorithm=auto \n",
      "[CV]  weights=distance, n_neighbors=10, n_jobs=-1, leaf_size=2, algorithm=auto, total=   0.3s\n",
      "[CV] weights=distance, n_neighbors=10, n_jobs=-1, leaf_size=2, algorithm=auto \n",
      "[CV]  weights=distance, n_neighbors=10, n_jobs=-1, leaf_size=2, algorithm=auto, total=   0.3s\n",
      "[CV] weights=uniform, n_neighbors=15, n_jobs=-1, leaf_size=2, algorithm=auto \n",
      "[CV]  weights=uniform, n_neighbors=15, n_jobs=-1, leaf_size=2, algorithm=auto, total=   0.3s\n",
      "[CV] weights=uniform, n_neighbors=15, n_jobs=-1, leaf_size=2, algorithm=auto \n",
      "[CV]  weights=uniform, n_neighbors=15, n_jobs=-1, leaf_size=2, algorithm=auto, total=   0.3s\n",
      "[CV] weights=uniform, n_neighbors=15, n_jobs=-1, leaf_size=2, algorithm=auto \n",
      "[CV]  weights=uniform, n_neighbors=15, n_jobs=-1, leaf_size=2, algorithm=auto, total=   0.6s\n",
      "[CV] weights=uniform, n_neighbors=15, n_jobs=-1, leaf_size=2, algorithm=auto \n",
      "[CV]  weights=uniform, n_neighbors=15, n_jobs=-1, leaf_size=2, algorithm=auto, total=   0.3s\n",
      "[CV] weights=uniform, n_neighbors=15, n_jobs=-1, leaf_size=2, algorithm=auto \n",
      "[CV]  weights=uniform, n_neighbors=15, n_jobs=-1, leaf_size=2, algorithm=auto, total=   0.4s\n",
      "[CV] weights=uniform, n_neighbors=12, n_jobs=-1, leaf_size=2, algorithm=auto \n",
      "[CV]  weights=uniform, n_neighbors=12, n_jobs=-1, leaf_size=2, algorithm=auto, total=   0.5s\n",
      "[CV] weights=uniform, n_neighbors=12, n_jobs=-1, leaf_size=2, algorithm=auto \n",
      "[CV]  weights=uniform, n_neighbors=12, n_jobs=-1, leaf_size=2, algorithm=auto, total=   0.3s\n",
      "[CV] weights=uniform, n_neighbors=12, n_jobs=-1, leaf_size=2, algorithm=auto \n",
      "[CV]  weights=uniform, n_neighbors=12, n_jobs=-1, leaf_size=2, algorithm=auto, total=   0.3s\n",
      "[CV] weights=uniform, n_neighbors=12, n_jobs=-1, leaf_size=2, algorithm=auto \n",
      "[CV]  weights=uniform, n_neighbors=12, n_jobs=-1, leaf_size=2, algorithm=auto, total=   0.3s\n",
      "[CV] weights=uniform, n_neighbors=12, n_jobs=-1, leaf_size=2, algorithm=auto \n",
      "[CV]  weights=uniform, n_neighbors=12, n_jobs=-1, leaf_size=2, algorithm=auto, total=   0.3s\n",
      "[CV] weights=distance, n_neighbors=20, n_jobs=-1, leaf_size=1, algorithm=auto \n",
      "[CV]  weights=distance, n_neighbors=20, n_jobs=-1, leaf_size=1, algorithm=auto, total=   0.3s\n",
      "[CV] weights=distance, n_neighbors=20, n_jobs=-1, leaf_size=1, algorithm=auto \n",
      "[CV]  weights=distance, n_neighbors=20, n_jobs=-1, leaf_size=1, algorithm=auto, total=   0.2s\n",
      "[CV] weights=distance, n_neighbors=20, n_jobs=-1, leaf_size=1, algorithm=auto \n",
      "[CV]  weights=distance, n_neighbors=20, n_jobs=-1, leaf_size=1, algorithm=auto, total=   0.3s\n",
      "[CV] weights=distance, n_neighbors=20, n_jobs=-1, leaf_size=1, algorithm=auto \n"
     ]
    },
    {
     "name": "stdout",
     "output_type": "stream",
     "text": [
      "[CV]  weights=distance, n_neighbors=20, n_jobs=-1, leaf_size=1, algorithm=auto, total=   0.3s\n",
      "[CV] weights=distance, n_neighbors=20, n_jobs=-1, leaf_size=1, algorithm=auto \n",
      "[CV]  weights=distance, n_neighbors=20, n_jobs=-1, leaf_size=1, algorithm=auto, total=   0.3s\n"
     ]
    },
    {
     "name": "stderr",
     "output_type": "stream",
     "text": [
      "[Parallel(n_jobs=1)]: Done  50 out of  50 | elapsed:   28.9s finished\n"
     ]
    },
    {
     "data": {
      "text/plain": [
       "RandomizedSearchCV(cv=5, error_score=nan,\n",
       "                   estimator=KNeighborsRegressor(algorithm='auto', leaf_size=30,\n",
       "                                                 metric='minkowski',\n",
       "                                                 metric_params=None,\n",
       "                                                 n_jobs=None, n_neighbors=5,\n",
       "                                                 p=2, weights='uniform'),\n",
       "                   iid='deprecated', n_iter=10, n_jobs=1,\n",
       "                   param_distributions={'algorithm': ['auto', 'ball_tree',\n",
       "                                                      'kd_tree', 'brute'],\n",
       "                                        'leaf_size': [1, 2, 3, 5],\n",
       "                                        'n_jobs': [-1],\n",
       "                                        'n_neighbors': [7, 10, 12, 15, 20, 20],\n",
       "                                        'weights': ['uniform', 'distance']},\n",
       "                   pre_dispatch='2*n_jobs', random_state=42, refit=True,\n",
       "                   return_train_score=False, scoring='neg_mean_squared_error',\n",
       "                   verbose=2)"
      ]
     },
     "execution_count": 583,
     "metadata": {},
     "output_type": "execute_result"
    }
   ],
   "source": [
    "knnrand.fit(X_train,y_train)"
   ]
  },
  {
   "cell_type": "code",
   "execution_count": 584,
   "metadata": {},
   "outputs": [
    {
     "data": {
      "text/plain": [
       "{'weights': 'uniform',\n",
       " 'n_neighbors': 12,\n",
       " 'n_jobs': -1,\n",
       " 'leaf_size': 2,\n",
       " 'algorithm': 'auto'}"
      ]
     },
     "execution_count": 584,
     "metadata": {},
     "output_type": "execute_result"
    }
   ],
   "source": [
    "knnrand.best_params_"
   ]
  },
  {
   "cell_type": "code",
   "execution_count": 585,
   "metadata": {},
   "outputs": [
    {
     "data": {
      "text/plain": [
       "KNeighborsRegressor(algorithm='auto', leaf_size=2, metric='minkowski',\n",
       "                    metric_params=None, n_jobs=-1, n_neighbors=10, p=2,\n",
       "                    weights='distance')"
      ]
     },
     "execution_count": 585,
     "metadata": {},
     "output_type": "execute_result"
    }
   ],
   "source": [
    "knnclf=KNeighborsRegressor(n_neighbors=10,weights='distance',n_jobs= -1,leaf_size=2,algorithm='auto')\n",
    "knnclf.fit(X_train,y_train)"
   ]
  },
  {
   "cell_type": "code",
   "execution_count": 586,
   "metadata": {},
   "outputs": [],
   "source": [
    "knnpred=knnclf.predict(X_cv)"
   ]
  },
  {
   "cell_type": "code",
   "execution_count": 587,
   "metadata": {},
   "outputs": [
    {
     "name": "stdout",
     "output_type": "stream",
     "text": [
      "MAE: 1820.235974358123\n",
      "RMSE: 2681.4467189503225\n"
     ]
    }
   ],
   "source": [
    "print('MAE:', metrics.mean_absolute_error(y_cv, knnpred))\n",
    "print('RMSE:', np.sqrt(metrics.mean_squared_error(y_cv, knnpred)))"
   ]
  },
  {
   "cell_type": "markdown",
   "metadata": {},
   "source": [
    "#### Model 2--Random forest"
   ]
  },
  {
   "cell_type": "markdown",
   "metadata": {},
   "source": [
    "##### Hyperparameter tuning"
   ]
  },
  {
   "cell_type": "code",
   "execution_count": 588,
   "metadata": {},
   "outputs": [],
   "source": [
    "n_estimators = [int(x) for x in np.linspace(start = 100, stop = 1200, num = 12)]\n",
    "max_features = ['auto', 'sqrt']\n",
    "max_depth = [int(x) for x in np.linspace(5, 30, num = 6)]\n",
    "min_samples_split = [2, 5, 10, 15, 100]\n",
    "min_samples_leaf = [1, 2, 5, 10]\n",
    "\n",
    "rfmodel= RandomForestRegressor()"
   ]
  },
  {
   "cell_type": "code",
   "execution_count": 589,
   "metadata": {},
   "outputs": [],
   "source": [
    "rfparam = {'n_estimators': n_estimators,\n",
    "               'max_features': max_features,\n",
    "               'max_depth': max_depth,\n",
    "               'min_samples_split': min_samples_split,\n",
    "               'min_samples_leaf': min_samples_leaf}"
   ]
  },
  {
   "cell_type": "code",
   "execution_count": 590,
   "metadata": {},
   "outputs": [],
   "source": [
    "rfrand = RandomizedSearchCV(estimator = rfmodel, param_distributions=rfparam,scoring='neg_mean_squared_error', n_iter = 10, cv = 5, verbose=2, random_state=42, n_jobs = 1)"
   ]
  },
  {
   "cell_type": "code",
   "execution_count": 591,
   "metadata": {},
   "outputs": [
    {
     "name": "stdout",
     "output_type": "stream",
     "text": [
      "Fitting 5 folds for each of 10 candidates, totalling 50 fits\n",
      "[CV] n_estimators=900, min_samples_split=5, min_samples_leaf=5, max_features=sqrt, max_depth=10 \n"
     ]
    },
    {
     "name": "stderr",
     "output_type": "stream",
     "text": [
      "[Parallel(n_jobs=1)]: Using backend SequentialBackend with 1 concurrent workers.\n"
     ]
    },
    {
     "name": "stdout",
     "output_type": "stream",
     "text": [
      "[CV]  n_estimators=900, min_samples_split=5, min_samples_leaf=5, max_features=sqrt, max_depth=10, total=   7.9s\n",
      "[CV] n_estimators=900, min_samples_split=5, min_samples_leaf=5, max_features=sqrt, max_depth=10 \n"
     ]
    },
    {
     "name": "stderr",
     "output_type": "stream",
     "text": [
      "[Parallel(n_jobs=1)]: Done   1 out of   1 | elapsed:    7.8s remaining:    0.0s\n"
     ]
    },
    {
     "name": "stdout",
     "output_type": "stream",
     "text": [
      "[CV]  n_estimators=900, min_samples_split=5, min_samples_leaf=5, max_features=sqrt, max_depth=10, total=   7.0s\n",
      "[CV] n_estimators=900, min_samples_split=5, min_samples_leaf=5, max_features=sqrt, max_depth=10 \n",
      "[CV]  n_estimators=900, min_samples_split=5, min_samples_leaf=5, max_features=sqrt, max_depth=10, total=   5.7s\n",
      "[CV] n_estimators=900, min_samples_split=5, min_samples_leaf=5, max_features=sqrt, max_depth=10 \n",
      "[CV]  n_estimators=900, min_samples_split=5, min_samples_leaf=5, max_features=sqrt, max_depth=10, total=   6.2s\n",
      "[CV] n_estimators=900, min_samples_split=5, min_samples_leaf=5, max_features=sqrt, max_depth=10 \n",
      "[CV]  n_estimators=900, min_samples_split=5, min_samples_leaf=5, max_features=sqrt, max_depth=10, total=   6.1s\n",
      "[CV] n_estimators=1100, min_samples_split=10, min_samples_leaf=2, max_features=sqrt, max_depth=15 \n",
      "[CV]  n_estimators=1100, min_samples_split=10, min_samples_leaf=2, max_features=sqrt, max_depth=15, total=   9.9s\n",
      "[CV] n_estimators=1100, min_samples_split=10, min_samples_leaf=2, max_features=sqrt, max_depth=15 \n",
      "[CV]  n_estimators=1100, min_samples_split=10, min_samples_leaf=2, max_features=sqrt, max_depth=15, total=   8.8s\n",
      "[CV] n_estimators=1100, min_samples_split=10, min_samples_leaf=2, max_features=sqrt, max_depth=15 \n",
      "[CV]  n_estimators=1100, min_samples_split=10, min_samples_leaf=2, max_features=sqrt, max_depth=15, total=   9.2s\n",
      "[CV] n_estimators=1100, min_samples_split=10, min_samples_leaf=2, max_features=sqrt, max_depth=15 \n",
      "[CV]  n_estimators=1100, min_samples_split=10, min_samples_leaf=2, max_features=sqrt, max_depth=15, total=   7.8s\n",
      "[CV] n_estimators=1100, min_samples_split=10, min_samples_leaf=2, max_features=sqrt, max_depth=15 \n",
      "[CV]  n_estimators=1100, min_samples_split=10, min_samples_leaf=2, max_features=sqrt, max_depth=15, total=   7.6s\n",
      "[CV] n_estimators=300, min_samples_split=100, min_samples_leaf=5, max_features=auto, max_depth=15 \n",
      "[CV]  n_estimators=300, min_samples_split=100, min_samples_leaf=5, max_features=auto, max_depth=15, total=   3.9s\n",
      "[CV] n_estimators=300, min_samples_split=100, min_samples_leaf=5, max_features=auto, max_depth=15 \n",
      "[CV]  n_estimators=300, min_samples_split=100, min_samples_leaf=5, max_features=auto, max_depth=15, total=   4.1s\n",
      "[CV] n_estimators=300, min_samples_split=100, min_samples_leaf=5, max_features=auto, max_depth=15 \n",
      "[CV]  n_estimators=300, min_samples_split=100, min_samples_leaf=5, max_features=auto, max_depth=15, total=   4.3s\n",
      "[CV] n_estimators=300, min_samples_split=100, min_samples_leaf=5, max_features=auto, max_depth=15 \n",
      "[CV]  n_estimators=300, min_samples_split=100, min_samples_leaf=5, max_features=auto, max_depth=15, total=   4.6s\n",
      "[CV] n_estimators=300, min_samples_split=100, min_samples_leaf=5, max_features=auto, max_depth=15 \n",
      "[CV]  n_estimators=300, min_samples_split=100, min_samples_leaf=5, max_features=auto, max_depth=15, total=   6.3s\n",
      "[CV] n_estimators=400, min_samples_split=5, min_samples_leaf=5, max_features=auto, max_depth=15 \n",
      "[CV]  n_estimators=400, min_samples_split=5, min_samples_leaf=5, max_features=auto, max_depth=15, total=   7.8s\n",
      "[CV] n_estimators=400, min_samples_split=5, min_samples_leaf=5, max_features=auto, max_depth=15 \n",
      "[CV]  n_estimators=400, min_samples_split=5, min_samples_leaf=5, max_features=auto, max_depth=15, total=   8.0s\n",
      "[CV] n_estimators=400, min_samples_split=5, min_samples_leaf=5, max_features=auto, max_depth=15 \n",
      "[CV]  n_estimators=400, min_samples_split=5, min_samples_leaf=5, max_features=auto, max_depth=15, total=   7.5s\n",
      "[CV] n_estimators=400, min_samples_split=5, min_samples_leaf=5, max_features=auto, max_depth=15 \n",
      "[CV]  n_estimators=400, min_samples_split=5, min_samples_leaf=5, max_features=auto, max_depth=15, total=  10.5s\n",
      "[CV] n_estimators=400, min_samples_split=5, min_samples_leaf=5, max_features=auto, max_depth=15 \n",
      "[CV]  n_estimators=400, min_samples_split=5, min_samples_leaf=5, max_features=auto, max_depth=15, total=  12.1s\n",
      "[CV] n_estimators=700, min_samples_split=5, min_samples_leaf=10, max_features=auto, max_depth=20 \n",
      "[CV]  n_estimators=700, min_samples_split=5, min_samples_leaf=10, max_features=auto, max_depth=20, total=  17.0s\n",
      "[CV] n_estimators=700, min_samples_split=5, min_samples_leaf=10, max_features=auto, max_depth=20 \n",
      "[CV]  n_estimators=700, min_samples_split=5, min_samples_leaf=10, max_features=auto, max_depth=20, total=  11.7s\n",
      "[CV] n_estimators=700, min_samples_split=5, min_samples_leaf=10, max_features=auto, max_depth=20 \n",
      "[CV]  n_estimators=700, min_samples_split=5, min_samples_leaf=10, max_features=auto, max_depth=20, total=  10.5s\n",
      "[CV] n_estimators=700, min_samples_split=5, min_samples_leaf=10, max_features=auto, max_depth=20 \n",
      "[CV]  n_estimators=700, min_samples_split=5, min_samples_leaf=10, max_features=auto, max_depth=20, total=  10.6s\n",
      "[CV] n_estimators=700, min_samples_split=5, min_samples_leaf=10, max_features=auto, max_depth=20 \n",
      "[CV]  n_estimators=700, min_samples_split=5, min_samples_leaf=10, max_features=auto, max_depth=20, total=  10.7s\n",
      "[CV] n_estimators=1000, min_samples_split=2, min_samples_leaf=1, max_features=sqrt, max_depth=25 \n",
      "[CV]  n_estimators=1000, min_samples_split=2, min_samples_leaf=1, max_features=sqrt, max_depth=25, total=  12.4s\n",
      "[CV] n_estimators=1000, min_samples_split=2, min_samples_leaf=1, max_features=sqrt, max_depth=25 \n",
      "[CV]  n_estimators=1000, min_samples_split=2, min_samples_leaf=1, max_features=sqrt, max_depth=25, total=  11.4s\n",
      "[CV] n_estimators=1000, min_samples_split=2, min_samples_leaf=1, max_features=sqrt, max_depth=25 \n",
      "[CV]  n_estimators=1000, min_samples_split=2, min_samples_leaf=1, max_features=sqrt, max_depth=25, total=  11.2s\n",
      "[CV] n_estimators=1000, min_samples_split=2, min_samples_leaf=1, max_features=sqrt, max_depth=25 \n",
      "[CV]  n_estimators=1000, min_samples_split=2, min_samples_leaf=1, max_features=sqrt, max_depth=25, total=  11.2s\n",
      "[CV] n_estimators=1000, min_samples_split=2, min_samples_leaf=1, max_features=sqrt, max_depth=25 \n",
      "[CV]  n_estimators=1000, min_samples_split=2, min_samples_leaf=1, max_features=sqrt, max_depth=25, total=  11.4s\n",
      "[CV] n_estimators=1100, min_samples_split=15, min_samples_leaf=10, max_features=sqrt, max_depth=5 \n",
      "[CV]  n_estimators=1100, min_samples_split=15, min_samples_leaf=10, max_features=sqrt, max_depth=5, total=   4.5s\n",
      "[CV] n_estimators=1100, min_samples_split=15, min_samples_leaf=10, max_features=sqrt, max_depth=5 \n",
      "[CV]  n_estimators=1100, min_samples_split=15, min_samples_leaf=10, max_features=sqrt, max_depth=5, total=   4.2s\n",
      "[CV] n_estimators=1100, min_samples_split=15, min_samples_leaf=10, max_features=sqrt, max_depth=5 \n",
      "[CV]  n_estimators=1100, min_samples_split=15, min_samples_leaf=10, max_features=sqrt, max_depth=5, total=   4.6s\n",
      "[CV] n_estimators=1100, min_samples_split=15, min_samples_leaf=10, max_features=sqrt, max_depth=5 \n",
      "[CV]  n_estimators=1100, min_samples_split=15, min_samples_leaf=10, max_features=sqrt, max_depth=5, total=   4.1s\n",
      "[CV] n_estimators=1100, min_samples_split=15, min_samples_leaf=10, max_features=sqrt, max_depth=5 \n",
      "[CV]  n_estimators=1100, min_samples_split=15, min_samples_leaf=10, max_features=sqrt, max_depth=5, total=   4.0s\n",
      "[CV] n_estimators=300, min_samples_split=15, min_samples_leaf=1, max_features=sqrt, max_depth=15 \n",
      "[CV]  n_estimators=300, min_samples_split=15, min_samples_leaf=1, max_features=sqrt, max_depth=15, total=   2.0s\n",
      "[CV] n_estimators=300, min_samples_split=15, min_samples_leaf=1, max_features=sqrt, max_depth=15 \n",
      "[CV]  n_estimators=300, min_samples_split=15, min_samples_leaf=1, max_features=sqrt, max_depth=15, total=   1.9s\n",
      "[CV] n_estimators=300, min_samples_split=15, min_samples_leaf=1, max_features=sqrt, max_depth=15 \n",
      "[CV]  n_estimators=300, min_samples_split=15, min_samples_leaf=1, max_features=sqrt, max_depth=15, total=   1.9s\n",
      "[CV] n_estimators=300, min_samples_split=15, min_samples_leaf=1, max_features=sqrt, max_depth=15 \n",
      "[CV]  n_estimators=300, min_samples_split=15, min_samples_leaf=1, max_features=sqrt, max_depth=15, total=   2.0s\n",
      "[CV] n_estimators=300, min_samples_split=15, min_samples_leaf=1, max_features=sqrt, max_depth=15 \n",
      "[CV]  n_estimators=300, min_samples_split=15, min_samples_leaf=1, max_features=sqrt, max_depth=15, total=   2.0s\n",
      "[CV] n_estimators=700, min_samples_split=10, min_samples_leaf=2, max_features=sqrt, max_depth=5 \n"
     ]
    },
    {
     "name": "stdout",
     "output_type": "stream",
     "text": [
      "[CV]  n_estimators=700, min_samples_split=10, min_samples_leaf=2, max_features=sqrt, max_depth=5, total=   2.9s\n",
      "[CV] n_estimators=700, min_samples_split=10, min_samples_leaf=2, max_features=sqrt, max_depth=5 \n",
      "[CV]  n_estimators=700, min_samples_split=10, min_samples_leaf=2, max_features=sqrt, max_depth=5, total=   3.0s\n",
      "[CV] n_estimators=700, min_samples_split=10, min_samples_leaf=2, max_features=sqrt, max_depth=5 \n",
      "[CV]  n_estimators=700, min_samples_split=10, min_samples_leaf=2, max_features=sqrt, max_depth=5, total=   2.5s\n",
      "[CV] n_estimators=700, min_samples_split=10, min_samples_leaf=2, max_features=sqrt, max_depth=5 \n",
      "[CV]  n_estimators=700, min_samples_split=10, min_samples_leaf=2, max_features=sqrt, max_depth=5, total=   2.5s\n",
      "[CV] n_estimators=700, min_samples_split=10, min_samples_leaf=2, max_features=sqrt, max_depth=5 \n",
      "[CV]  n_estimators=700, min_samples_split=10, min_samples_leaf=2, max_features=sqrt, max_depth=5, total=   2.9s\n",
      "[CV] n_estimators=700, min_samples_split=15, min_samples_leaf=1, max_features=auto, max_depth=20 \n",
      "[CV]  n_estimators=700, min_samples_split=15, min_samples_leaf=1, max_features=auto, max_depth=20, total=  11.9s\n",
      "[CV] n_estimators=700, min_samples_split=15, min_samples_leaf=1, max_features=auto, max_depth=20 \n",
      "[CV]  n_estimators=700, min_samples_split=15, min_samples_leaf=1, max_features=auto, max_depth=20, total=  12.1s\n",
      "[CV] n_estimators=700, min_samples_split=15, min_samples_leaf=1, max_features=auto, max_depth=20 \n",
      "[CV]  n_estimators=700, min_samples_split=15, min_samples_leaf=1, max_features=auto, max_depth=20, total=  12.1s\n",
      "[CV] n_estimators=700, min_samples_split=15, min_samples_leaf=1, max_features=auto, max_depth=20 \n",
      "[CV]  n_estimators=700, min_samples_split=15, min_samples_leaf=1, max_features=auto, max_depth=20, total=  12.3s\n",
      "[CV] n_estimators=700, min_samples_split=15, min_samples_leaf=1, max_features=auto, max_depth=20 \n",
      "[CV]  n_estimators=700, min_samples_split=15, min_samples_leaf=1, max_features=auto, max_depth=20, total=  11.9s\n"
     ]
    },
    {
     "name": "stderr",
     "output_type": "stream",
     "text": [
      "[Parallel(n_jobs=1)]: Done  50 out of  50 | elapsed:  6.2min finished\n"
     ]
    },
    {
     "data": {
      "text/plain": [
       "RandomizedSearchCV(cv=5, error_score=nan,\n",
       "                   estimator=RandomForestRegressor(bootstrap=True,\n",
       "                                                   ccp_alpha=0.0,\n",
       "                                                   criterion='mse',\n",
       "                                                   max_depth=None,\n",
       "                                                   max_features='auto',\n",
       "                                                   max_leaf_nodes=None,\n",
       "                                                   max_samples=None,\n",
       "                                                   min_impurity_decrease=0.0,\n",
       "                                                   min_impurity_split=None,\n",
       "                                                   min_samples_leaf=1,\n",
       "                                                   min_samples_split=2,\n",
       "                                                   min_weight_fraction_leaf=0.0,\n",
       "                                                   n_estimators=100,\n",
       "                                                   n_jobs=None, oob_score=Fals...\n",
       "                   iid='deprecated', n_iter=10, n_jobs=1,\n",
       "                   param_distributions={'max_depth': [5, 10, 15, 20, 25, 30],\n",
       "                                        'max_features': ['auto', 'sqrt'],\n",
       "                                        'min_samples_leaf': [1, 2, 5, 10],\n",
       "                                        'min_samples_split': [2, 5, 10, 15,\n",
       "                                                              100],\n",
       "                                        'n_estimators': [100, 200, 300, 400,\n",
       "                                                         500, 600, 700, 800,\n",
       "                                                         900, 1000, 1100,\n",
       "                                                         1200]},\n",
       "                   pre_dispatch='2*n_jobs', random_state=42, refit=True,\n",
       "                   return_train_score=False, scoring='neg_mean_squared_error',\n",
       "                   verbose=2)"
      ]
     },
     "execution_count": 591,
     "metadata": {},
     "output_type": "execute_result"
    }
   ],
   "source": [
    "rfrand.fit(X_train,y_train)"
   ]
  },
  {
   "cell_type": "code",
   "execution_count": 592,
   "metadata": {},
   "outputs": [
    {
     "data": {
      "text/plain": [
       "{'n_estimators': 700,\n",
       " 'min_samples_split': 15,\n",
       " 'min_samples_leaf': 1,\n",
       " 'max_features': 'auto',\n",
       " 'max_depth': 20}"
      ]
     },
     "execution_count": 592,
     "metadata": {},
     "output_type": "execute_result"
    }
   ],
   "source": [
    "rfrand.best_params_"
   ]
  },
  {
   "cell_type": "code",
   "execution_count": 593,
   "metadata": {},
   "outputs": [
    {
     "data": {
      "text/plain": [
       "RandomForestRegressor(bootstrap=True, ccp_alpha=0.0, criterion='mse',\n",
       "                      max_depth=20, max_features='auto', max_leaf_nodes=None,\n",
       "                      max_samples=None, min_impurity_decrease=0.0,\n",
       "                      min_impurity_split=None, min_samples_leaf=1,\n",
       "                      min_samples_split=15, min_weight_fraction_leaf=0.0,\n",
       "                      n_estimators=700, n_jobs=None, oob_score=False,\n",
       "                      random_state=None, verbose=0, warm_start=False)"
      ]
     },
     "execution_count": 593,
     "metadata": {},
     "output_type": "execute_result"
    }
   ],
   "source": [
    "rfclf=RandomForestRegressor(n_estimators=700,max_depth=20,min_samples_split=15,min_samples_leaf=1,max_features=\"auto\")\n",
    "rfclf.fit(X_train,y_train)"
   ]
  },
  {
   "cell_type": "code",
   "execution_count": 594,
   "metadata": {},
   "outputs": [],
   "source": [
    "rfpred=rfclf.predict(X_cv)"
   ]
  },
  {
   "cell_type": "code",
   "execution_count": 595,
   "metadata": {},
   "outputs": [
    {
     "data": {
      "image/png": "[encoded data removed]",
      "text/plain": [
       "<Figure size 576x576 with 1 Axes>"
      ]
     },
     "metadata": {},
     "output_type": "display_data"
    }
   ],
   "source": [
    "plt.figure(figsize = (8,8))\n",
    "plt.scatter(y_cv, rfpred, alpha = 0.5)\n",
    "plt.xlabel(\"y_test\")\n",
    "plt.ylabel(\"y_pred\")\n",
    "plt.show()"
   ]
  },
  {
   "cell_type": "code",
   "execution_count": 596,
   "metadata": {},
   "outputs": [
    {
     "name": "stdout",
     "output_type": "stream",
     "text": [
      "MAE: 1076.1605911623883\n",
      "RMSE: 1615.6760229503016\n"
     ]
    }
   ],
   "source": [
    "print('MAE:', metrics.mean_absolute_error(y_cv, rfpred))\n",
    "print('RMSE:', np.sqrt(metrics.mean_squared_error(y_cv, rfpred)))"
   ]
  },
  {
   "cell_type": "markdown",
   "metadata": {},
   "source": [
    "#### Model 3-GBDT"
   ]
  },
  {
   "cell_type": "code",
   "execution_count": 597,
   "metadata": {},
   "outputs": [],
   "source": [
    "gbmodel=GradientBoostingRegressor()"
   ]
  },
  {
   "cell_type": "code",
   "execution_count": 598,
   "metadata": {},
   "outputs": [],
   "source": [
    "max_features = list(range(1,x_tr.shape[1]))\n",
    "min_samples_leafs = np.linspace(0.1, 0.5, 5, endpoint=True)\n",
    "min_samples_splits = np.linspace(0.1, 1.0, 10, endpoint=True)\n",
    "max_depths = np.linspace(1, 32, 32, endpoint=True)\n",
    "n_estimators = [1, 2, 4, 8, 16, 32, 64, 100, 200]\n",
    "learning_rates = [1, 0.5, 0.25, 0.1, 0.05, 0.01]"
   ]
  },
  {
   "cell_type": "code",
   "execution_count": 599,
   "metadata": {},
   "outputs": [],
   "source": [
    "gbparam={'learning_rate':learning_rates,\n",
    "        'n_estimators':n_estimators ,\n",
    "        'max_depth':max_depths,\n",
    "        'min_samples_split':min_samples_splits,\n",
    "       'min_samples_leaf':min_samples_leafs,\n",
    "        'max_features':max_features}"
   ]
  },
  {
   "cell_type": "code",
   "execution_count": 600,
   "metadata": {},
   "outputs": [],
   "source": [
    "gbrand = RandomizedSearchCV(estimator = gbmodel, param_distributions=gbparam,scoring='neg_mean_squared_error', n_iter = 10, cv = 5, verbose=2, random_state=42, n_jobs = 1)"
   ]
  },
  {
   "cell_type": "code",
   "execution_count": 601,
   "metadata": {},
   "outputs": [
    {
     "name": "stdout",
     "output_type": "stream",
     "text": [
      "Fitting 5 folds for each of 10 candidates, totalling 50 fits\n",
      "[CV] n_estimators=100, min_samples_split=0.8, min_samples_leaf=0.2, max_features=18, max_depth=30.0, learning_rate=0.01 \n"
     ]
    },
    {
     "name": "stderr",
     "output_type": "stream",
     "text": [
      "[Parallel(n_jobs=1)]: Using backend SequentialBackend with 1 concurrent workers.\n"
     ]
    },
    {
     "name": "stdout",
     "output_type": "stream",
     "text": [
      "[CV]  n_estimators=100, min_samples_split=0.8, min_samples_leaf=0.2, max_features=18, max_depth=30.0, learning_rate=0.01, total=   0.5s\n",
      "[CV] n_estimators=100, min_samples_split=0.8, min_samples_leaf=0.2, max_features=18, max_depth=30.0, learning_rate=0.01 \n"
     ]
    },
    {
     "name": "stderr",
     "output_type": "stream",
     "text": [
      "[Parallel(n_jobs=1)]: Done   1 out of   1 | elapsed:    0.4s remaining:    0.0s\n"
     ]
    },
    {
     "name": "stdout",
     "output_type": "stream",
     "text": [
      "[CV]  n_estimators=100, min_samples_split=0.8, min_samples_leaf=0.2, max_features=18, max_depth=30.0, learning_rate=0.01, total=   0.3s\n",
      "[CV] n_estimators=100, min_samples_split=0.8, min_samples_leaf=0.2, max_features=18, max_depth=30.0, learning_rate=0.01 \n",
      "[CV]  n_estimators=100, min_samples_split=0.8, min_samples_leaf=0.2, max_features=18, max_depth=30.0, learning_rate=0.01, total=   0.3s\n",
      "[CV] n_estimators=100, min_samples_split=0.8, min_samples_leaf=0.2, max_features=18, max_depth=30.0, learning_rate=0.01 \n",
      "[CV]  n_estimators=100, min_samples_split=0.8, min_samples_leaf=0.2, max_features=18, max_depth=30.0, learning_rate=0.01, total=   0.3s\n",
      "[CV] n_estimators=100, min_samples_split=0.8, min_samples_leaf=0.2, max_features=18, max_depth=30.0, learning_rate=0.01 \n",
      "[CV]  n_estimators=100, min_samples_split=0.8, min_samples_leaf=0.2, max_features=18, max_depth=30.0, learning_rate=0.01, total=   0.3s\n",
      "[CV] n_estimators=1, min_samples_split=0.7000000000000001, min_samples_leaf=0.30000000000000004, max_features=14, max_depth=31.0, learning_rate=0.01 \n",
      "[CV]  n_estimators=1, min_samples_split=0.7000000000000001, min_samples_leaf=0.30000000000000004, max_features=14, max_depth=31.0, learning_rate=0.01, total=   0.0s\n",
      "[CV] n_estimators=1, min_samples_split=0.7000000000000001, min_samples_leaf=0.30000000000000004, max_features=14, max_depth=31.0, learning_rate=0.01 \n",
      "[CV]  n_estimators=1, min_samples_split=0.7000000000000001, min_samples_leaf=0.30000000000000004, max_features=14, max_depth=31.0, learning_rate=0.01, total=   0.0s\n",
      "[CV] n_estimators=1, min_samples_split=0.7000000000000001, min_samples_leaf=0.30000000000000004, max_features=14, max_depth=31.0, learning_rate=0.01 \n",
      "[CV]  n_estimators=1, min_samples_split=0.7000000000000001, min_samples_leaf=0.30000000000000004, max_features=14, max_depth=31.0, learning_rate=0.01, total=   0.0s\n",
      "[CV] n_estimators=1, min_samples_split=0.7000000000000001, min_samples_leaf=0.30000000000000004, max_features=14, max_depth=31.0, learning_rate=0.01 \n",
      "[CV]  n_estimators=1, min_samples_split=0.7000000000000001, min_samples_leaf=0.30000000000000004, max_features=14, max_depth=31.0, learning_rate=0.01, total=   0.0s\n",
      "[CV] n_estimators=1, min_samples_split=0.7000000000000001, min_samples_leaf=0.30000000000000004, max_features=14, max_depth=31.0, learning_rate=0.01 \n",
      "[CV]  n_estimators=1, min_samples_split=0.7000000000000001, min_samples_leaf=0.30000000000000004, max_features=14, max_depth=31.0, learning_rate=0.01, total=   0.0s\n",
      "[CV] n_estimators=32, min_samples_split=0.30000000000000004, min_samples_leaf=0.4, max_features=18, max_depth=17.0, learning_rate=0.05 \n",
      "[CV]  n_estimators=32, min_samples_split=0.30000000000000004, min_samples_leaf=0.4, max_features=18, max_depth=17.0, learning_rate=0.05, total=   0.1s\n",
      "[CV] n_estimators=32, min_samples_split=0.30000000000000004, min_samples_leaf=0.4, max_features=18, max_depth=17.0, learning_rate=0.05 \n",
      "[CV]  n_estimators=32, min_samples_split=0.30000000000000004, min_samples_leaf=0.4, max_features=18, max_depth=17.0, learning_rate=0.05, total=   0.1s\n",
      "[CV] n_estimators=32, min_samples_split=0.30000000000000004, min_samples_leaf=0.4, max_features=18, max_depth=17.0, learning_rate=0.05 \n",
      "[CV]  n_estimators=32, min_samples_split=0.30000000000000004, min_samples_leaf=0.4, max_features=18, max_depth=17.0, learning_rate=0.05, total=   0.1s\n",
      "[CV] n_estimators=32, min_samples_split=0.30000000000000004, min_samples_leaf=0.4, max_features=18, max_depth=17.0, learning_rate=0.05 \n",
      "[CV]  n_estimators=32, min_samples_split=0.30000000000000004, min_samples_leaf=0.4, max_features=18, max_depth=17.0, learning_rate=0.05, total=   0.1s\n",
      "[CV] n_estimators=32, min_samples_split=0.30000000000000004, min_samples_leaf=0.4, max_features=18, max_depth=17.0, learning_rate=0.05 \n",
      "[CV]  n_estimators=32, min_samples_split=0.30000000000000004, min_samples_leaf=0.4, max_features=18, max_depth=17.0, learning_rate=0.05, total=   0.1s\n",
      "[CV] n_estimators=1, min_samples_split=0.30000000000000004, min_samples_leaf=0.1, max_features=12, max_depth=10.0, learning_rate=1 \n",
      "[CV]  n_estimators=1, min_samples_split=0.30000000000000004, min_samples_leaf=0.1, max_features=12, max_depth=10.0, learning_rate=1, total=   0.0s\n",
      "[CV] n_estimators=1, min_samples_split=0.30000000000000004, min_samples_leaf=0.1, max_features=12, max_depth=10.0, learning_rate=1 \n",
      "[CV]  n_estimators=1, min_samples_split=0.30000000000000004, min_samples_leaf=0.1, max_features=12, max_depth=10.0, learning_rate=1, total=   0.0s\n",
      "[CV] n_estimators=1, min_samples_split=0.30000000000000004, min_samples_leaf=0.1, max_features=12, max_depth=10.0, learning_rate=1 \n",
      "[CV]  n_estimators=1, min_samples_split=0.30000000000000004, min_samples_leaf=0.1, max_features=12, max_depth=10.0, learning_rate=1, total=   0.0s\n",
      "[CV] n_estimators=1, min_samples_split=0.30000000000000004, min_samples_leaf=0.1, max_features=12, max_depth=10.0, learning_rate=1 \n",
      "[CV]  n_estimators=1, min_samples_split=0.30000000000000004, min_samples_leaf=0.1, max_features=12, max_depth=10.0, learning_rate=1, total=   0.0s\n",
      "[CV] n_estimators=1, min_samples_split=0.30000000000000004, min_samples_leaf=0.1, max_features=12, max_depth=10.0, learning_rate=1 \n",
      "[CV]  n_estimators=1, min_samples_split=0.30000000000000004, min_samples_leaf=0.1, max_features=12, max_depth=10.0, learning_rate=1, total=   0.0s\n",
      "[CV] n_estimators=8, min_samples_split=0.4, min_samples_leaf=0.1, max_features=16, max_depth=31.0, learning_rate=0.5 \n",
      "[CV]  n_estimators=8, min_samples_split=0.4, min_samples_leaf=0.1, max_features=16, max_depth=31.0, learning_rate=0.5, total=   0.0s\n",
      "[CV] n_estimators=8, min_samples_split=0.4, min_samples_leaf=0.1, max_features=16, max_depth=31.0, learning_rate=0.5 \n",
      "[CV]  n_estimators=8, min_samples_split=0.4, min_samples_leaf=0.1, max_features=16, max_depth=31.0, learning_rate=0.5, total=   0.0s\n",
      "[CV] n_estimators=8, min_samples_split=0.4, min_samples_leaf=0.1, max_features=16, max_depth=31.0, learning_rate=0.5 \n",
      "[CV]  n_estimators=8, min_samples_split=0.4, min_samples_leaf=0.1, max_features=16, max_depth=31.0, learning_rate=0.5, total=   0.0s\n",
      "[CV] n_estimators=8, min_samples_split=0.4, min_samples_leaf=0.1, max_features=16, max_depth=31.0, learning_rate=0.5 \n",
      "[CV]  n_estimators=8, min_samples_split=0.4, min_samples_leaf=0.1, max_features=16, max_depth=31.0, learning_rate=0.5, total=   0.1s\n",
      "[CV] n_estimators=8, min_samples_split=0.4, min_samples_leaf=0.1, max_features=16, max_depth=31.0, learning_rate=0.5 \n",
      "[CV]  n_estimators=8, min_samples_split=0.4, min_samples_leaf=0.1, max_features=16, max_depth=31.0, learning_rate=0.5, total=   0.0s\n",
      "[CV] n_estimators=32, min_samples_split=0.7000000000000001, min_samples_leaf=0.30000000000000004, max_features=26, max_depth=31.0, learning_rate=0.01 \n",
      "[CV]  n_estimators=32, min_samples_split=0.7000000000000001, min_samples_leaf=0.30000000000000004, max_features=26, max_depth=31.0, learning_rate=0.01, total=   0.1s\n",
      "[CV] n_estimators=32, min_samples_split=0.7000000000000001, min_samples_leaf=0.30000000000000004, max_features=26, max_depth=31.0, learning_rate=0.01 \n",
      "[CV]  n_estimators=32, min_samples_split=0.7000000000000001, min_samples_leaf=0.30000000000000004, max_features=26, max_depth=31.0, learning_rate=0.01, total=   0.1s\n",
      "[CV] n_estimators=32, min_samples_split=0.7000000000000001, min_samples_leaf=0.30000000000000004, max_features=26, max_depth=31.0, learning_rate=0.01 \n",
      "[CV]  n_estimators=32, min_samples_split=0.7000000000000001, min_samples_leaf=0.30000000000000004, max_features=26, max_depth=31.0, learning_rate=0.01, total=   0.1s\n",
      "[CV] n_estimators=32, min_samples_split=0.7000000000000001, min_samples_leaf=0.30000000000000004, max_features=26, max_depth=31.0, learning_rate=0.01 \n",
      "[CV]  n_estimators=32, min_samples_split=0.7000000000000001, min_samples_leaf=0.30000000000000004, max_features=26, max_depth=31.0, learning_rate=0.01, total=   0.1s\n",
      "[CV] n_estimators=32, min_samples_split=0.7000000000000001, min_samples_leaf=0.30000000000000004, max_features=26, max_depth=31.0, learning_rate=0.01 \n",
      "[CV]  n_estimators=32, min_samples_split=0.7000000000000001, min_samples_leaf=0.30000000000000004, max_features=26, max_depth=31.0, learning_rate=0.01, total=   0.1s\n",
      "[CV] n_estimators=2, min_samples_split=0.6, min_samples_leaf=0.5, max_features=5, max_depth=7.0, learning_rate=0.05 \n",
      "[CV]  n_estimators=2, min_samples_split=0.6, min_samples_leaf=0.5, max_features=5, max_depth=7.0, learning_rate=0.05, total=   0.0s\n",
      "[CV] n_estimators=2, min_samples_split=0.6, min_samples_leaf=0.5, max_features=5, max_depth=7.0, learning_rate=0.05 \n",
      "[CV]  n_estimators=2, min_samples_split=0.6, min_samples_leaf=0.5, max_features=5, max_depth=7.0, learning_rate=0.05, total=   0.0s\n",
      "[CV] n_estimators=2, min_samples_split=0.6, min_samples_leaf=0.5, max_features=5, max_depth=7.0, learning_rate=0.05 \n",
      "[CV]  n_estimators=2, min_samples_split=0.6, min_samples_leaf=0.5, max_features=5, max_depth=7.0, learning_rate=0.05, total=   0.0s\n",
      "[CV] n_estimators=2, min_samples_split=0.6, min_samples_leaf=0.5, max_features=5, max_depth=7.0, learning_rate=0.05 \n",
      "[CV]  n_estimators=2, min_samples_split=0.6, min_samples_leaf=0.5, max_features=5, max_depth=7.0, learning_rate=0.05, total=   0.0s\n",
      "[CV] n_estimators=2, min_samples_split=0.6, min_samples_leaf=0.5, max_features=5, max_depth=7.0, learning_rate=0.05 \n"
     ]
    },
    {
     "name": "stdout",
     "output_type": "stream",
     "text": [
      "[CV]  n_estimators=2, min_samples_split=0.6, min_samples_leaf=0.5, max_features=5, max_depth=7.0, learning_rate=0.05, total=   0.0s\n",
      "[CV] n_estimators=1, min_samples_split=0.7000000000000001, min_samples_leaf=0.4, max_features=6, max_depth=12.0, learning_rate=0.01 \n",
      "[CV]  n_estimators=1, min_samples_split=0.7000000000000001, min_samples_leaf=0.4, max_features=6, max_depth=12.0, learning_rate=0.01, total=   0.0s\n",
      "[CV] n_estimators=1, min_samples_split=0.7000000000000001, min_samples_leaf=0.4, max_features=6, max_depth=12.0, learning_rate=0.01 \n",
      "[CV]  n_estimators=1, min_samples_split=0.7000000000000001, min_samples_leaf=0.4, max_features=6, max_depth=12.0, learning_rate=0.01, total=   0.0s\n",
      "[CV] n_estimators=1, min_samples_split=0.7000000000000001, min_samples_leaf=0.4, max_features=6, max_depth=12.0, learning_rate=0.01 \n",
      "[CV]  n_estimators=1, min_samples_split=0.7000000000000001, min_samples_leaf=0.4, max_features=6, max_depth=12.0, learning_rate=0.01, total=   0.0s\n",
      "[CV] n_estimators=1, min_samples_split=0.7000000000000001, min_samples_leaf=0.4, max_features=6, max_depth=12.0, learning_rate=0.01 \n",
      "[CV]  n_estimators=1, min_samples_split=0.7000000000000001, min_samples_leaf=0.4, max_features=6, max_depth=12.0, learning_rate=0.01, total=   0.0s\n",
      "[CV] n_estimators=1, min_samples_split=0.7000000000000001, min_samples_leaf=0.4, max_features=6, max_depth=12.0, learning_rate=0.01 \n",
      "[CV]  n_estimators=1, min_samples_split=0.7000000000000001, min_samples_leaf=0.4, max_features=6, max_depth=12.0, learning_rate=0.01, total=   0.0s\n",
      "[CV] n_estimators=16, min_samples_split=0.1, min_samples_leaf=0.4, max_features=3, max_depth=2.0, learning_rate=0.1 \n",
      "[CV]  n_estimators=16, min_samples_split=0.1, min_samples_leaf=0.4, max_features=3, max_depth=2.0, learning_rate=0.1, total=   0.0s\n",
      "[CV] n_estimators=16, min_samples_split=0.1, min_samples_leaf=0.4, max_features=3, max_depth=2.0, learning_rate=0.1 \n",
      "[CV]  n_estimators=16, min_samples_split=0.1, min_samples_leaf=0.4, max_features=3, max_depth=2.0, learning_rate=0.1, total=   0.0s\n",
      "[CV] n_estimators=16, min_samples_split=0.1, min_samples_leaf=0.4, max_features=3, max_depth=2.0, learning_rate=0.1 \n",
      "[CV]  n_estimators=16, min_samples_split=0.1, min_samples_leaf=0.4, max_features=3, max_depth=2.0, learning_rate=0.1, total=   0.0s\n",
      "[CV] n_estimators=16, min_samples_split=0.1, min_samples_leaf=0.4, max_features=3, max_depth=2.0, learning_rate=0.1 \n",
      "[CV]  n_estimators=16, min_samples_split=0.1, min_samples_leaf=0.4, max_features=3, max_depth=2.0, learning_rate=0.1, total=   0.0s\n",
      "[CV] n_estimators=16, min_samples_split=0.1, min_samples_leaf=0.4, max_features=3, max_depth=2.0, learning_rate=0.1 \n",
      "[CV]  n_estimators=16, min_samples_split=0.1, min_samples_leaf=0.4, max_features=3, max_depth=2.0, learning_rate=0.1, total=   0.0s\n",
      "[CV] n_estimators=200, min_samples_split=0.8, min_samples_leaf=0.2, max_features=26, max_depth=10.0, learning_rate=0.1 \n",
      "[CV]  n_estimators=200, min_samples_split=0.8, min_samples_leaf=0.2, max_features=26, max_depth=10.0, learning_rate=0.1, total=   0.6s\n",
      "[CV] n_estimators=200, min_samples_split=0.8, min_samples_leaf=0.2, max_features=26, max_depth=10.0, learning_rate=0.1 \n",
      "[CV]  n_estimators=200, min_samples_split=0.8, min_samples_leaf=0.2, max_features=26, max_depth=10.0, learning_rate=0.1, total=   0.9s\n",
      "[CV] n_estimators=200, min_samples_split=0.8, min_samples_leaf=0.2, max_features=26, max_depth=10.0, learning_rate=0.1 \n",
      "[CV]  n_estimators=200, min_samples_split=0.8, min_samples_leaf=0.2, max_features=26, max_depth=10.0, learning_rate=0.1, total=   0.8s\n",
      "[CV] n_estimators=200, min_samples_split=0.8, min_samples_leaf=0.2, max_features=26, max_depth=10.0, learning_rate=0.1 \n",
      "[CV]  n_estimators=200, min_samples_split=0.8, min_samples_leaf=0.2, max_features=26, max_depth=10.0, learning_rate=0.1, total=   0.6s\n",
      "[CV] n_estimators=200, min_samples_split=0.8, min_samples_leaf=0.2, max_features=26, max_depth=10.0, learning_rate=0.1 \n",
      "[CV]  n_estimators=200, min_samples_split=0.8, min_samples_leaf=0.2, max_features=26, max_depth=10.0, learning_rate=0.1, total=   0.8s\n"
     ]
    },
    {
     "name": "stderr",
     "output_type": "stream",
     "text": [
      "[Parallel(n_jobs=1)]: Done  50 out of  50 | elapsed:    6.8s finished\n"
     ]
    },
    {
     "data": {
      "text/plain": [
       "RandomizedSearchCV(cv=5, error_score=nan,\n",
       "                   estimator=GradientBoostingRegressor(alpha=0.9, ccp_alpha=0.0,\n",
       "                                                       criterion='friedman_mse',\n",
       "                                                       init=None,\n",
       "                                                       learning_rate=0.1,\n",
       "                                                       loss='ls', max_depth=3,\n",
       "                                                       max_features=None,\n",
       "                                                       max_leaf_nodes=None,\n",
       "                                                       min_impurity_decrease=0.0,\n",
       "                                                       min_impurity_split=None,\n",
       "                                                       min_samples_leaf=1,\n",
       "                                                       min_samples_split=2,\n",
       "                                                       min_weight_fraction_leaf=0.0,\n",
       "                                                       n_estimators=100,\n",
       "                                                       n_...\n",
       "                                        'max_features': [1, 2, 3, 4, 5, 6, 7, 8,\n",
       "                                                         9, 10, 11, 12, 13, 14,\n",
       "                                                         15, 16, 17, 18, 19, 20,\n",
       "                                                         21, 22, 23, 24, 25,\n",
       "                                                         26],\n",
       "                                        'min_samples_leaf': array([0.1, 0.2, 0.3, 0.4, 0.5]),\n",
       "                                        'min_samples_split': array([0.1, 0.2, 0.3, 0.4, 0.5, 0.6, 0.7, 0.8, 0.9, 1. ]),\n",
       "                                        'n_estimators': [1, 2, 4, 8, 16, 32, 64,\n",
       "                                                         100, 200]},\n",
       "                   pre_dispatch='2*n_jobs', random_state=42, refit=True,\n",
       "                   return_train_score=False, scoring='neg_mean_squared_error',\n",
       "                   verbose=2)"
      ]
     },
     "execution_count": 601,
     "metadata": {},
     "output_type": "execute_result"
    }
   ],
   "source": [
    "gbrand.fit(X_train,y_train)"
   ]
  },
  {
   "cell_type": "code",
   "execution_count": 602,
   "metadata": {},
   "outputs": [
    {
     "data": {
      "text/plain": [
       "{'n_estimators': 8,\n",
       " 'min_samples_split': 0.4,\n",
       " 'min_samples_leaf': 0.1,\n",
       " 'max_features': 16,\n",
       " 'max_depth': 31.0,\n",
       " 'learning_rate': 0.5}"
      ]
     },
     "execution_count": 602,
     "metadata": {},
     "output_type": "execute_result"
    }
   ],
   "source": [
    "gbrand.best_params_"
   ]
  },
  {
   "cell_type": "code",
   "execution_count": 603,
   "metadata": {},
   "outputs": [],
   "source": [
    "gbclf=gbmodel=GradientBoostingRegressor(n_estimators= 8,min_samples_split=0.4,min_samples_leaf= 0.1,max_features=16,max_depth=31.0,learning_rate=0.5)"
   ]
  },
  {
   "cell_type": "code",
   "execution_count": 604,
   "metadata": {},
   "outputs": [
    {
     "data": {
      "text/plain": [
       "GradientBoostingRegressor(alpha=0.9, ccp_alpha=0.0, criterion='friedman_mse',\n",
       "                          init=None, learning_rate=0.5, loss='ls',\n",
       "                          max_depth=25.0, max_features=4, max_leaf_nodes=None,\n",
       "                          min_impurity_decrease=0.0, min_impurity_split=None,\n",
       "                          min_samples_leaf=0.1, min_samples_split=0.4,\n",
       "                          min_weight_fraction_leaf=0.0, n_estimators=8,\n",
       "                          n_iter_no_change=None, presort='deprecated',\n",
       "                          random_state=None, subsample=1.0, tol=0.0001,\n",
       "                          validation_fraction=0.1, verbose=0, warm_start=False)"
      ]
     },
     "execution_count": 604,
     "metadata": {},
     "output_type": "execute_result"
    }
   ],
   "source": [
    "gbclf.fit(X_train,y_train)"
   ]
  },
  {
   "cell_type": "code",
   "execution_count": 605,
   "metadata": {},
   "outputs": [],
   "source": [
    "gbpred=gbclf.predict(X_cv)"
   ]
  },
  {
   "cell_type": "code",
   "execution_count": 606,
   "metadata": {},
   "outputs": [
    {
     "name": "stdout",
     "output_type": "stream",
     "text": [
      "MAE: 1968.2150538273875\n",
      "RMSE: 2604.9452682534197\n"
     ]
    }
   ],
   "source": [
    "print('MAE:', metrics.mean_absolute_error(y_cv, gbpred))\n",
    "print('RMSE:', np.sqrt(metrics.mean_squared_error(y_cv, gbpred)))"
   ]
  },
  {
   "cell_type": "markdown",
   "metadata": {},
   "source": [
    "#### Summary"
   ]
  },
  {
   "cell_type": "code",
   "execution_count": 607,
   "metadata": {},
   "outputs": [
    {
     "name": "stdout",
     "output_type": "stream",
     "text": [
      "+--------------+---------+---------+\n",
      "|    Model     |   MAE   |   RMSE  |\n",
      "+--------------+---------+---------+\n",
      "|     KNN      | 1820.24 | 2681.45 |\n",
      "| RandomForest | 1076.16 | 1615.68 |\n",
      "|     GBDT     | 1968.22 | 2604.95 |\n",
      "+--------------+---------+---------+\n"
     ]
    }
   ],
   "source": [
    "tb = PrettyTable()\n",
    "tb.field_names = [ \"Model\", 'MAE','RMSE' ]\n",
    "tb.add_row([\"KNN\",round(metrics.mean_absolute_error(y_cv, knnpred),2),round(np.sqrt(metrics.mean_squared_error(y_cv, knnpred)),2)])\n",
    "tb.add_row([\"RandomForest\",round(metrics.mean_absolute_error(y_cv, rfpred),2),round(np.sqrt(metrics.mean_squared_error(y_cv, rfpred)),2)])\n",
    "tb.add_row([\"GBDT\",round(metrics.mean_absolute_error(y_cv, gbpred),2),round(np.sqrt(metrics.mean_squared_error(y_cv, gbpred)),2)])\n",
    "\n",
    "print(tb)"
   ]
  },
  {
   "cell_type": "code",
   "execution_count": 608,
   "metadata": {},
   "outputs": [
    {
     "data": {
      "text/plain": [
       "\"\\nimport pickle\\nfile = open('randomforest4.pkl', 'wb')\\npickle.dump(rfclf, file)\\n\""
      ]
     },
     "execution_count": 608,
     "metadata": {},
     "output_type": "execute_result"
    }
   ],
   "source": [
    "'''\n",
    "import pickle\n",
    "file = open('flight.pkl', 'wb')\n",
    "pickle.dump(rfclf, file)\n",
    "'''"
   ]
  },
  {
   "cell_type": "code",
   "execution_count": null,
   "metadata": {},
   "outputs": [],
   "source": []
  }
 ],
 "metadata": {
  "kernelspec": {
   "display_name": "Python 3",
   "language": "python",
   "name": "python3"
  },
  "language_info": {
   "codemirror_mode": {
    "name": "ipython",
    "version": 3
   },
   "file_extension": ".py",
   "mimetype": "text/x-python",
   "name": "python",
   "nbconvert_exporter": "python",
   "pygments_lexer": "ipython3",
   "version": "3.7.6"
  }
 },
 "nbformat": 4,
 "nbformat_minor": 4
}
